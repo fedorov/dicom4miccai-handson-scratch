{
 "cells": [
  {
   "cell_type": "markdown",
   "metadata": {},
   "source": [
    "# EXPLORATION OF TCIA QIN-HEADNECK DATA COLLECTION\n",
    "\n",
    "This is a Jupyter Notebook that demonstrates how Python can be used to explore the content of a publicly available DICOM dataset stored on The Cancer Imaging Archive (TCIA) and described here: https://wiki.cancerimagingarchive.net/display/Public/QIN-HEADNECK. \n",
    "\n",
    "This notebook was created as part of the preparations to the [DICOM4MICCAI tutorial](http://qiicr.org/dicom4miccai) at the [MICCAI 2017 conference](https://miccai2017.org) on Sept 10, 2017. \n",
    "\n",
    "The tutorial was organized by the [Quantitative Image Informatics for Cancer Research (QIICR)](http://qiicr.org) project funded by the [Informatics Technology for Cancer Research (ITCR)](https://itcr.nci.nih.gov/) program of the National Cancer Institute, award U24 CA180918.\n",
    "\n",
    "More pointers related to the material covered in this notebook:\n",
    "\n",
    "* DICOM4MICCAI gitbook https://qiicr.gitbooks.io/dicom4miccai-handson\n",
    "* dcmqi: conversion between DICOM and quantitative image analysis results https://github.com/QIICR/dcmqi\n",
    "* QIICR project GitHub organization: https://github.org/QIICR\n",
    "* QIICR home page: http://qiicr.org\n",
    "\n",
    "## Feedback\n",
    "\n",
    "Questions, comments, suggestions, corrections are welcomed!\n",
    "\n",
    "Please email `andrey.fedorov@gmail.com`, or [join the discussion on gitter]( https://gitter.im/QIICR/dcmqi)!"
   ]
  },
  {
   "cell_type": "markdown",
   "metadata": {},
   "source": [
    "## Table of Contents\n",
    "\n",
    "* <a href=\"#Introduction-and-prerequisites\">Introduction and prerequisites</a>\n",
    "* <a href=\"#Dataset-overview\">Dataset overview</a>\n",
    "\n",
    "* <a href=\"#Further-reading\">Further reading</a>"
   ]
  },
  {
   "cell_type": "markdown",
   "metadata": {},
   "source": [
    "## Introduction and prerequisites\n",
    "\n",
    "The goal of this tutorial is to demonstrate how Python can be used to work with the data produced by quantitative image analysis and stored using the DICOM format. \n",
    "\n",
    "You don't need to know much about DICOM to follow along, but you will need to learn more about it if you want to adopt it in your work. You will find pointers in the <a href=\"#Further-reading\">Further reading</a> section."
   ]
  },
  {
   "cell_type": "markdown",
   "metadata": {},
   "source": [
    "# Dataset overview\n",
    "\n",
    "The dataset used in this tutorial is discussed in detail in this publication:\n",
    "\n",
    "> Fedorov A., Clunie D., Ulrich E., Bauer C., Wahle A., Brown B., Onken M., Riesmeier J., Pieper S., Kikinis R., Buatti J., Beichel RR. _DICOM for quantitative imaging biomarker development: a standards based approach to sharing clinical data and structured PET/CT analysis results in head and neck cancer research_. PeerJ 4:e2057, 2016. DOI: [10.7717/peerj.2057](https://dx.doi.org/10.7717/peerj.2057)\n",
    "\n",
    "Here is a bird's eye view of the QIN-HEADNECK dataset: \n",
    "* 156 subjects with head and neck cancer\n",
    "* each subject had one or more PET/CT study (each study is expected to include a CT and a PET imaging series) for disease staging and treatment response assessment\n",
    "* images for a subset of 59 subjects were analyzedas follows:\n",
    " * primary tumor and the involved lymph nodes were segmented by each of the two readers, on two occasions, using [3D Slicer](http://slicer.org) both manually and using an interactive automated segmentation tool described in [this publicly available paper](http://onlinelibrary.wiley.com/doi/10.1118/1.4948679/full)\n",
    " * the following reference regions used for PET normalization were segmented using automatic tools: cerebellum, liver and aortic arch\n",
    " * all segmentations were saved as DICOM Segmentation objects\n",
    " * quantitative measurements were calculated from the PET images after applying Standardized Uptake Value (SUV) normalilzation for all the regions defined by the segmentations\n",
    " * all resulting measurements were saved as DICOM Structured Report obects following [DICOM SR Template 1500](http://dicom.nema.org/medical/dicom/current/output/chtml/part16/chapter_A.html#sect_TID_1500)\n",
    "   \n",
    "![](https://dfzljdn9uc3pi.cloudfront.net/2016/2057/1/fig-1-2x.jpg)\n"
   ]
  },
  {
   "cell_type": "markdown",
   "metadata": {},
   "source": [
    "The DICOM dataset was converted into a collection of tables using this converter script: https://github.com/QIICR/dcm2tables. The script extracts data elements from the DICOM files and stores them as a collection of tab-delimited text files that follow [this schema](https://app.quickdatabasediagrams.com/#/schema/_71V1H1AXEqqKWDnvx4VXw)."
   ]
  },
  {
   "cell_type": "markdown",
   "metadata": {},
   "source": [
    "## Tools\n",
    "\n",
    "In this demonstration we will use the following Python packages:\n",
    "* Pandas for working with the tabular data\n",
    "* numpy for numerical operations\n",
    "* [matplotlib](https://matplotlib.org/index.html), [seaborn](https://seaborn.pydata.org/) and [bokeh](http://bokeh.pydata.org/en/latest/) for plotting\n",
    "\n",
    "If you are working with this notebook on your own system, you will need to install those packages as a prerequisite to import the packages!\n",
    "\n",
    "## Data\n",
    "\n",
    "You can download the collection of the extracted tables here: https://github.com/fedorov/dicom4miccai-handson/releases/download/untagged-f8d939ebd97e5895e439/QIN-HEADNECK-tables.zip. Unzip the file, note the location of the resulting directory, and set the value of the variable below to that location."
   ]
  },
  {
   "cell_type": "code",
   "execution_count": 4,
   "metadata": {
    "collapsed": true
   },
   "outputs": [],
   "source": [
    "import numpy as np\n",
    "import pandas as pd\n",
    "import matplotlib.pyplot as plt"
   ]
  },
  {
   "cell_type": "code",
   "execution_count": 5,
   "metadata": {
    "collapsed": true
   },
   "outputs": [],
   "source": [
    "tablesPath = '/home/jovyan/data/QIN-HEADNECK-tables'\n",
    "#tablesPath = '/Users/fedorov/Dropbox (Partners HealthCare)/ImageData/QIICR/QIN-HEADNECK/QIN-HEADNECK-tables-no_clinical/'"
   ]
  },
  {
   "cell_type": "code",
   "execution_count": 9,
   "metadata": {},
   "outputs": [
    {
     "data": {
      "text/plain": [
       "Index(['BodyPartExamined', 'ManufacturerModelName', 'Modality', 'PatientAge',\n",
       "       'PatientID', 'PatientName', 'PatientSex', 'PatientWeight',\n",
       "       'SOPClassUID', 'SOPInstanceUID', 'SeriesDate', 'SeriesDescription',\n",
       "       'SeriesInstanceUID', 'SeriesTime', 'SoftwareVersions', 'StudyDate',\n",
       "       'StudyDescription', 'StudyInstanceUID', 'StudyTime'],\n",
       "      dtype='object')"
      ]
     },
     "execution_count": 9,
     "metadata": {},
     "output_type": "execute_result"
    }
   ],
   "source": [
    "CompositeContext_df=pd.read_csv(tablesPath+'/CompositeContext.tsv', sep='\\t',low_memory=False)\n",
    "CompositeContext_df.columns"
   ]
  },
  {
   "cell_type": "code",
   "execution_count": 10,
   "metadata": {},
   "outputs": [],
   "source": [
    "SR_df = pd.read_csv(tablesPath+'/SR.tsv', sep='\\t', low_memory=False)\n",
    "SR1500_MeasurementGroups_df = pd.read_csv(tablesPath+'/SR1500_MeasurementGroups.tsv', sep='\\t', low_memory=False)\n",
    "SR1500_Measurements_df = pd.read_csv(tablesPath+'/SR1500_Measurements.tsv', sep='\\t', low_memory=False)"
   ]
  },
  {
   "cell_type": "code",
   "execution_count": 11,
   "metadata": {},
   "outputs": [
    {
     "data": {
      "text/plain": [
       "(12891, 24)"
      ]
     },
     "execution_count": 11,
     "metadata": {},
     "output_type": "execute_result"
    }
   ],
   "source": [
    "SR_merged = pd.merge(SR1500_Measurements_df,SR1500_MeasurementGroups_df,on=[\"SOPInstanceUID\",\"TrackingUniqueIdentifier\"])\n",
    "SR_merged.shape"
   ]
  },
  {
   "cell_type": "code",
   "execution_count": 12,
   "metadata": {},
   "outputs": [
    {
     "data": {
      "text/plain": [
       "(12891, 42)"
      ]
     },
     "execution_count": 12,
     "metadata": {},
     "output_type": "execute_result"
    }
   ],
   "source": [
    "SR_merged=pd.merge(SR_merged, CompositeContext_df, on=\"SOPInstanceUID\")\n",
    "SR_merged.shape"
   ]
  },
  {
   "cell_type": "code",
   "execution_count": 13,
   "metadata": {
    "collapsed": true
   },
   "outputs": [],
   "source": [
    "SR_merged[\"segmentationToolType\"] = \\\n",
    " SR_merged[\"SeriesDescription\"].apply(lambda toolType: toolType.split(\" \")[-3] if toolType.split(\" \")[-3] in [\"Manual\",\"SemiAuto\"] else \"Auto\")\n",
    "#SR_merged[\"segmentationToolType\"]"
   ]
  },
  {
   "cell_type": "code",
   "execution_count": 14,
   "metadata": {},
   "outputs": [
    {
     "data": {
      "text/plain": [
       "Index(['ReferencedSOPClassUID', 'ReferencedSOPInstanceUID', 'SOPInstanceUID',\n",
       "       'SeriesInstanceUID'],\n",
       "      dtype='object')"
      ]
     },
     "execution_count": 14,
     "metadata": {},
     "output_type": "execute_result"
    }
   ],
   "source": [
    "References_df=pd.read_csv(tablesPath+'/References.tsv', sep='\\t', low_memory=False)\n",
    "References_df.columns"
   ]
  },
  {
   "cell_type": "code",
   "execution_count": 15,
   "metadata": {},
   "outputs": [
    {
     "data": {
      "text/plain": [
       "(900, 2)"
      ]
     },
     "execution_count": 15,
     "metadata": {},
     "output_type": "execute_result"
    }
   ],
   "source": [
    "series_df=CompositeContext_df.drop_duplicates(subset=\"SeriesInstanceUID\")\n",
    "\n",
    "# All references to SEG (only Measurements point to SEG in our case, \n",
    "#  and each SR should point to exactly one SEG!)\n",
    "segReferences = References_df[References_df[\"ReferencedSOPClassUID\"]=='1.2.840.10008.5.1.4.1.1.66.4']\n",
    "segReferences = segReferences[[\"SOPInstanceUID\",\"SeriesInstanceUID\"]].rename(columns={\"SeriesInstanceUID\":\"ReferencedSeriesInstanceUID\"})\n",
    "segReferences.shape"
   ]
  },
  {
   "cell_type": "code",
   "execution_count": 16,
   "metadata": {},
   "outputs": [
    {
     "data": {
      "text/html": [
       "\n",
       "    <div class=\"bk-root\">\n",
       "        <a href=\"http://bokeh.pydata.org\" target=\"_blank\" class=\"bk-logo bk-logo-small bk-logo-notebook\"></a>\n",
       "        <span id=\"dd9dfa22-160f-4c47-aa7c-771dc63a7c71\">Loading BokehJS ...</span>\n",
       "    </div>"
      ]
     },
     "metadata": {},
     "output_type": "display_data"
    },
    {
     "data": {
      "application/javascript": [
       "\n",
       "(function(global) {\n",
       "  function now() {\n",
       "    return new Date();\n",
       "  }\n",
       "\n",
       "  var force = true;\n",
       "\n",
       "  if (typeof (window._bokeh_onload_callbacks) === \"undefined\" || force === true) {\n",
       "    window._bokeh_onload_callbacks = [];\n",
       "    window._bokeh_is_loading = undefined;\n",
       "  }\n",
       "\n",
       "\n",
       "  \n",
       "  if (typeof (window._bokeh_timeout) === \"undefined\" || force === true) {\n",
       "    window._bokeh_timeout = Date.now() + 5000;\n",
       "    window._bokeh_failed_load = false;\n",
       "  }\n",
       "\n",
       "  var NB_LOAD_WARNING = {'data': {'text/html':\n",
       "     \"<div style='background-color: #fdd'>\\n\"+\n",
       "     \"<p>\\n\"+\n",
       "     \"BokehJS does not appear to have successfully loaded. If loading BokehJS from CDN, this \\n\"+\n",
       "     \"may be due to a slow or bad network connection. Possible fixes:\\n\"+\n",
       "     \"</p>\\n\"+\n",
       "     \"<ul>\\n\"+\n",
       "     \"<li>re-rerun `output_notebook()` to attempt to load from CDN again, or</li>\\n\"+\n",
       "     \"<li>use INLINE resources instead, as so:</li>\\n\"+\n",
       "     \"</ul>\\n\"+\n",
       "     \"<code>\\n\"+\n",
       "     \"from bokeh.resources import INLINE\\n\"+\n",
       "     \"output_notebook(resources=INLINE)\\n\"+\n",
       "     \"</code>\\n\"+\n",
       "     \"</div>\"}};\n",
       "\n",
       "  function display_loaded() {\n",
       "    if (window.Bokeh !== undefined) {\n",
       "      var el = document.getElementById(\"dd9dfa22-160f-4c47-aa7c-771dc63a7c71\");\n",
       "      el.textContent = \"BokehJS \" + Bokeh.version + \" successfully loaded.\";\n",
       "    } else if (Date.now() < window._bokeh_timeout) {\n",
       "      setTimeout(display_loaded, 100)\n",
       "    }\n",
       "  }\n",
       "\n",
       "  function run_callbacks() {\n",
       "    try {\n",
       "      window._bokeh_onload_callbacks.forEach(function(callback) { callback() });\n",
       "    }\n",
       "    finally {\n",
       "      delete window._bokeh_onload_callbacks\n",
       "    }\n",
       "    console.info(\"Bokeh: all callbacks have finished\");\n",
       "  }\n",
       "\n",
       "  function load_libs(js_urls, callback) {\n",
       "    window._bokeh_onload_callbacks.push(callback);\n",
       "    if (window._bokeh_is_loading > 0) {\n",
       "      console.log(\"Bokeh: BokehJS is being loaded, scheduling callback at\", now());\n",
       "      return null;\n",
       "    }\n",
       "    if (js_urls == null || js_urls.length === 0) {\n",
       "      run_callbacks();\n",
       "      return null;\n",
       "    }\n",
       "    console.log(\"Bokeh: BokehJS not loaded, scheduling load and callback at\", now());\n",
       "    window._bokeh_is_loading = js_urls.length;\n",
       "    for (var i = 0; i < js_urls.length; i++) {\n",
       "      var url = js_urls[i];\n",
       "      var s = document.createElement('script');\n",
       "      s.src = url;\n",
       "      s.async = false;\n",
       "      s.onreadystatechange = s.onload = function() {\n",
       "        window._bokeh_is_loading--;\n",
       "        if (window._bokeh_is_loading === 0) {\n",
       "          console.log(\"Bokeh: all BokehJS libraries loaded\");\n",
       "          run_callbacks()\n",
       "        }\n",
       "      };\n",
       "      s.onerror = function() {\n",
       "        console.warn(\"failed to load library \" + url);\n",
       "      };\n",
       "      console.log(\"Bokeh: injecting script tag for BokehJS library: \", url);\n",
       "      document.getElementsByTagName(\"head\")[0].appendChild(s);\n",
       "    }\n",
       "  };var element = document.getElementById(\"dd9dfa22-160f-4c47-aa7c-771dc63a7c71\");\n",
       "  if (element == null) {\n",
       "    console.log(\"Bokeh: ERROR: autoload.js configured with elementid 'dd9dfa22-160f-4c47-aa7c-771dc63a7c71' but no matching script tag was found. \")\n",
       "    return false;\n",
       "  }\n",
       "\n",
       "  var js_urls = [\"https://cdn.pydata.org/bokeh/release/bokeh-0.12.6.min.js\", \"https://cdn.pydata.org/bokeh/release/bokeh-widgets-0.12.6.min.js\"];\n",
       "\n",
       "  var inline_js = [\n",
       "    function(Bokeh) {\n",
       "      Bokeh.set_log_level(\"info\");\n",
       "    },\n",
       "    \n",
       "    function(Bokeh) {\n",
       "      \n",
       "    },\n",
       "    \n",
       "    function(Bokeh) {\n",
       "      \n",
       "      document.getElementById(\"dd9dfa22-160f-4c47-aa7c-771dc63a7c71\").textContent = \"BokehJS is loading...\";\n",
       "    },\n",
       "    function(Bokeh) {\n",
       "      console.log(\"Bokeh: injecting CSS: https://cdn.pydata.org/bokeh/release/bokeh-0.12.6.min.css\");\n",
       "      Bokeh.embed.inject_css(\"https://cdn.pydata.org/bokeh/release/bokeh-0.12.6.min.css\");\n",
       "      console.log(\"Bokeh: injecting CSS: https://cdn.pydata.org/bokeh/release/bokeh-widgets-0.12.6.min.css\");\n",
       "      Bokeh.embed.inject_css(\"https://cdn.pydata.org/bokeh/release/bokeh-widgets-0.12.6.min.css\");\n",
       "    }\n",
       "  ];\n",
       "\n",
       "  function run_inline_js() {\n",
       "    \n",
       "    if ((window.Bokeh !== undefined) || (force === true)) {\n",
       "      for (var i = 0; i < inline_js.length; i++) {\n",
       "        inline_js[i](window.Bokeh);\n",
       "      }if (force === true) {\n",
       "        display_loaded();\n",
       "      }} else if (Date.now() < window._bokeh_timeout) {\n",
       "      setTimeout(run_inline_js, 100);\n",
       "    } else if (!window._bokeh_failed_load) {\n",
       "      console.log(\"Bokeh: BokehJS failed to load within specified timeout.\");\n",
       "      window._bokeh_failed_load = true;\n",
       "    } else if (force !== true) {\n",
       "      var cell = $(document.getElementById(\"dd9dfa22-160f-4c47-aa7c-771dc63a7c71\")).parents('.cell').data().cell;\n",
       "      cell.output_area.append_execute_result(NB_LOAD_WARNING)\n",
       "    }\n",
       "\n",
       "  }\n",
       "\n",
       "  if (window._bokeh_is_loading === 0) {\n",
       "    console.log(\"Bokeh: BokehJS loaded, going straight to plotting\");\n",
       "    run_inline_js();\n",
       "  } else {\n",
       "    load_libs(js_urls, function() {\n",
       "      console.log(\"Bokeh: BokehJS plotting callback run at\", now());\n",
       "      run_inline_js();\n",
       "    });\n",
       "  }\n",
       "}(this));"
      ]
     },
     "metadata": {},
     "output_type": "display_data"
    }
   ],
   "source": [
    "from bokeh.models import ColumnDataSource, OpenURL, TapTool\n",
    "from bokeh.plotting import figure, output_file, show\n",
    "from bokeh.io import output_notebook\n",
    "from bokeh.colors import RGB\n",
    "\n",
    "from bokeh.models import HoverTool, PanTool, WheelZoomTool, BoxZoomTool, ResetTool, TapTool\n",
    "\n",
    "output_notebook()\n",
    "\n",
    "volume = []\n",
    "user = []\n",
    "method = []\n",
    "sesssion = []\n",
    "subject = []\n",
    "\n",
    "SR_merged = pd.merge(SR_merged, segReferences)\n",
    "\n",
    "\n",
    "subset = SR_merged[SR_merged[\"PersonObserverName\"]==\"User1\"]\n",
    "subset = subset[subset[\"Finding_CodeMeaning\"]==\"Neoplasm, Primary\"]\n",
    "subset = subset[subset[\"quantity_CodeMeaning\"]==\"Volume\"]\n",
    "#subset = subset[subset[\"activitySession\"]==1]\n",
    "#subset = subset[subset[\"segmentationToolType\"]==\"SemiAuto\"]\n",
    "\n",
    "#subset.sort_values(\"value\", inplace=True)\n",
    "\n",
    "#subset=subset[subset[\"PatientID\"]==\"QIN-HEADNECK-01-0003\"]"
   ]
  },
  {
   "cell_type": "code",
   "execution_count": 18,
   "metadata": {},
   "outputs": [
    {
     "data": {
      "text/html": [
       "\n",
       "\n",
       "    <div class=\"bk-root\">\n",
       "        <div class=\"bk-plotdiv\" id=\"fe522b8f-0479-49d1-96b7-5a31fe7c1345\"></div>\n",
       "    </div>\n",
       "<script type=\"text/javascript\">\n",
       "  \n",
       "  (function(global) {\n",
       "    function now() {\n",
       "      return new Date();\n",
       "    }\n",
       "  \n",
       "    var force = false;\n",
       "  \n",
       "    if (typeof (window._bokeh_onload_callbacks) === \"undefined\" || force === true) {\n",
       "      window._bokeh_onload_callbacks = [];\n",
       "      window._bokeh_is_loading = undefined;\n",
       "    }\n",
       "  \n",
       "  \n",
       "    \n",
       "    if (typeof (window._bokeh_timeout) === \"undefined\" || force === true) {\n",
       "      window._bokeh_timeout = Date.now() + 0;\n",
       "      window._bokeh_failed_load = false;\n",
       "    }\n",
       "  \n",
       "    var NB_LOAD_WARNING = {'data': {'text/html':\n",
       "       \"<div style='background-color: #fdd'>\\n\"+\n",
       "       \"<p>\\n\"+\n",
       "       \"BokehJS does not appear to have successfully loaded. If loading BokehJS from CDN, this \\n\"+\n",
       "       \"may be due to a slow or bad network connection. Possible fixes:\\n\"+\n",
       "       \"</p>\\n\"+\n",
       "       \"<ul>\\n\"+\n",
       "       \"<li>re-rerun `output_notebook()` to attempt to load from CDN again, or</li>\\n\"+\n",
       "       \"<li>use INLINE resources instead, as so:</li>\\n\"+\n",
       "       \"</ul>\\n\"+\n",
       "       \"<code>\\n\"+\n",
       "       \"from bokeh.resources import INLINE\\n\"+\n",
       "       \"output_notebook(resources=INLINE)\\n\"+\n",
       "       \"</code>\\n\"+\n",
       "       \"</div>\"}};\n",
       "  \n",
       "    function display_loaded() {\n",
       "      if (window.Bokeh !== undefined) {\n",
       "        var el = document.getElementById(\"fe522b8f-0479-49d1-96b7-5a31fe7c1345\");\n",
       "        el.textContent = \"BokehJS \" + Bokeh.version + \" successfully loaded.\";\n",
       "      } else if (Date.now() < window._bokeh_timeout) {\n",
       "        setTimeout(display_loaded, 100)\n",
       "      }\n",
       "    }\n",
       "  \n",
       "    function run_callbacks() {\n",
       "      try {\n",
       "        window._bokeh_onload_callbacks.forEach(function(callback) { callback() });\n",
       "      }\n",
       "      finally {\n",
       "        delete window._bokeh_onload_callbacks\n",
       "      }\n",
       "      console.info(\"Bokeh: all callbacks have finished\");\n",
       "    }\n",
       "  \n",
       "    function load_libs(js_urls, callback) {\n",
       "      window._bokeh_onload_callbacks.push(callback);\n",
       "      if (window._bokeh_is_loading > 0) {\n",
       "        console.log(\"Bokeh: BokehJS is being loaded, scheduling callback at\", now());\n",
       "        return null;\n",
       "      }\n",
       "      if (js_urls == null || js_urls.length === 0) {\n",
       "        run_callbacks();\n",
       "        return null;\n",
       "      }\n",
       "      console.log(\"Bokeh: BokehJS not loaded, scheduling load and callback at\", now());\n",
       "      window._bokeh_is_loading = js_urls.length;\n",
       "      for (var i = 0; i < js_urls.length; i++) {\n",
       "        var url = js_urls[i];\n",
       "        var s = document.createElement('script');\n",
       "        s.src = url;\n",
       "        s.async = false;\n",
       "        s.onreadystatechange = s.onload = function() {\n",
       "          window._bokeh_is_loading--;\n",
       "          if (window._bokeh_is_loading === 0) {\n",
       "            console.log(\"Bokeh: all BokehJS libraries loaded\");\n",
       "            run_callbacks()\n",
       "          }\n",
       "        };\n",
       "        s.onerror = function() {\n",
       "          console.warn(\"failed to load library \" + url);\n",
       "        };\n",
       "        console.log(\"Bokeh: injecting script tag for BokehJS library: \", url);\n",
       "        document.getElementsByTagName(\"head\")[0].appendChild(s);\n",
       "      }\n",
       "    };var element = document.getElementById(\"fe522b8f-0479-49d1-96b7-5a31fe7c1345\");\n",
       "    if (element == null) {\n",
       "      console.log(\"Bokeh: ERROR: autoload.js configured with elementid 'fe522b8f-0479-49d1-96b7-5a31fe7c1345' but no matching script tag was found. \")\n",
       "      return false;\n",
       "    }\n",
       "  \n",
       "    var js_urls = [];\n",
       "  \n",
       "    var inline_js = [\n",
       "      function(Bokeh) {\n",
       "        (function() {\n",
       "          var fn = function() {\n",
       "            var docs_json = {\"a4edef71-522e-496a-a1be-79f9edf58639\":{\"roots\":{\"references\":[{\"attributes\":{\"bottom_units\":\"screen\",\"fill_alpha\":{\"value\":0.5},\"fill_color\":{\"value\":\"lightgrey\"},\"left_units\":\"screen\",\"level\":\"overlay\",\"line_alpha\":{\"value\":1.0},\"line_color\":{\"value\":\"black\"},\"line_dash\":[4,4],\"line_width\":{\"value\":2},\"plot\":null,\"render_mode\":\"css\",\"right_units\":\"screen\",\"top_units\":\"screen\"},\"id\":\"6403526e-668a-4d15-8e51-6cebdaffd796\",\"type\":\"BoxAnnotation\"},{\"attributes\":{},\"id\":\"2b309bd8-2ecb-4c2d-a488-55ae8cb3fbe3\",\"type\":\"LinearScale\"},{\"attributes\":{\"plot\":{\"id\":\"fbb688c1-798d-49df-b7bf-7f2aa80b5c88\",\"subtype\":\"Figure\",\"type\":\"Plot\"}},\"id\":\"0c4c1c56-60f5-4bfb-abb3-065e1befddfe\",\"type\":\"PanTool\"},{\"attributes\":{\"data_source\":{\"id\":\"b40af33b-c23e-4d9c-bae8-5eee2b3ba9c8\",\"type\":\"ColumnDataSource\"},\"glyph\":{\"id\":\"965d7d6f-8bc4-47f8-972f-ca7652926062\",\"type\":\"Circle\"},\"hover_glyph\":null,\"muted_glyph\":null,\"nonselection_glyph\":{\"id\":\"9416c61e-9d0a-4e44-8452-7bb4140b28d0\",\"type\":\"Circle\"},\"selection_glyph\":null},\"id\":\"5834c1d3-44ae-4079-9544-9c125b17c386\",\"type\":\"GlyphRenderer\"},{\"attributes\":{\"callback\":null,\"end\":91.3695,\"start\":1.10586},\"id\":\"cae8456d-47e7-4a6d-bbd9-deb020bf92ba\",\"type\":\"Range1d\"},{\"attributes\":{},\"id\":\"a946f124-2824-4590-b4f4-8a7c897ba916\",\"type\":\"BasicTicker\"},{\"attributes\":{},\"id\":\"5d72b7b7-bebd-42f9-a2e7-12035f8c64cc\",\"type\":\"BasicTickFormatter\"},{\"attributes\":{\"plot\":null,\"text\":\"Volume segmentation consistency by User1; manual (red circles) and SemiAutomatic (blue circles)\"},\"id\":\"a95ecd7d-7eb9-4e18-b5c9-2aa42021c920\",\"type\":\"Title\"},{\"attributes\":{\"callback\":null,\"plot\":{\"id\":\"fbb688c1-798d-49df-b7bf-7f2aa80b5c88\",\"subtype\":\"Figure\",\"type\":\"Plot\"},\"tooltips\":[[\"(Volume, Subject)\",\"($x, $y)\"]]},\"id\":\"8345e712-8b1a-44f7-87fc-6bccf83998d9\",\"type\":\"HoverTool\"},{\"attributes\":{\"axis_label\":\"PatientID\",\"formatter\":{\"id\":\"e5942c60-2a10-4e04-bb8e-adeaf9219bc6\",\"type\":\"CategoricalTickFormatter\"},\"plot\":{\"id\":\"fbb688c1-798d-49df-b7bf-7f2aa80b5c88\",\"subtype\":\"Figure\",\"type\":\"Plot\"},\"ticker\":{\"id\":\"67ee8cf9-d2fa-4ff7-8b47-d76ab6f93c71\",\"type\":\"CategoricalTicker\"}},\"id\":\"778a77a6-37d3-4dde-a4c5-ed33d3fbee51\",\"type\":\"CategoricalAxis\"},{\"attributes\":{\"overlay\":{\"id\":\"6403526e-668a-4d15-8e51-6cebdaffd796\",\"type\":\"BoxAnnotation\"},\"plot\":{\"id\":\"fbb688c1-798d-49df-b7bf-7f2aa80b5c88\",\"subtype\":\"Figure\",\"type\":\"Plot\"}},\"id\":\"fe7fe2fc-99ba-4008-95c0-d3a38b0a6a54\",\"type\":\"BoxZoomTool\"},{\"attributes\":{\"callback\":null,\"factors\":[\"QIN-HEADNECK-01-0003\",\"QIN-HEADNECK-01-0003\",\"QIN-HEADNECK-01-0003\",\"QIN-HEADNECK-01-0003\",\"QIN-HEADNECK-01-0017\",\"QIN-HEADNECK-01-0017\",\"QIN-HEADNECK-01-0017\",\"QIN-HEADNECK-01-0017\",\"QIN-HEADNECK-01-0024\",\"QIN-HEADNECK-01-0024\",\"QIN-HEADNECK-01-0024\",\"QIN-HEADNECK-01-0024\",\"QIN-HEADNECK-01-0026\",\"QIN-HEADNECK-01-0026\",\"QIN-HEADNECK-01-0026\",\"QIN-HEADNECK-01-0026\",\"QIN-HEADNECK-01-0028\",\"QIN-HEADNECK-01-0028\",\"QIN-HEADNECK-01-0028\",\"QIN-HEADNECK-01-0028\",\"QIN-HEADNECK-01-0034\",\"QIN-HEADNECK-01-0034\",\"QIN-HEADNECK-01-0034\",\"QIN-HEADNECK-01-0034\",\"QIN-HEADNECK-01-0041\",\"QIN-HEADNECK-01-0041\",\"QIN-HEADNECK-01-0041\",\"QIN-HEADNECK-01-0041\",\"QIN-HEADNECK-01-0046\",\"QIN-HEADNECK-01-0046\",\"QIN-HEADNECK-01-0046\",\"QIN-HEADNECK-01-0046\",\"QIN-HEADNECK-01-0047\",\"QIN-HEADNECK-01-0047\",\"QIN-HEADNECK-01-0047\",\"QIN-HEADNECK-01-0047\",\"QIN-HEADNECK-01-0055\",\"QIN-HEADNECK-01-0055\",\"QIN-HEADNECK-01-0055\",\"QIN-HEADNECK-01-0055\",\"QIN-HEADNECK-01-0057\",\"QIN-HEADNECK-01-0057\",\"QIN-HEADNECK-01-0057\",\"QIN-HEADNECK-01-0057\",\"QIN-HEADNECK-01-0060\",\"QIN-HEADNECK-01-0060\",\"QIN-HEADNECK-01-0060\",\"QIN-HEADNECK-01-0060\",\"QIN-HEADNECK-01-0062\",\"QIN-HEADNECK-01-0062\",\"QIN-HEADNECK-01-0062\",\"QIN-HEADNECK-01-0062\",\"QIN-HEADNECK-01-0064\",\"QIN-HEADNECK-01-0064\",\"QIN-HEADNECK-01-0064\",\"QIN-HEADNECK-01-0064\",\"QIN-HEADNECK-01-0065\",\"QIN-HEADNECK-01-0065\",\"QIN-HEADNECK-01-0065\",\"QIN-HEADNECK-01-0065\",\"QIN-HEADNECK-01-0067\",\"QIN-HEADNECK-01-0067\",\"QIN-HEADNECK-01-0067\",\"QIN-HEADNECK-01-0067\",\"QIN-HEADNECK-01-0071\",\"QIN-HEADNECK-01-0071\",\"QIN-HEADNECK-01-0071\",\"QIN-HEADNECK-01-0071\",\"QIN-HEADNECK-01-0074\",\"QIN-HEADNECK-01-0074\",\"QIN-HEADNECK-01-0074\",\"QIN-HEADNECK-01-0074\",\"QIN-HEADNECK-01-0079\",\"QIN-HEADNECK-01-0079\",\"QIN-HEADNECK-01-0079\",\"QIN-HEADNECK-01-0079\",\"QIN-HEADNECK-01-0081\",\"QIN-HEADNECK-01-0081\",\"QIN-HEADNECK-01-0081\",\"QIN-HEADNECK-01-0081\",\"QIN-HEADNECK-01-0086\",\"QIN-HEADNECK-01-0086\",\"QIN-HEADNECK-01-0086\",\"QIN-HEADNECK-01-0086\",\"QIN-HEADNECK-01-0089\",\"QIN-HEADNECK-01-0089\",\"QIN-HEADNECK-01-0089\",\"QIN-HEADNECK-01-0089\",\"QIN-HEADNECK-01-0091\",\"QIN-HEADNECK-01-0091\",\"QIN-HEADNECK-01-0091\",\"QIN-HEADNECK-01-0091\",\"QIN-HEADNECK-01-0098\",\"QIN-HEADNECK-01-0098\",\"QIN-HEADNECK-01-0098\",\"QIN-HEADNECK-01-0098\",\"QIN-HEADNECK-01-0100\",\"QIN-HEADNECK-01-0100\",\"QIN-HEADNECK-01-0100\",\"QIN-HEADNECK-01-0100\",\"QIN-HEADNECK-01-0112\",\"QIN-HEADNECK-01-0112\",\"QIN-HEADNECK-01-0112\",\"QIN-HEADNECK-01-0112\",\"QIN-HEADNECK-01-0115\",\"QIN-HEADNECK-01-0115\",\"QIN-HEADNECK-01-0115\",\"QIN-HEADNECK-01-0115\",\"QIN-HEADNECK-01-0116\",\"QIN-HEADNECK-01-0116\",\"QIN-HEADNECK-01-0116\",\"QIN-HEADNECK-01-0116\",\"QIN-HEADNECK-01-0118\",\"QIN-HEADNECK-01-0118\",\"QIN-HEADNECK-01-0118\",\"QIN-HEADNECK-01-0118\",\"QIN-HEADNECK-01-0120\",\"QIN-HEADNECK-01-0120\",\"QIN-HEADNECK-01-0120\",\"QIN-HEADNECK-01-0120\",\"QIN-HEADNECK-01-0127\",\"QIN-HEADNECK-01-0127\",\"QIN-HEADNECK-01-0127\",\"QIN-HEADNECK-01-0127\",\"QIN-HEADNECK-01-0129\",\"QIN-HEADNECK-01-0129\",\"QIN-HEADNECK-01-0129\",\"QIN-HEADNECK-01-0129\",\"QIN-HEADNECK-01-0131\",\"QIN-HEADNECK-01-0131\",\"QIN-HEADNECK-01-0131\",\"QIN-HEADNECK-01-0131\",\"QIN-HEADNECK-01-0135\",\"QIN-HEADNECK-01-0135\",\"QIN-HEADNECK-01-0135\",\"QIN-HEADNECK-01-0135\",\"QIN-HEADNECK-01-0137\",\"QIN-HEADNECK-01-0137\",\"QIN-HEADNECK-01-0137\",\"QIN-HEADNECK-01-0137\",\"QIN-HEADNECK-01-0139\",\"QIN-HEADNECK-01-0139\",\"QIN-HEADNECK-01-0139\",\"QIN-HEADNECK-01-0139\",\"QIN-HEADNECK-01-0140\",\"QIN-HEADNECK-01-0140\",\"QIN-HEADNECK-01-0140\",\"QIN-HEADNECK-01-0140\",\"QIN-HEADNECK-01-0157\",\"QIN-HEADNECK-01-0157\",\"QIN-HEADNECK-01-0157\",\"QIN-HEADNECK-01-0157\",\"QIN-HEADNECK-01-0164\",\"QIN-HEADNECK-01-0164\",\"QIN-HEADNECK-01-0164\",\"QIN-HEADNECK-01-0164\",\"QIN-HEADNECK-01-0165\",\"QIN-HEADNECK-01-0165\",\"QIN-HEADNECK-01-0165\",\"QIN-HEADNECK-01-0165\",\"QIN-HEADNECK-01-0172\",\"QIN-HEADNECK-01-0172\",\"QIN-HEADNECK-01-0172\",\"QIN-HEADNECK-01-0172\",\"QIN-HEADNECK-01-0180\",\"QIN-HEADNECK-01-0180\",\"QIN-HEADNECK-01-0180\",\"QIN-HEADNECK-01-0180\",\"QIN-HEADNECK-01-0184\",\"QIN-HEADNECK-01-0184\",\"QIN-HEADNECK-01-0184\",\"QIN-HEADNECK-01-0184\",\"QIN-HEADNECK-01-0186\",\"QIN-HEADNECK-01-0186\",\"QIN-HEADNECK-01-0186\",\"QIN-HEADNECK-01-0186\",\"QIN-HEADNECK-01-0190\",\"QIN-HEADNECK-01-0190\",\"QIN-HEADNECK-01-0190\",\"QIN-HEADNECK-01-0190\",\"QIN-HEADNECK-01-0199\",\"QIN-HEADNECK-01-0199\",\"QIN-HEADNECK-01-0199\",\"QIN-HEADNECK-01-0199\",\"QIN-HEADNECK-01-0200\",\"QIN-HEADNECK-01-0200\",\"QIN-HEADNECK-01-0200\",\"QIN-HEADNECK-01-0200\",\"QIN-HEADNECK-01-0201\",\"QIN-HEADNECK-01-0201\",\"QIN-HEADNECK-01-0201\",\"QIN-HEADNECK-01-0201\",\"QIN-HEADNECK-01-0203\",\"QIN-HEADNECK-01-0203\",\"QIN-HEADNECK-01-0203\",\"QIN-HEADNECK-01-0203\",\"QIN-HEADNECK-01-0212\",\"QIN-HEADNECK-01-0212\",\"QIN-HEADNECK-01-0212\",\"QIN-HEADNECK-01-0212\",\"QIN-HEADNECK-01-0214\",\"QIN-HEADNECK-01-0214\",\"QIN-HEADNECK-01-0214\",\"QIN-HEADNECK-01-0214\",\"QIN-HEADNECK-01-0220\",\"QIN-HEADNECK-01-0220\",\"QIN-HEADNECK-01-0220\",\"QIN-HEADNECK-01-0220\",\"QIN-HEADNECK-01-0222\",\"QIN-HEADNECK-01-0222\",\"QIN-HEADNECK-01-0222\",\"QIN-HEADNECK-01-0222\",\"QIN-HEADNECK-01-0224\",\"QIN-HEADNECK-01-0224\",\"QIN-HEADNECK-01-0224\",\"QIN-HEADNECK-01-0224\",\"QIN-HEADNECK-01-0228\",\"QIN-HEADNECK-01-0228\",\"QIN-HEADNECK-01-0228\",\"QIN-HEADNECK-01-0228\",\"QIN-HEADNECK-01-0239\",\"QIN-HEADNECK-01-0239\",\"QIN-HEADNECK-01-0239\",\"QIN-HEADNECK-01-0239\",\"QIN-HEADNECK-01-0244\",\"QIN-HEADNECK-01-0244\",\"QIN-HEADNECK-01-0244\",\"QIN-HEADNECK-01-0244\",\"QIN-HEADNECK-01-0275\",\"QIN-HEADNECK-01-0275\",\"QIN-HEADNECK-01-0275\",\"QIN-HEADNECK-01-0275\",\"QIN-HEADNECK-01-0366\",\"QIN-HEADNECK-01-0366\",\"QIN-HEADNECK-01-0366\",\"QIN-HEADNECK-01-0366\"]},\"id\":\"804236b2-5160-4f88-a66a-4f2bdebff50e\",\"type\":\"FactorRange\"},{\"attributes\":{\"fill_color\":{\"field\":\"color\"},\"line_color\":{\"field\":\"color\"},\"x\":{\"field\":\"x\"},\"y\":{\"field\":\"y\"}},\"id\":\"965d7d6f-8bc4-47f8-972f-ca7652926062\",\"type\":\"Circle\"},{\"attributes\":{\"active_drag\":\"auto\",\"active_inspect\":\"auto\",\"active_scroll\":\"auto\",\"active_tap\":\"auto\",\"tools\":[{\"id\":\"8345e712-8b1a-44f7-87fc-6bccf83998d9\",\"type\":\"HoverTool\"},{\"id\":\"5deece14-9045-41a4-b039-be389af69267\",\"type\":\"WheelZoomTool\"},{\"id\":\"fe7fe2fc-99ba-4008-95c0-d3a38b0a6a54\",\"type\":\"BoxZoomTool\"},{\"id\":\"e5a7d841-9e43-4005-a8b5-f2464b61ba96\",\"type\":\"ResetTool\"},{\"id\":\"dff70d98-57fe-4d41-81cf-95fb31dae5fe\",\"type\":\"TapTool\"},{\"id\":\"0c4c1c56-60f5-4bfb-abb3-065e1befddfe\",\"type\":\"PanTool\"}]},\"id\":\"e5f5b182-7eee-41c0-ad22-247b42ef1d20\",\"type\":\"Toolbar\"},{\"attributes\":{\"callback\":null,\"column_names\":[\"y\",\"seriesUID\",\"color\",\"x\"],\"data\":{\"color\":[\"red\",\"red\",\"blue\",\"blue\",\"red\",\"red\",\"blue\",\"blue\",\"red\",\"red\",\"blue\",\"blue\",\"red\",\"red\",\"blue\",\"blue\",\"red\",\"red\",\"blue\",\"blue\",\"red\",\"red\",\"blue\",\"blue\",\"red\",\"red\",\"blue\",\"blue\",\"red\",\"red\",\"blue\",\"blue\",\"red\",\"red\",\"blue\",\"blue\",\"red\",\"red\",\"blue\",\"blue\",\"red\",\"blue\",\"blue\",\"red\",\"red\",\"red\",\"blue\",\"blue\",\"red\",\"red\",\"blue\",\"blue\",\"red\",\"red\",\"blue\",\"blue\",\"red\",\"red\",\"blue\",\"blue\",\"red\",\"blue\",\"blue\",\"red\",\"red\",\"red\",\"blue\",\"blue\",\"red\",\"red\",\"blue\",\"blue\",\"red\",\"red\",\"blue\",\"blue\",\"red\",\"red\",\"blue\",\"blue\",\"red\",\"red\",\"blue\",\"blue\",\"red\",\"red\",\"blue\",\"blue\",\"red\",\"red\",\"blue\",\"blue\",\"red\",\"red\",\"blue\",\"blue\",\"red\",\"red\",\"blue\",\"blue\",\"red\",\"red\",\"blue\",\"blue\",\"red\",\"red\",\"blue\",\"blue\",\"red\",\"red\",\"blue\",\"blue\",\"red\",\"red\",\"blue\",\"blue\",\"red\",\"red\",\"blue\",\"blue\",\"red\",\"red\",\"blue\",\"blue\",\"red\",\"red\",\"blue\",\"blue\",\"red\",\"red\",\"blue\",\"blue\",\"red\",\"red\",\"blue\",\"blue\",\"red\",\"red\",\"blue\",\"blue\",\"red\",\"red\",\"blue\",\"blue\",\"red\",\"red\",\"blue\",\"blue\",\"red\",\"red\",\"blue\",\"blue\",\"red\",\"red\",\"blue\",\"blue\",\"red\",\"red\",\"blue\",\"blue\",\"red\",\"red\",\"blue\",\"blue\",\"red\",\"red\",\"blue\",\"blue\",\"red\",\"red\",\"blue\",\"blue\",\"red\",\"red\",\"blue\",\"blue\",\"red\",\"red\",\"blue\",\"blue\",\"red\",\"red\",\"blue\",\"blue\",\"red\",\"red\",\"blue\",\"blue\",\"red\",\"red\",\"blue\",\"blue\",\"red\",\"red\",\"blue\",\"blue\",\"red\",\"red\",\"blue\",\"blue\",\"red\",\"red\",\"blue\",\"blue\",\"red\",\"red\",\"blue\",\"blue\",\"red\",\"red\",\"blue\",\"blue\",\"red\",\"red\",\"blue\",\"blue\",\"red\",\"red\",\"blue\",\"blue\",\"red\",\"red\",\"blue\",\"blue\",\"red\",\"red\",\"blue\",\"blue\",\"red\",\"red\",\"blue\",\"blue\",\"red\",\"red\",\"blue\",\"blue\"],\"seriesUID\":[\"1.2.276.0.7230010.3.1.3.8323329.18355.1440001308.643361\",\"1.2.276.0.7230010.3.1.3.8323329.18414.1440001309.742216\",\"1.2.276.0.7230010.3.1.3.8323329.18473.1440001310.727494\",\"1.2.276.0.7230010.3.1.3.8323329.18532.1440001311.773521\",\"1.2.276.0.7230010.3.1.3.8323329.19180.1440001330.907567\",\"1.2.276.0.7230010.3.1.3.8323329.19236.1440001331.990059\",\"1.2.276.0.7230010.3.1.3.8323329.19291.1440001333.6180\",\"1.2.276.0.7230010.3.1.3.8323329.19346.1440001334.11577\",\"1.2.276.0.7230010.3.1.3.8323329.20013.1440001360.529935\",\"1.2.276.0.7230010.3.1.3.8323329.20093.1440001362.811455\",\"1.2.276.0.7230010.3.1.3.8323329.20179.1440001365.123123\",\"1.2.276.0.7230010.3.1.3.8323329.20256.1440001367.522636\",\"1.2.276.0.7230010.3.1.3.8323329.21173.1440001399.543798\",\"1.2.276.0.7230010.3.1.3.8323329.21323.1440001402.346570\",\"1.2.276.0.7230010.3.1.3.8323329.21461.1440001405.32419\",\"1.2.276.0.7230010.3.1.3.8323329.21598.1440001407.831200\",\"1.2.276.0.7230010.3.1.3.8323329.23038.1440001445.681019\",\"1.2.276.0.7230010.3.1.3.8323329.23151.1440001448.237456\",\"1.2.276.0.7230010.3.1.3.8323329.23276.1440001450.741668\",\"1.2.276.0.7230010.3.1.3.8323329.23394.1440001453.236500\",\"1.2.276.0.7230010.3.1.3.8323329.24556.1440001487.397825\",\"1.2.276.0.7230010.3.1.3.8323329.24639.1440001489.314199\",\"1.2.276.0.7230010.3.1.3.8323329.24720.1440001491.161531\",\"1.2.276.0.7230010.3.1.3.8323329.24800.1440001493.214177\",\"1.2.276.0.7230010.3.1.3.8323329.25691.1440001525.382651\",\"1.2.276.0.7230010.3.1.3.8323329.25808.1440001528.740146\",\"1.2.276.0.7230010.3.1.3.8323329.25927.1440001531.592682\",\"1.2.276.0.7230010.3.1.3.8323329.26046.1440001534.442557\",\"1.2.276.0.7230010.3.1.3.8323329.27170.1440001576.468579\",\"1.2.276.0.7230010.3.1.3.8323329.27254.1440001579.306027\",\"1.2.276.0.7230010.3.1.3.8323329.27340.1440001581.746325\",\"1.2.276.0.7230010.3.1.3.8323329.27428.1440001584.203284\",\"1.2.276.0.7230010.3.1.3.8323329.28391.1440001623.327940\",\"1.2.276.0.7230010.3.1.3.8323329.28543.1440001627.600164\",\"1.2.276.0.7230010.3.1.3.8323329.28685.1440001631.835834\",\"1.2.276.0.7230010.3.1.3.8323329.28827.1440001635.904064\",\"1.2.276.0.7230010.3.1.3.8323329.32095.1440001749.393569\",\"1.2.276.0.7230010.3.1.3.8323329.32154.1440001750.785503\",\"1.2.276.0.7230010.3.1.3.8323329.32217.1440001752.111117\",\"1.2.276.0.7230010.3.1.3.8323329.32280.1440001753.499212\",\"1.2.276.0.7230010.3.1.3.8323329.1022.1440001797.169591\",\"1.2.276.0.7230010.3.1.3.8323329.1345.1440001805.696241\",\"1.2.276.0.7230010.3.1.3.8323329.1658.1440001814.123253\",\"1.2.276.0.7230010.3.1.3.8323329.721.1440001788.799439\",\"1.2.276.0.7230010.3.1.3.8323329.4612.1440001897.831593\",\"1.2.276.0.7230010.3.1.3.8323329.4698.1440001900.146295\",\"1.2.276.0.7230010.3.1.3.8323329.4784.1440001902.201860\",\"1.2.276.0.7230010.3.1.3.8323329.4873.1440001904.322344\",\"1.2.276.0.7230010.3.1.3.8323329.5819.1440001940.850838\",\"1.2.276.0.7230010.3.1.3.8323329.5911.1440001943.143534\",\"1.2.276.0.7230010.3.1.3.8323329.5994.1440001945.588552\",\"1.2.276.0.7230010.3.1.3.8323329.6075.1440001947.894748\",\"1.2.276.0.7230010.3.1.3.8323329.6994.1440001986.64930\",\"1.2.276.0.7230010.3.1.3.8323329.7140.1440001990.116567\",\"1.2.276.0.7230010.3.1.3.8323329.7280.1440001994.218258\",\"1.2.276.0.7230010.3.1.3.8323329.7426.1440001998.290869\",\"1.2.276.0.7230010.3.1.3.8323329.8732.1440002048.761231\",\"1.2.276.0.7230010.3.1.3.8323329.8791.1440002050.289716\",\"1.2.276.0.7230010.3.1.3.8323329.8852.1440002051.835312\",\"1.2.276.0.7230010.3.1.3.8323329.8913.1440002053.472719\",\"1.2.276.0.7230010.3.1.3.8323329.10283.1440002100.119442\",\"1.2.276.0.7230010.3.1.3.8323329.10655.1440002109.662336\",\"1.2.276.0.7230010.3.1.3.8323329.11024.1440002119.559791\",\"1.2.276.0.7230010.3.1.3.8323329.9908.1440002090.541917\",\"1.2.276.0.7230010.3.1.3.8323329.14352.1440002219.325637\",\"1.2.276.0.7230010.3.1.3.8323329.14484.1440002223.355129\",\"1.2.276.0.7230010.3.1.3.8323329.14616.1440002227.389443\",\"1.2.276.0.7230010.3.1.3.8323329.14764.1440002231.557641\",\"1.2.276.0.7230010.3.1.3.8323329.16115.1440002283.903816\",\"1.2.276.0.7230010.3.1.3.8323329.16273.1440002287.895942\",\"1.2.276.0.7230010.3.1.3.8323329.16424.1440002291.926817\",\"1.2.276.0.7230010.3.1.3.8323329.16573.1440002296.25348\",\"1.2.276.0.7230010.3.1.3.8323329.18002.1440002365.914699\",\"1.2.276.0.7230010.3.1.3.8323329.18133.1440002373.731977\",\"1.2.276.0.7230010.3.1.3.8323329.18270.1440002381.495022\",\"1.2.276.0.7230010.3.1.3.8323329.18402.1440002389.692346\",\"1.2.276.0.7230010.3.1.3.8323329.19702.1440002484.332434\",\"1.2.276.0.7230010.3.1.3.8323329.19783.1440002488.528710\",\"1.2.276.0.7230010.3.1.3.8323329.19863.1440002492.568409\",\"1.2.276.0.7230010.3.1.3.8323329.19945.1440002496.803551\",\"1.2.276.0.7230010.3.1.3.8323329.20850.1440002565.196766\",\"1.2.276.0.7230010.3.1.3.8323329.20992.1440002574.745482\",\"1.2.276.0.7230010.3.1.3.8323329.21140.1440002584.160892\",\"1.2.276.0.7230010.3.1.3.8323329.21288.1440002593.502466\",\"1.2.276.0.7230010.3.1.3.8323329.22788.1440002718.954977\",\"1.2.276.0.7230010.3.1.3.8323329.22986.1440002735.393725\",\"1.2.276.0.7230010.3.1.3.8323329.23184.1440002751.869146\",\"1.2.276.0.7230010.3.1.3.8323329.23380.1440002768.328440\",\"1.2.276.0.7230010.3.1.3.8323329.25193.1440002944.757658\",\"1.2.276.0.7230010.3.1.3.8323329.25287.1440002951.209718\",\"1.2.276.0.7230010.3.1.3.8323329.25381.1440002957.617419\",\"1.2.276.0.7230010.3.1.3.8323329.25476.1440002964.610967\",\"1.2.276.0.7230010.3.1.3.8323329.26413.1440003036.112570\",\"1.2.276.0.7230010.3.1.3.8323329.26493.1440003038.427995\",\"1.2.276.0.7230010.3.1.3.8323329.26587.1440003040.838586\",\"1.2.276.0.7230010.3.1.3.8323329.26673.1440003043.428981\",\"1.2.276.0.7230010.3.1.3.8323329.27699.1440003082.71777\",\"1.2.276.0.7230010.3.1.3.8323329.27896.1440003087.279881\",\"1.2.276.0.7230010.3.1.3.8323329.28098.1440003092.430508\",\"1.2.276.0.7230010.3.1.3.8323329.28293.1440003097.533367\",\"1.2.276.0.7230010.3.1.3.8323329.30221.1440003178.555143\",\"1.2.276.0.7230010.3.1.3.8323329.30419.1440003191.894551\",\"1.2.276.0.7230010.3.1.3.8323329.30623.1440003205.89332\",\"1.2.276.0.7230010.3.1.3.8323329.30824.1440003218.358890\",\"1.2.276.0.7230010.3.1.3.8323329.32610.1440003361.868282\",\"1.2.276.0.7230010.3.1.3.8323329.32671.1440003365.521712\",\"1.2.276.0.7230010.3.1.3.8323329.32732.1440003369.470824\",\"1.2.276.0.7230010.3.1.3.8323329.326.1440003372.926746\",\"1.2.276.0.7230010.3.1.3.8323329.1029.1440003442.531877\",\"1.2.276.0.7230010.3.1.3.8323329.1119.1440003449.121953\",\"1.2.276.0.7230010.3.1.3.8323329.1215.1440003455.978829\",\"1.2.276.0.7230010.3.1.3.8323329.1305.1440003462.430084\",\"1.2.276.0.7230010.3.1.3.8323329.2405.1440003562.391081\",\"1.2.276.0.7230010.3.1.3.8323329.2602.1440003574.442792\",\"1.2.276.0.7230010.3.1.3.8323329.2763.1440003586.247509\",\"1.2.276.0.7230010.3.1.3.8323329.2916.1440003598.312054\",\"1.2.276.0.7230010.3.1.3.8323329.4600.1440003710.427472\",\"1.2.276.0.7230010.3.1.3.8323329.4723.1440003713.667235\",\"1.2.276.0.7230010.3.1.3.8323329.4845.1440003716.961146\",\"1.2.276.0.7230010.3.1.3.8323329.4967.1440003720.265840\",\"1.2.276.0.7230010.3.1.3.8323329.6141.1440003764.256389\",\"1.2.276.0.7230010.3.1.3.8323329.6223.1440003766.712100\",\"1.2.276.0.7230010.3.1.3.8323329.6305.1440003769.199654\",\"1.2.276.0.7230010.3.1.3.8323329.6385.1440003771.551835\",\"1.2.276.0.7230010.3.1.3.8323329.7319.1440003830.869197\",\"1.2.276.0.7230010.3.1.3.8323329.7464.1440003841.462390\",\"1.2.276.0.7230010.3.1.3.8323329.7612.1440003851.819824\",\"1.2.276.0.7230010.3.1.3.8323329.7756.1440003862.345734\",\"1.2.276.0.7230010.3.1.3.8323329.9120.1440003986.251961\",\"1.2.276.0.7230010.3.1.3.8323329.9208.1440003992.831778\",\"1.2.276.0.7230010.3.1.3.8323329.9296.1440003999.409397\",\"1.2.276.0.7230010.3.1.3.8323329.9385.1440004006.14525\",\"1.2.276.0.7230010.3.1.3.8323329.10451.1440004107.874118\",\"1.2.276.0.7230010.3.1.3.8323329.10683.1440004124.739109\",\"1.2.276.0.7230010.3.1.3.8323329.10918.1440004141.936505\",\"1.2.276.0.7230010.3.1.3.8323329.11152.1440004159.218252\",\"1.2.276.0.7230010.3.1.3.8323329.13246.1440004315.87298\",\"1.2.276.0.7230010.3.1.3.8323329.13336.1440004317.493692\",\"1.2.276.0.7230010.3.1.3.8323329.13426.1440004319.649436\",\"1.2.276.0.7230010.3.1.3.8323329.13517.1440004321.901241\",\"1.2.276.0.7230010.3.1.3.8323329.14724.1440004401.888205\",\"1.2.276.0.7230010.3.1.3.8323329.15075.1440004431.710298\",\"1.2.276.0.7230010.3.1.3.8323329.15426.1440004461.582693\",\"1.2.276.0.7230010.3.1.3.8323329.15824.1440004495.328691\",\"1.2.276.0.7230010.3.1.3.8323329.20883.1440004849.260420\",\"1.2.276.0.7230010.3.1.3.8323329.21031.1440004853.21979\",\"1.2.276.0.7230010.3.1.3.8323329.21177.1440004856.831083\",\"1.2.276.0.7230010.3.1.3.8323329.21323.1440004860.553756\",\"1.2.276.0.7230010.3.1.3.8323329.22726.1440004902.767253\",\"1.2.276.0.7230010.3.1.3.8323329.22814.1440004904.261022\",\"1.2.276.0.7230010.3.1.3.8323329.22900.1440004905.846590\",\"1.2.276.0.7230010.3.1.3.8323329.22987.1440004907.337513\",\"1.2.276.0.7230010.3.1.3.8323329.23886.1440004934.342398\",\"1.2.276.0.7230010.3.1.3.8323329.23970.1440004936.152878\",\"1.2.276.0.7230010.3.1.3.8323329.24050.1440004937.949605\",\"1.2.276.0.7230010.3.1.3.8323329.24131.1440004939.912878\",\"1.2.276.0.7230010.3.1.3.8323329.25115.1440004970.908554\",\"1.2.276.0.7230010.3.1.3.8323329.25306.1440004974.657646\",\"1.2.276.0.7230010.3.1.3.8323329.25476.1440004978.313928\",\"1.2.276.0.7230010.3.1.3.8323329.25644.1440004982.186431\",\"1.2.276.0.7230010.3.1.3.8323329.27286.1440005024.544278\",\"1.2.276.0.7230010.3.1.3.8323329.27376.1440005026.122038\",\"1.2.276.0.7230010.3.1.3.8323329.27468.1440005027.653559\",\"1.2.276.0.7230010.3.1.3.8323329.27559.1440005029.251402\",\"1.2.276.0.7230010.3.1.3.8323329.28618.1440005056.95960\",\"1.2.276.0.7230010.3.1.3.8323329.28849.1440005060.521933\",\"1.2.276.0.7230010.3.1.3.8323329.29086.1440005064.650053\",\"1.2.276.0.7230010.3.1.3.8323329.29319.1440005069.47950\",\"1.2.276.0.7230010.3.1.3.8323329.31419.1440005123.449037\",\"1.2.276.0.7230010.3.1.3.8323329.31542.1440005126.675494\",\"1.2.276.0.7230010.3.1.3.8323329.31649.1440005130.45870\",\"1.2.276.0.7230010.3.1.3.8323329.31756.1440005133.194251\",\"1.2.276.0.7230010.3.1.3.8323329.499.1440005174.626704\",\"1.2.276.0.7230010.3.1.3.8323329.648.1440005177.765188\",\"1.2.276.0.7230010.3.1.3.8323329.788.1440005181.52273\",\"1.2.276.0.7230010.3.1.3.8323329.934.1440005184.190395\",\"1.2.276.0.7230010.3.1.3.8323329.2633.1440005230.100082\",\"1.2.276.0.7230010.3.1.3.8323329.2899.1440005236.685974\",\"1.2.276.0.7230010.3.1.3.8323329.3158.1440005243.257541\",\"1.2.276.0.7230010.3.1.3.8323329.3501.1440005249.858684\",\"1.2.276.0.7230010.3.1.3.8323329.5936.1440005318.56104\",\"1.2.276.0.7230010.3.1.3.8323329.6062.1440005320.559865\",\"1.2.276.0.7230010.3.1.3.8323329.6188.1440005323.14334\",\"1.2.276.0.7230010.3.1.3.8323329.6305.1440005325.446104\",\"1.2.276.0.7230010.3.1.3.8323329.7481.1440005360.175077\",\"1.2.276.0.7230010.3.1.3.8323329.7559.1440005361.942714\",\"1.2.276.0.7230010.3.1.3.8323329.7637.1440005363.698103\",\"1.2.276.0.7230010.3.1.3.8323329.7715.1440005365.568293\",\"1.2.276.0.7230010.3.1.3.8323329.8685.1440005395.525097\",\"1.2.276.0.7230010.3.1.3.8323329.8902.1440005399.285153\",\"1.2.276.0.7230010.3.1.3.8323329.9106.1440005403.77409\",\"1.2.276.0.7230010.3.1.3.8323329.9311.1440005406.788112\",\"1.2.276.0.7230010.3.1.3.8323329.11236.1440005452.353355\",\"1.2.276.0.7230010.3.1.3.8323329.11379.1440005455.469290\",\"1.2.276.0.7230010.3.1.3.8323329.11511.1440005458.722557\",\"1.2.276.0.7230010.3.1.3.8323329.11650.1440005461.843824\",\"1.2.276.0.7230010.3.1.3.8323329.12956.1440005499.340396\",\"1.2.276.0.7230010.3.1.3.8323329.13042.1440005501.153034\",\"1.2.276.0.7230010.3.1.3.8323329.13128.1440005502.747426\",\"1.2.276.0.7230010.3.1.3.8323329.13217.1440005504.368507\",\"1.2.276.0.7230010.3.1.3.8323329.14106.1440005535.691368\",\"1.2.276.0.7230010.3.1.3.8323329.14165.1440005537.240227\",\"1.2.276.0.7230010.3.1.3.8323329.14224.1440005538.750207\",\"1.2.276.0.7230010.3.1.3.8323329.14284.1440005540.170431\",\"1.2.276.0.7230010.3.1.3.8323329.15032.1440005565.457174\",\"1.2.276.0.7230010.3.1.3.8323329.15174.1440005568.63384\",\"1.2.276.0.7230010.3.1.3.8323329.15316.1440005570.809533\",\"1.2.276.0.7230010.3.1.3.8323329.15456.1440005573.519303\",\"1.2.276.0.7230010.3.1.3.8323329.16797.1440005607.758677\",\"1.2.276.0.7230010.3.1.3.8323329.16883.1440005609.398865\",\"1.2.276.0.7230010.3.1.3.8323329.16967.1440005610.939172\",\"1.2.276.0.7230010.3.1.3.8323329.17053.1440005612.580139\",\"1.2.276.0.7230010.3.1.3.8323329.17985.1440005642.137087\",\"1.2.276.0.7230010.3.1.3.8323329.18110.1440005645.108001\",\"1.2.276.0.7230010.3.1.3.8323329.18234.1440005647.850619\",\"1.2.276.0.7230010.3.1.3.8323329.18359.1440005650.622424\",\"1.2.276.0.7230010.3.1.3.8323329.19624.1440005692.252349\",\"1.2.276.0.7230010.3.1.3.8323329.19793.1440005696.467710\",\"1.2.276.0.7230010.3.1.3.8323329.19955.1440005701.72038\",\"1.2.276.0.7230010.3.1.3.8323329.20116.1440005705.543159\",\"1.2.276.0.7230010.3.1.3.8323329.21837.1440005787.413079\",\"1.2.276.0.7230010.3.1.3.8323329.22113.1440005806.474007\",\"1.2.276.0.7230010.3.1.3.8323329.22388.1440005825.628582\",\"1.2.276.0.7230010.3.1.3.8323329.22661.1440005844.966184\",\"1.2.276.0.7230010.3.1.3.8323329.25108.1440006045.207962\",\"1.2.276.0.7230010.3.1.3.8323329.25256.1440006056.880941\",\"1.2.276.0.7230010.3.1.3.8323329.25410.1440006068.611749\",\"1.2.276.0.7230010.3.1.3.8323329.25564.1440006080.491279\",\"1.2.276.0.7230010.3.1.3.8323329.27046.1440006189.61402\",\"1.2.276.0.7230010.3.1.3.8323329.27163.1440006191.301669\",\"1.2.276.0.7230010.3.1.3.8323329.27284.1440006193.331330\",\"1.2.276.0.7230010.3.1.3.8323329.27395.1440006195.350485\",\"1.2.276.0.7230010.3.1.3.8323329.28761.1440006231.577637\",\"1.2.276.0.7230010.3.1.3.8323329.29091.1440006238.764005\",\"1.2.276.0.7230010.3.1.3.8323329.29423.1440006245.941049\",\"1.2.276.0.7230010.3.1.3.8323329.29756.1440006252.860610\"],\"x\":{\"__ndarray__\":\"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\",\"dtype\":\"float64\",\"shape\":[236]},\"y\":[\"QIN-HEADNECK-01-0003\",\"QIN-HEADNECK-01-0003\",\"QIN-HEADNECK-01-0003\",\"QIN-HEADNECK-01-0003\",\"QIN-HEADNECK-01-0017\",\"QIN-HEADNECK-01-0017\",\"QIN-HEADNECK-01-0017\",\"QIN-HEADNECK-01-0017\",\"QIN-HEADNECK-01-0024\",\"QIN-HEADNECK-01-0024\",\"QIN-HEADNECK-01-0024\",\"QIN-HEADNECK-01-0024\",\"QIN-HEADNECK-01-0026\",\"QIN-HEADNECK-01-0026\",\"QIN-HEADNECK-01-0026\",\"QIN-HEADNECK-01-0026\",\"QIN-HEADNECK-01-0028\",\"QIN-HEADNECK-01-0028\",\"QIN-HEADNECK-01-0028\",\"QIN-HEADNECK-01-0028\",\"QIN-HEADNECK-01-0034\",\"QIN-HEADNECK-01-0034\",\"QIN-HEADNECK-01-0034\",\"QIN-HEADNECK-01-0034\",\"QIN-HEADNECK-01-0041\",\"QIN-HEADNECK-01-0041\",\"QIN-HEADNECK-01-0041\",\"QIN-HEADNECK-01-0041\",\"QIN-HEADNECK-01-0046\",\"QIN-HEADNECK-01-0046\",\"QIN-HEADNECK-01-0046\",\"QIN-HEADNECK-01-0046\",\"QIN-HEADNECK-01-0047\",\"QIN-HEADNECK-01-0047\",\"QIN-HEADNECK-01-0047\",\"QIN-HEADNECK-01-0047\",\"QIN-HEADNECK-01-0055\",\"QIN-HEADNECK-01-0055\",\"QIN-HEADNECK-01-0055\",\"QIN-HEADNECK-01-0055\",\"QIN-HEADNECK-01-0057\",\"QIN-HEADNECK-01-0057\",\"QIN-HEADNECK-01-0057\",\"QIN-HEADNECK-01-0057\",\"QIN-HEADNECK-01-0060\",\"QIN-HEADNECK-01-0060\",\"QIN-HEADNECK-01-0060\",\"QIN-HEADNECK-01-0060\",\"QIN-HEADNECK-01-0062\",\"QIN-HEADNECK-01-0062\",\"QIN-HEADNECK-01-0062\",\"QIN-HEADNECK-01-0062\",\"QIN-HEADNECK-01-0064\",\"QIN-HEADNECK-01-0064\",\"QIN-HEADNECK-01-0064\",\"QIN-HEADNECK-01-0064\",\"QIN-HEADNECK-01-0065\",\"QIN-HEADNECK-01-0065\",\"QIN-HEADNECK-01-0065\",\"QIN-HEADNECK-01-0065\",\"QIN-HEADNECK-01-0067\",\"QIN-HEADNECK-01-0067\",\"QIN-HEADNECK-01-0067\",\"QIN-HEADNECK-01-0067\",\"QIN-HEADNECK-01-0071\",\"QIN-HEADNECK-01-0071\",\"QIN-HEADNECK-01-0071\",\"QIN-HEADNECK-01-0071\",\"QIN-HEADNECK-01-0074\",\"QIN-HEADNECK-01-0074\",\"QIN-HEADNECK-01-0074\",\"QIN-HEADNECK-01-0074\",\"QIN-HEADNECK-01-0079\",\"QIN-HEADNECK-01-0079\",\"QIN-HEADNECK-01-0079\",\"QIN-HEADNECK-01-0079\",\"QIN-HEADNECK-01-0081\",\"QIN-HEADNECK-01-0081\",\"QIN-HEADNECK-01-0081\",\"QIN-HEADNECK-01-0081\",\"QIN-HEADNECK-01-0086\",\"QIN-HEADNECK-01-0086\",\"QIN-HEADNECK-01-0086\",\"QIN-HEADNECK-01-0086\",\"QIN-HEADNECK-01-0089\",\"QIN-HEADNECK-01-0089\",\"QIN-HEADNECK-01-0089\",\"QIN-HEADNECK-01-0089\",\"QIN-HEADNECK-01-0091\",\"QIN-HEADNECK-01-0091\",\"QIN-HEADNECK-01-0091\",\"QIN-HEADNECK-01-0091\",\"QIN-HEADNECK-01-0098\",\"QIN-HEADNECK-01-0098\",\"QIN-HEADNECK-01-0098\",\"QIN-HEADNECK-01-0098\",\"QIN-HEADNECK-01-0100\",\"QIN-HEADNECK-01-0100\",\"QIN-HEADNECK-01-0100\",\"QIN-HEADNECK-01-0100\",\"QIN-HEADNECK-01-0112\",\"QIN-HEADNECK-01-0112\",\"QIN-HEADNECK-01-0112\",\"QIN-HEADNECK-01-0112\",\"QIN-HEADNECK-01-0115\",\"QIN-HEADNECK-01-0115\",\"QIN-HEADNECK-01-0115\",\"QIN-HEADNECK-01-0115\",\"QIN-HEADNECK-01-0116\",\"QIN-HEADNECK-01-0116\",\"QIN-HEADNECK-01-0116\",\"QIN-HEADNECK-01-0116\",\"QIN-HEADNECK-01-0118\",\"QIN-HEADNECK-01-0118\",\"QIN-HEADNECK-01-0118\",\"QIN-HEADNECK-01-0118\",\"QIN-HEADNECK-01-0120\",\"QIN-HEADNECK-01-0120\",\"QIN-HEADNECK-01-0120\",\"QIN-HEADNECK-01-0120\",\"QIN-HEADNECK-01-0127\",\"QIN-HEADNECK-01-0127\",\"QIN-HEADNECK-01-0127\",\"QIN-HEADNECK-01-0127\",\"QIN-HEADNECK-01-0129\",\"QIN-HEADNECK-01-0129\",\"QIN-HEADNECK-01-0129\",\"QIN-HEADNECK-01-0129\",\"QIN-HEADNECK-01-0131\",\"QIN-HEADNECK-01-0131\",\"QIN-HEADNECK-01-0131\",\"QIN-HEADNECK-01-0131\",\"QIN-HEADNECK-01-0135\",\"QIN-HEADNECK-01-0135\",\"QIN-HEADNECK-01-0135\",\"QIN-HEADNECK-01-0135\",\"QIN-HEADNECK-01-0137\",\"QIN-HEADNECK-01-0137\",\"QIN-HEADNECK-01-0137\",\"QIN-HEADNECK-01-0137\",\"QIN-HEADNECK-01-0139\",\"QIN-HEADNECK-01-0139\",\"QIN-HEADNECK-01-0139\",\"QIN-HEADNECK-01-0139\",\"QIN-HEADNECK-01-0140\",\"QIN-HEADNECK-01-0140\",\"QIN-HEADNECK-01-0140\",\"QIN-HEADNECK-01-0140\",\"QIN-HEADNECK-01-0157\",\"QIN-HEADNECK-01-0157\",\"QIN-HEADNECK-01-0157\",\"QIN-HEADNECK-01-0157\",\"QIN-HEADNECK-01-0164\",\"QIN-HEADNECK-01-0164\",\"QIN-HEADNECK-01-0164\",\"QIN-HEADNECK-01-0164\",\"QIN-HEADNECK-01-0165\",\"QIN-HEADNECK-01-0165\",\"QIN-HEADNECK-01-0165\",\"QIN-HEADNECK-01-0165\",\"QIN-HEADNECK-01-0172\",\"QIN-HEADNECK-01-0172\",\"QIN-HEADNECK-01-0172\",\"QIN-HEADNECK-01-0172\",\"QIN-HEADNECK-01-0180\",\"QIN-HEADNECK-01-0180\",\"QIN-HEADNECK-01-0180\",\"QIN-HEADNECK-01-0180\",\"QIN-HEADNECK-01-0184\",\"QIN-HEADNECK-01-0184\",\"QIN-HEADNECK-01-0184\",\"QIN-HEADNECK-01-0184\",\"QIN-HEADNECK-01-0186\",\"QIN-HEADNECK-01-0186\",\"QIN-HEADNECK-01-0186\",\"QIN-HEADNECK-01-0186\",\"QIN-HEADNECK-01-0190\",\"QIN-HEADNECK-01-0190\",\"QIN-HEADNECK-01-0190\",\"QIN-HEADNECK-01-0190\",\"QIN-HEADNECK-01-0199\",\"QIN-HEADNECK-01-0199\",\"QIN-HEADNECK-01-0199\",\"QIN-HEADNECK-01-0199\",\"QIN-HEADNECK-01-0200\",\"QIN-HEADNECK-01-0200\",\"QIN-HEADNECK-01-0200\",\"QIN-HEADNECK-01-0200\",\"QIN-HEADNECK-01-0201\",\"QIN-HEADNECK-01-0201\",\"QIN-HEADNECK-01-0201\",\"QIN-HEADNECK-01-0201\",\"QIN-HEADNECK-01-0203\",\"QIN-HEADNECK-01-0203\",\"QIN-HEADNECK-01-0203\",\"QIN-HEADNECK-01-0203\",\"QIN-HEADNECK-01-0212\",\"QIN-HEADNECK-01-0212\",\"QIN-HEADNECK-01-0212\",\"QIN-HEADNECK-01-0212\",\"QIN-HEADNECK-01-0214\",\"QIN-HEADNECK-01-0214\",\"QIN-HEADNECK-01-0214\",\"QIN-HEADNECK-01-0214\",\"QIN-HEADNECK-01-0220\",\"QIN-HEADNECK-01-0220\",\"QIN-HEADNECK-01-0220\",\"QIN-HEADNECK-01-0220\",\"QIN-HEADNECK-01-0222\",\"QIN-HEADNECK-01-0222\",\"QIN-HEADNECK-01-0222\",\"QIN-HEADNECK-01-0222\",\"QIN-HEADNECK-01-0224\",\"QIN-HEADNECK-01-0224\",\"QIN-HEADNECK-01-0224\",\"QIN-HEADNECK-01-0224\",\"QIN-HEADNECK-01-0228\",\"QIN-HEADNECK-01-0228\",\"QIN-HEADNECK-01-0228\",\"QIN-HEADNECK-01-0228\",\"QIN-HEADNECK-01-0239\",\"QIN-HEADNECK-01-0239\",\"QIN-HEADNECK-01-0239\",\"QIN-HEADNECK-01-0239\",\"QIN-HEADNECK-01-0244\",\"QIN-HEADNECK-01-0244\",\"QIN-HEADNECK-01-0244\",\"QIN-HEADNECK-01-0244\",\"QIN-HEADNECK-01-0275\",\"QIN-HEADNECK-01-0275\",\"QIN-HEADNECK-01-0275\",\"QIN-HEADNECK-01-0275\",\"QIN-HEADNECK-01-0366\",\"QIN-HEADNECK-01-0366\",\"QIN-HEADNECK-01-0366\",\"QIN-HEADNECK-01-0366\"]}},\"id\":\"b40af33b-c23e-4d9c-bae8-5eee2b3ba9c8\",\"type\":\"ColumnDataSource\"},{\"attributes\":{\"below\":[{\"id\":\"4eaf5cbf-e33e-4c89-a4c3-72fece768a5d\",\"type\":\"LinearAxis\"}],\"left\":[{\"id\":\"778a77a6-37d3-4dde-a4c5-ed33d3fbee51\",\"type\":\"CategoricalAxis\"}],\"renderers\":[{\"id\":\"4eaf5cbf-e33e-4c89-a4c3-72fece768a5d\",\"type\":\"LinearAxis\"},{\"id\":\"c2b8760f-a184-4575-8d43-a56d673b1477\",\"type\":\"Grid\"},{\"id\":\"778a77a6-37d3-4dde-a4c5-ed33d3fbee51\",\"type\":\"CategoricalAxis\"},{\"id\":\"ad23eb1f-551b-46fb-87d9-d9cf949e2b03\",\"type\":\"Grid\"},{\"id\":\"6403526e-668a-4d15-8e51-6cebdaffd796\",\"type\":\"BoxAnnotation\"},{\"id\":\"5834c1d3-44ae-4079-9544-9c125b17c386\",\"type\":\"GlyphRenderer\"}],\"title\":{\"id\":\"a95ecd7d-7eb9-4e18-b5c9-2aa42021c920\",\"type\":\"Title\"},\"tool_events\":{\"id\":\"c8e2ec29-5929-4239-bf69-1027dbe4a5d0\",\"type\":\"ToolEvents\"},\"toolbar\":{\"id\":\"e5f5b182-7eee-41c0-ad22-247b42ef1d20\",\"type\":\"Toolbar\"},\"x_range\":{\"id\":\"cae8456d-47e7-4a6d-bbd9-deb020bf92ba\",\"type\":\"Range1d\"},\"x_scale\":{\"id\":\"2b309bd8-2ecb-4c2d-a488-55ae8cb3fbe3\",\"type\":\"LinearScale\"},\"y_range\":{\"id\":\"804236b2-5160-4f88-a66a-4f2bdebff50e\",\"type\":\"FactorRange\"},\"y_scale\":{\"id\":\"684103c8-33b6-4731-9f0c-3bf077a3a1dc\",\"type\":\"CategoricalScale\"}},\"id\":\"fbb688c1-798d-49df-b7bf-7f2aa80b5c88\",\"subtype\":\"Figure\",\"type\":\"Plot\"},{\"attributes\":{\"dimension\":1,\"plot\":{\"id\":\"fbb688c1-798d-49df-b7bf-7f2aa80b5c88\",\"subtype\":\"Figure\",\"type\":\"Plot\"},\"ticker\":{\"id\":\"67ee8cf9-d2fa-4ff7-8b47-d76ab6f93c71\",\"type\":\"CategoricalTicker\"}},\"id\":\"ad23eb1f-551b-46fb-87d9-d9cf949e2b03\",\"type\":\"Grid\"},{\"attributes\":{\"url\":\"http://pieper.github.com/dcmjs/examples/qiicr/?seriesUID=@seriesUID\"},\"id\":\"7935fac1-2145-4307-9d6e-8121492b1eeb\",\"type\":\"OpenURL\"},{\"attributes\":{},\"id\":\"e5942c60-2a10-4e04-bb8e-adeaf9219bc6\",\"type\":\"CategoricalTickFormatter\"},{\"attributes\":{\"plot\":{\"id\":\"fbb688c1-798d-49df-b7bf-7f2aa80b5c88\",\"subtype\":\"Figure\",\"type\":\"Plot\"},\"ticker\":{\"id\":\"a946f124-2824-4590-b4f4-8a7c897ba916\",\"type\":\"BasicTicker\"}},\"id\":\"c2b8760f-a184-4575-8d43-a56d673b1477\",\"type\":\"Grid\"},{\"attributes\":{\"plot\":{\"id\":\"fbb688c1-798d-49df-b7bf-7f2aa80b5c88\",\"subtype\":\"Figure\",\"type\":\"Plot\"}},\"id\":\"5deece14-9045-41a4-b039-be389af69267\",\"type\":\"WheelZoomTool\"},{\"attributes\":{},\"id\":\"c8e2ec29-5929-4239-bf69-1027dbe4a5d0\",\"type\":\"ToolEvents\"},{\"attributes\":{\"formatter\":{\"id\":\"5d72b7b7-bebd-42f9-a2e7-12035f8c64cc\",\"type\":\"BasicTickFormatter\"},\"plot\":{\"id\":\"fbb688c1-798d-49df-b7bf-7f2aa80b5c88\",\"subtype\":\"Figure\",\"type\":\"Plot\"},\"ticker\":{\"id\":\"a946f124-2824-4590-b4f4-8a7c897ba916\",\"type\":\"BasicTicker\"}},\"id\":\"4eaf5cbf-e33e-4c89-a4c3-72fece768a5d\",\"type\":\"LinearAxis\"},{\"attributes\":{\"fill_alpha\":{\"value\":0.1},\"fill_color\":{\"value\":\"#1f77b4\"},\"line_alpha\":{\"value\":0.1},\"line_color\":{\"value\":\"#1f77b4\"},\"x\":{\"field\":\"x\"},\"y\":{\"field\":\"y\"}},\"id\":\"9416c61e-9d0a-4e44-8452-7bb4140b28d0\",\"type\":\"Circle\"},{\"attributes\":{},\"id\":\"684103c8-33b6-4731-9f0c-3bf077a3a1dc\",\"type\":\"CategoricalScale\"},{\"attributes\":{},\"id\":\"67ee8cf9-d2fa-4ff7-8b47-d76ab6f93c71\",\"type\":\"CategoricalTicker\"},{\"attributes\":{\"plot\":{\"id\":\"fbb688c1-798d-49df-b7bf-7f2aa80b5c88\",\"subtype\":\"Figure\",\"type\":\"Plot\"}},\"id\":\"e5a7d841-9e43-4005-a8b5-f2464b61ba96\",\"type\":\"ResetTool\"},{\"attributes\":{\"callback\":{\"id\":\"7935fac1-2145-4307-9d6e-8121492b1eeb\",\"type\":\"OpenURL\"},\"plot\":{\"id\":\"fbb688c1-798d-49df-b7bf-7f2aa80b5c88\",\"subtype\":\"Figure\",\"type\":\"Plot\"}},\"id\":\"dff70d98-57fe-4d41-81cf-95fb31dae5fe\",\"type\":\"TapTool\"}],\"root_ids\":[\"fbb688c1-798d-49df-b7bf-7f2aa80b5c88\"]},\"title\":\"Bokeh Application\",\"version\":\"0.12.6\"}};\n",
       "            var render_items = [{\"docid\":\"a4edef71-522e-496a-a1be-79f9edf58639\",\"elementid\":\"fe522b8f-0479-49d1-96b7-5a31fe7c1345\",\"modelid\":\"fbb688c1-798d-49df-b7bf-7f2aa80b5c88\"}];\n",
       "            \n",
       "            Bokeh.embed.embed_items(docs_json, render_items);\n",
       "          };\n",
       "          if (document.readyState != \"loading\") fn();\n",
       "          else document.addEventListener(\"DOMContentLoaded\", fn);\n",
       "        })();\n",
       "      },\n",
       "      function(Bokeh) {\n",
       "      }\n",
       "    ];\n",
       "  \n",
       "    function run_inline_js() {\n",
       "      \n",
       "      if ((window.Bokeh !== undefined) || (force === true)) {\n",
       "        for (var i = 0; i < inline_js.length; i++) {\n",
       "          inline_js[i](window.Bokeh);\n",
       "        }if (force === true) {\n",
       "          display_loaded();\n",
       "        }} else if (Date.now() < window._bokeh_timeout) {\n",
       "        setTimeout(run_inline_js, 100);\n",
       "      } else if (!window._bokeh_failed_load) {\n",
       "        console.log(\"Bokeh: BokehJS failed to load within specified timeout.\");\n",
       "        window._bokeh_failed_load = true;\n",
       "      } else if (force !== true) {\n",
       "        var cell = $(document.getElementById(\"fe522b8f-0479-49d1-96b7-5a31fe7c1345\")).parents('.cell').data().cell;\n",
       "        cell.output_area.append_execute_result(NB_LOAD_WARNING)\n",
       "      }\n",
       "  \n",
       "    }\n",
       "  \n",
       "    if (window._bokeh_is_loading === 0) {\n",
       "      console.log(\"Bokeh: BokehJS loaded, going straight to plotting\");\n",
       "      run_inline_js();\n",
       "    } else {\n",
       "      load_libs(js_urls, function() {\n",
       "        console.log(\"Bokeh: BokehJS plotting callback run at\", now());\n",
       "        run_inline_js();\n",
       "      });\n",
       "    }\n",
       "  }(this));\n",
       "</script>"
      ]
     },
     "metadata": {},
     "output_type": "display_data"
    }
   ],
   "source": [
    "volumes = subset[\"value\"].values\n",
    "observers = subset[\"PersonObserverName\"].values\n",
    "subjects = subset[\"PatientID\"].values\n",
    "\n",
    "subset[\"segmentationToolType\"].unique()\n",
    "\n",
    "colormap = {'1-Manual': 'red', '2-Manual': 'red', '1-SemiAuto': 'blue', '2-SemiAuto': 'blue'}\n",
    "colors = [colormap[x] for x in (subset[\"activitySession\"].map(str)+'-'+subset['segmentationToolType']).tolist()]\n",
    "\n",
    "source = ColumnDataSource(data=dict(\n",
    "    x=volumes,\n",
    "    y=subjects,\n",
    "    color=colors,\n",
    "    seriesUID=subset[\"ReferencedSeriesInstanceUID\"]\n",
    "    ))\n",
    "\n",
    "hover = HoverTool(tooltips=[\n",
    "    (\"(Volume, Subject)\", \"($x, $y)\")\n",
    "])\n",
    "\n",
    "wZoom = WheelZoomTool()\n",
    "bZoom = BoxZoomTool()\n",
    "reset = ResetTool()\n",
    "tap = TapTool()\n",
    "pan = PanTool()\n",
    "\n",
    "p = figure(x_range=[np.min(volumes),np.max(volumes)],y_range=subjects.tolist(), tools = [hover, wZoom, bZoom, reset, tap, pan],title=\"Volume segmentation consistency by User1; manual (red circles) and SemiAutomatic (blue circles)\")\n",
    "p.yaxis.axis_label = \"PatientID\"\n",
    "#p.xaxis.axis_label = subset[\"quantity_CodeMeaning\"].values[0]+', '+subset['units_CodeMeaning'].values[0]\n",
    "\n",
    "p.circle('x','y',color='color',source=source)\n",
    "\n",
    "url = \"http://pieper.github.com/dcmjs/examples/qiicr/?seriesUID=@seriesUID\"\n",
    "taptool = p.select(type=TapTool)\n",
    "taptool.callback = OpenURL(url=url)\n",
    "\n",
    "show(p)"
   ]
  },
  {
   "cell_type": "code",
   "execution_count": null,
   "metadata": {
    "collapsed": true
   },
   "outputs": [],
   "source": []
  },
  {
   "cell_type": "markdown",
   "metadata": {},
   "source": [
    "Let's import the prerequisite packages."
   ]
  },
  {
   "cell_type": "code",
   "execution_count": 2,
   "metadata": {
    "collapsed": true
   },
   "outputs": [],
   "source": [
    "import numpy as np\n",
    "import pandas as pd\n",
    "import matplotlib.pyplot as plt"
   ]
  },
  {
   "cell_type": "markdown",
   "metadata": {},
   "source": [
    "Let's load the data!"
   ]
  },
  {
   "cell_type": "code",
   "execution_count": 3,
   "metadata": {},
   "outputs": [
    {
     "data": {
      "text/plain": [
       "Index(['BodyPartExamined', 'ManufacturerModelName', 'Modality', 'PatientAge',\n",
       "       'PatientID', 'PatientName', 'PatientSex', 'PatientWeight',\n",
       "       'SOPClassUID', 'SOPInstanceUID', 'SeriesDate', 'SeriesDescription',\n",
       "       'SeriesInstanceUID', 'SeriesTime', 'SoftwareVersions', 'StudyDate',\n",
       "       'StudyDescription', 'StudyInstanceUID', 'StudyTime'],\n",
       "      dtype='object')"
      ]
     },
     "execution_count": 3,
     "metadata": {},
     "output_type": "execute_result"
    }
   ],
   "source": [
    "\n",
    "CompositeContext_df=pd.read_csv(tablesPath+'/CompositeContext.tsv', sep='\\t',low_memory=False)\n",
    "CompositeContext_df.columns"
   ]
  },
  {
   "cell_type": "markdown",
   "metadata": {},
   "source": [
    "As an experiment, let's look over some of the characteristics of the patients that we get from DICOM. Since we have multiple DICOM series/instances for each study, and patient information is the same for all studies, we need to reduce the data first to drop duplicates."
   ]
  },
  {
   "cell_type": "code",
   "execution_count": 4,
   "metadata": {
    "collapsed": true
   },
   "outputs": [],
   "source": [
    "ccPerStudy = CompositeContext_df.drop_duplicates(subset=\"StudyInstanceUID\")"
   ]
  },
  {
   "cell_type": "code",
   "execution_count": 5,
   "metadata": {},
   "outputs": [
    {
     "data": {
      "image/png": "[encoded data removed]",
      "text/plain": [
       "<matplotlib.figure.Figure at 0x110738a58>"
      ]
     },
     "metadata": {},
     "output_type": "display_data"
    }
   ],
   "source": [
    "weight = np.nan_to_num(ccPerStudy[\"PatientWeight\"].values)\n",
    "plt.hist(weight)\n",
    "plt.xlabel(\"weight, kg\")\n",
    "plt.title(\"Distribution of subject weight\")\n",
    "plt.show()"
   ]
  },
  {
   "cell_type": "code",
   "execution_count": 6,
   "metadata": {},
   "outputs": [
    {
     "data": {
      "image/png": "[encoded data removed]",
      "text/plain": [
       "<matplotlib.figure.Figure at 0x1107386d8>"
      ]
     },
     "metadata": {},
     "output_type": "display_data"
    }
   ],
   "source": [
    "# Age is encoded as 048Y, so we need to strip off the suffix\n",
    "age = [int(a[:-1]) for a in ccPerStudy[\"PatientAge\"].values]\n",
    "plt.scatter(age, weight)\n",
    "plt.xlabel(\"age, years\")\n",
    "plt.ylabel(\"weight, kg\")\n",
    "plt.title(\"Age vs weight\")\n",
    "plt.show()"
   ]
  },
  {
   "cell_type": "markdown",
   "metadata": {},
   "source": [
    "## Image segmentations\n",
    "\n",
    "`CompositeContext` table contains information for all DICOM objects, including modality, so we can first confirm how many subjects have segmentations."
   ]
  },
  {
   "cell_type": "code",
   "execution_count": 7,
   "metadata": {},
   "outputs": [
    {
     "name": "stdout",
     "output_type": "stream",
     "text": [
      "This many studies include segmentations: 60 \n",
      "This many patients: 59\n"
     ]
    }
   ],
   "source": [
    "# select only those studies that have Segmentations\n",
    "segSeries = CompositeContext_df[CompositeContext_df[\"Modality\"]==\"SEG\"].drop_duplicates(subset=\"StudyInstanceUID\")\n",
    "print(\"This many studies include segmentations: %i \" % (segSeries.shape[0]))\n",
    "print(\"This many patients: %i\" % segSeries[\"PatientID\"].unique().shape)"
   ]
  },
  {
   "cell_type": "markdown",
   "metadata": {},
   "source": [
    "Segmentations are organized as follows: (a fragment from [the overall schema](https://app.quickdatabasediagrams.com/#/schema/_71V1H1AXEqqKWDnvx4VXw))\n",
    "\n",
    "![](https://www.dropbox.com/s/lrcbl895cv64giu/seg_relationships.png?raw=1)\n",
    "\n",
    "There is a single entry corresponding to each segmentation series in the `SEG` table."
   ]
  },
  {
   "cell_type": "code",
   "execution_count": 8,
   "metadata": {},
   "outputs": [
    {
     "data": {
      "text/html": [
       "<div>\n",
       "<style>\n",
       "    .dataframe thead tr:only-child th {\n",
       "        text-align: right;\n",
       "    }\n",
       "\n",
       "    .dataframe thead th {\n",
       "        text-align: left;\n",
       "    }\n",
       "\n",
       "    .dataframe tbody tr th {\n",
       "        vertical-align: top;\n",
       "    }\n",
       "</style>\n",
       "<table border=\"1\" class=\"dataframe\">\n",
       "  <thead>\n",
       "    <tr style=\"text-align: right;\">\n",
       "      <th></th>\n",
       "      <th>ClinicalTrialSeriesID</th>\n",
       "      <th>ClinicalTrialTimePointID</th>\n",
       "      <th>Columns</th>\n",
       "      <th>ContentCreatorName</th>\n",
       "      <th>NumberOfFrames</th>\n",
       "      <th>Rows</th>\n",
       "      <th>SOPInstanceUID</th>\n",
       "      <th>SegmentationType</th>\n",
       "    </tr>\n",
       "  </thead>\n",
       "  <tbody>\n",
       "    <tr>\n",
       "      <th>0</th>\n",
       "      <td>1</td>\n",
       "      <td>1</td>\n",
       "      <td>512</td>\n",
       "      <td>Automated Aortic Arch Reference Region Segment...</td>\n",
       "      <td>12</td>\n",
       "      <td>512</td>\n",
       "      <td>1.2.276.0.7230010.3.1.4.8323329.18234.14400013...</td>\n",
       "      <td>BINARY</td>\n",
       "    </tr>\n",
       "    <tr>\n",
       "      <th>1</th>\n",
       "      <td>1</td>\n",
       "      <td>1</td>\n",
       "      <td>128</td>\n",
       "      <td>Automated Cerebellum Reference Region Segmenta...</td>\n",
       "      <td>14</td>\n",
       "      <td>128</td>\n",
       "      <td>1.2.276.0.7230010.3.1.4.8323329.18264.14400013...</td>\n",
       "      <td>BINARY</td>\n",
       "    </tr>\n",
       "    <tr>\n",
       "      <th>2</th>\n",
       "      <td>1</td>\n",
       "      <td>1</td>\n",
       "      <td>128</td>\n",
       "      <td>Automated Liver Reference Region Segmentation</td>\n",
       "      <td>17</td>\n",
       "      <td>128</td>\n",
       "      <td>1.2.276.0.7230010.3.1.4.8323329.18294.14400013...</td>\n",
       "      <td>BINARY</td>\n",
       "    </tr>\n",
       "    <tr>\n",
       "      <th>3</th>\n",
       "      <td>1</td>\n",
       "      <td>1</td>\n",
       "      <td>128</td>\n",
       "      <td>User1</td>\n",
       "      <td>13</td>\n",
       "      <td>128</td>\n",
       "      <td>1.2.276.0.7230010.3.1.4.8323329.18355.14400013...</td>\n",
       "      <td>BINARY</td>\n",
       "    </tr>\n",
       "    <tr>\n",
       "      <th>4</th>\n",
       "      <td>2</td>\n",
       "      <td>1</td>\n",
       "      <td>128</td>\n",
       "      <td>User1</td>\n",
       "      <td>13</td>\n",
       "      <td>128</td>\n",
       "      <td>1.2.276.0.7230010.3.1.4.8323329.18414.14400013...</td>\n",
       "      <td>BINARY</td>\n",
       "    </tr>\n",
       "  </tbody>\n",
       "</table>\n",
       "</div>"
      ],
      "text/plain": [
       "   ClinicalTrialSeriesID  ClinicalTrialTimePointID  Columns  \\\n",
       "0                      1                         1      512   \n",
       "1                      1                         1      128   \n",
       "2                      1                         1      128   \n",
       "3                      1                         1      128   \n",
       "4                      2                         1      128   \n",
       "\n",
       "                                  ContentCreatorName  NumberOfFrames  Rows  \\\n",
       "0  Automated Aortic Arch Reference Region Segment...              12   512   \n",
       "1  Automated Cerebellum Reference Region Segmenta...              14   128   \n",
       "2      Automated Liver Reference Region Segmentation              17   128   \n",
       "3                                              User1              13   128   \n",
       "4                                              User1              13   128   \n",
       "\n",
       "                                      SOPInstanceUID SegmentationType  \n",
       "0  1.2.276.0.7230010.3.1.4.8323329.18234.14400013...           BINARY  \n",
       "1  1.2.276.0.7230010.3.1.4.8323329.18264.14400013...           BINARY  \n",
       "2  1.2.276.0.7230010.3.1.4.8323329.18294.14400013...           BINARY  \n",
       "3  1.2.276.0.7230010.3.1.4.8323329.18355.14400013...           BINARY  \n",
       "4  1.2.276.0.7230010.3.1.4.8323329.18414.14400013...           BINARY  "
      ]
     },
     "execution_count": 8,
     "metadata": {},
     "output_type": "execute_result"
    }
   ],
   "source": [
    "SEG_df = pd.read_csv(tablesPath+'/SEG.tsv', sep='\\t', low_memory=False)\n",
    "SEG_df.head()"
   ]
  },
  {
   "cell_type": "code",
   "execution_count": 9,
   "metadata": {},
   "outputs": [
    {
     "data": {
      "text/plain": [
       "Index(['ClinicalTrialSeriesID', 'ClinicalTrialTimePointID', 'Columns',\n",
       "       'ContentCreatorName', 'NumberOfFrames', 'Rows', 'SOPInstanceUID',\n",
       "       'SegmentationType'],\n",
       "      dtype='object')"
      ]
     },
     "execution_count": 9,
     "metadata": {},
     "output_type": "execute_result"
    }
   ],
   "source": [
    "SEG_df.columns"
   ]
  },
  {
   "cell_type": "markdown",
   "metadata": {},
   "source": [
    "We can merge the `CompositeContext` and `SEG` tables."
   ]
  },
  {
   "cell_type": "code",
   "execution_count": 10,
   "metadata": {},
   "outputs": [
    {
     "data": {
      "text/html": [
       "<div>\n",
       "<style>\n",
       "    .dataframe thead tr:only-child th {\n",
       "        text-align: right;\n",
       "    }\n",
       "\n",
       "    .dataframe thead th {\n",
       "        text-align: left;\n",
       "    }\n",
       "\n",
       "    .dataframe tbody tr th {\n",
       "        vertical-align: top;\n",
       "    }\n",
       "</style>\n",
       "<table border=\"1\" class=\"dataframe\">\n",
       "  <thead>\n",
       "    <tr style=\"text-align: right;\">\n",
       "      <th></th>\n",
       "      <th>AnatomicRegionSequence_CodeMeaning</th>\n",
       "      <th>AnatomicRegionSequence_CodeValue</th>\n",
       "      <th>AnatomicRegionSequence_CodingSchemeDesignator</th>\n",
       "      <th>SOPInstanceUID</th>\n",
       "      <th>SegmentAlgorithmName</th>\n",
       "      <th>SegmentAlgorithmType</th>\n",
       "      <th>SegmentLabel</th>\n",
       "      <th>SegmentNumber</th>\n",
       "      <th>SegmentedPropertyCategoryCodeSequence_CodeMeaning</th>\n",
       "      <th>SegmentedPropertyCategoryCodeSequence_CodeValue</th>\n",
       "      <th>SegmentedPropertyCategoryCodeSequence_CodingSchemeDesignator</th>\n",
       "      <th>SegmentedPropertyTypeCodeSequence_CodeMeaning</th>\n",
       "      <th>SegmentedPropertyTypeCodeSequence_CodeValue</th>\n",
       "      <th>SegmentedPropertyTypeCodeSequence_CodingSchemeDesignator</th>\n",
       "    </tr>\n",
       "  </thead>\n",
       "  <tbody>\n",
       "    <tr>\n",
       "      <th>0</th>\n",
       "      <td>Aortic arch</td>\n",
       "      <td>T-42300</td>\n",
       "      <td>SRT</td>\n",
       "      <td>1.2.276.0.7230010.3.1.4.8323329.18234.14400013...</td>\n",
       "      <td>Iowa QIN Aortic Arch Segmentation</td>\n",
       "      <td>AUTOMATIC</td>\n",
       "      <td>Reference Region</td>\n",
       "      <td>1</td>\n",
       "      <td>Spatial and Relational Concept</td>\n",
       "      <td>R-42018</td>\n",
       "      <td>SRT</td>\n",
       "      <td>Reference Region</td>\n",
       "      <td>C94970</td>\n",
       "      <td>NCIt</td>\n",
       "    </tr>\n",
       "    <tr>\n",
       "      <th>1</th>\n",
       "      <td>Cerebellum</td>\n",
       "      <td>T-A6000</td>\n",
       "      <td>SRT</td>\n",
       "      <td>1.2.276.0.7230010.3.1.4.8323329.18264.14400013...</td>\n",
       "      <td>Iowa QIN Cerebellum Segmentation</td>\n",
       "      <td>AUTOMATIC</td>\n",
       "      <td>Reference Region</td>\n",
       "      <td>1</td>\n",
       "      <td>Spatial and Relational Concept</td>\n",
       "      <td>R-42018</td>\n",
       "      <td>SRT</td>\n",
       "      <td>Reference Region</td>\n",
       "      <td>C94970</td>\n",
       "      <td>NCIt</td>\n",
       "    </tr>\n",
       "    <tr>\n",
       "      <th>2</th>\n",
       "      <td>Liver</td>\n",
       "      <td>T-62000</td>\n",
       "      <td>SRT</td>\n",
       "      <td>1.2.276.0.7230010.3.1.4.8323329.18294.14400013...</td>\n",
       "      <td>Iowa QIN Liver Segmentation</td>\n",
       "      <td>AUTOMATIC</td>\n",
       "      <td>Reference Region</td>\n",
       "      <td>1</td>\n",
       "      <td>Spatial and Relational Concept</td>\n",
       "      <td>R-42018</td>\n",
       "      <td>SRT</td>\n",
       "      <td>Reference Region</td>\n",
       "      <td>C94970</td>\n",
       "      <td>NCIt</td>\n",
       "    </tr>\n",
       "    <tr>\n",
       "      <th>3</th>\n",
       "      <td>pharyngeal tonsil (adenoid)</td>\n",
       "      <td>T-C5300</td>\n",
       "      <td>SRT</td>\n",
       "      <td>1.2.276.0.7230010.3.1.4.8323329.18355.14400013...</td>\n",
       "      <td>NaN</td>\n",
       "      <td>MANUAL</td>\n",
       "      <td>Neoplasm, Primary</td>\n",
       "      <td>1</td>\n",
       "      <td>Morphologically Altered Structure</td>\n",
       "      <td>M-01000</td>\n",
       "      <td>SRT</td>\n",
       "      <td>Neoplasm, Primary</td>\n",
       "      <td>M-80003</td>\n",
       "      <td>SRT</td>\n",
       "    </tr>\n",
       "    <tr>\n",
       "      <th>4</th>\n",
       "      <td>pharyngeal tonsil (adenoid)</td>\n",
       "      <td>T-C5300</td>\n",
       "      <td>SRT</td>\n",
       "      <td>1.2.276.0.7230010.3.1.4.8323329.18414.14400013...</td>\n",
       "      <td>NaN</td>\n",
       "      <td>MANUAL</td>\n",
       "      <td>Neoplasm, Primary</td>\n",
       "      <td>1</td>\n",
       "      <td>Morphologically Altered Structure</td>\n",
       "      <td>M-01000</td>\n",
       "      <td>SRT</td>\n",
       "      <td>Neoplasm, Primary</td>\n",
       "      <td>M-80003</td>\n",
       "      <td>SRT</td>\n",
       "    </tr>\n",
       "  </tbody>\n",
       "</table>\n",
       "</div>"
      ],
      "text/plain": [
       "  AnatomicRegionSequence_CodeMeaning AnatomicRegionSequence_CodeValue  \\\n",
       "0                        Aortic arch                          T-42300   \n",
       "1                         Cerebellum                          T-A6000   \n",
       "2                              Liver                          T-62000   \n",
       "3        pharyngeal tonsil (adenoid)                          T-C5300   \n",
       "4        pharyngeal tonsil (adenoid)                          T-C5300   \n",
       "\n",
       "  AnatomicRegionSequence_CodingSchemeDesignator  \\\n",
       "0                                           SRT   \n",
       "1                                           SRT   \n",
       "2                                           SRT   \n",
       "3                                           SRT   \n",
       "4                                           SRT   \n",
       "\n",
       "                                      SOPInstanceUID  \\\n",
       "0  1.2.276.0.7230010.3.1.4.8323329.18234.14400013...   \n",
       "1  1.2.276.0.7230010.3.1.4.8323329.18264.14400013...   \n",
       "2  1.2.276.0.7230010.3.1.4.8323329.18294.14400013...   \n",
       "3  1.2.276.0.7230010.3.1.4.8323329.18355.14400013...   \n",
       "4  1.2.276.0.7230010.3.1.4.8323329.18414.14400013...   \n",
       "\n",
       "                SegmentAlgorithmName SegmentAlgorithmType       SegmentLabel  \\\n",
       "0  Iowa QIN Aortic Arch Segmentation            AUTOMATIC   Reference Region   \n",
       "1   Iowa QIN Cerebellum Segmentation            AUTOMATIC   Reference Region   \n",
       "2        Iowa QIN Liver Segmentation            AUTOMATIC   Reference Region   \n",
       "3                                NaN               MANUAL  Neoplasm, Primary   \n",
       "4                                NaN               MANUAL  Neoplasm, Primary   \n",
       "\n",
       "   SegmentNumber SegmentedPropertyCategoryCodeSequence_CodeMeaning  \\\n",
       "0              1                    Spatial and Relational Concept   \n",
       "1              1                    Spatial and Relational Concept   \n",
       "2              1                    Spatial and Relational Concept   \n",
       "3              1                 Morphologically Altered Structure   \n",
       "4              1                 Morphologically Altered Structure   \n",
       "\n",
       "  SegmentedPropertyCategoryCodeSequence_CodeValue  \\\n",
       "0                                         R-42018   \n",
       "1                                         R-42018   \n",
       "2                                         R-42018   \n",
       "3                                         M-01000   \n",
       "4                                         M-01000   \n",
       "\n",
       "  SegmentedPropertyCategoryCodeSequence_CodingSchemeDesignator  \\\n",
       "0                                                SRT             \n",
       "1                                                SRT             \n",
       "2                                                SRT             \n",
       "3                                                SRT             \n",
       "4                                                SRT             \n",
       "\n",
       "  SegmentedPropertyTypeCodeSequence_CodeMeaning  \\\n",
       "0                              Reference Region   \n",
       "1                              Reference Region   \n",
       "2                              Reference Region   \n",
       "3                             Neoplasm, Primary   \n",
       "4                             Neoplasm, Primary   \n",
       "\n",
       "  SegmentedPropertyTypeCodeSequence_CodeValue  \\\n",
       "0                                      C94970   \n",
       "1                                      C94970   \n",
       "2                                      C94970   \n",
       "3                                     M-80003   \n",
       "4                                     M-80003   \n",
       "\n",
       "  SegmentedPropertyTypeCodeSequence_CodingSchemeDesignator  \n",
       "0                                               NCIt        \n",
       "1                                               NCIt        \n",
       "2                                               NCIt        \n",
       "3                                                SRT        \n",
       "4                                                SRT        "
      ]
     },
     "execution_count": 10,
     "metadata": {},
     "output_type": "execute_result"
    }
   ],
   "source": [
    "SEGSegments_df = pd.read_csv(tablesPath+'/SEG_Segments.tsv', sep='\\t', low_memory=False)\n",
    "SEGSegments_df.head()"
   ]
  },
  {
   "cell_type": "code",
   "execution_count": 11,
   "metadata": {},
   "outputs": [
    {
     "data": {
      "text/plain": [
       "Index(['AnatomicRegionSequence_CodeMeaning',\n",
       "       'AnatomicRegionSequence_CodeValue',\n",
       "       'AnatomicRegionSequence_CodingSchemeDesignator', 'SOPInstanceUID',\n",
       "       'SegmentAlgorithmName', 'SegmentAlgorithmType', 'SegmentLabel',\n",
       "       'SegmentNumber', 'SegmentedPropertyCategoryCodeSequence_CodeMeaning',\n",
       "       'SegmentedPropertyCategoryCodeSequence_CodeValue',\n",
       "       'SegmentedPropertyCategoryCodeSequence_CodingSchemeDesignator',\n",
       "       'SegmentedPropertyTypeCodeSequence_CodeMeaning',\n",
       "       'SegmentedPropertyTypeCodeSequence_CodeValue',\n",
       "       'SegmentedPropertyTypeCodeSequence_CodingSchemeDesignator'],\n",
       "      dtype='object')"
      ]
     },
     "execution_count": 11,
     "metadata": {},
     "output_type": "execute_result"
    }
   ],
   "source": [
    "SEGSegments_df.columns"
   ]
  },
  {
   "cell_type": "code",
   "execution_count": 12,
   "metadata": {},
   "outputs": [
    {
     "data": {
      "text/plain": [
       "<matplotlib.axes._subplots.AxesSubplot at 0x1120c6748>"
      ]
     },
     "execution_count": 12,
     "metadata": {},
     "output_type": "execute_result"
    },
    {
     "data": {
      "image/png": "[encoded data removed]",
      "text/plain": [
       "<matplotlib.figure.Figure at 0x110d459b0>"
      ]
     },
     "metadata": {},
     "output_type": "display_data"
    }
   ],
   "source": [
    "%matplotlib inline\n",
    "import seaborn as sns\n",
    "import matplotlib\n",
    "sns.countplot(y=\"AnatomicRegionSequence_CodeMeaning\",data=SEGSegments_df)"
   ]
  },
  {
   "cell_type": "code",
   "execution_count": 13,
   "metadata": {
    "collapsed": true
   },
   "outputs": [],
   "source": [
    "SEG_merged = pd.merge(CompositeContext_df,SEG_df,on=\"SOPInstanceUID\")\n",
    "SEG_merged = pd.merge(SEG_merged, SEGSegments_df, on=\"SOPInstanceUID\")"
   ]
  },
  {
   "cell_type": "code",
   "execution_count": 14,
   "metadata": {},
   "outputs": [
    {
     "data": {
      "text/plain": [
       "Index(['BodyPartExamined', 'ManufacturerModelName', 'Modality', 'PatientAge',\n",
       "       'PatientID', 'PatientName', 'PatientSex', 'PatientWeight',\n",
       "       'SOPClassUID', 'SOPInstanceUID', 'SeriesDate', 'SeriesDescription',\n",
       "       'SeriesInstanceUID', 'SeriesTime', 'SoftwareVersions', 'StudyDate',\n",
       "       'StudyDescription', 'StudyInstanceUID', 'StudyTime',\n",
       "       'ClinicalTrialSeriesID', 'ClinicalTrialTimePointID', 'Columns',\n",
       "       'ContentCreatorName', 'NumberOfFrames', 'Rows', 'SegmentationType',\n",
       "       'AnatomicRegionSequence_CodeMeaning',\n",
       "       'AnatomicRegionSequence_CodeValue',\n",
       "       'AnatomicRegionSequence_CodingSchemeDesignator', 'SegmentAlgorithmName',\n",
       "       'SegmentAlgorithmType', 'SegmentLabel', 'SegmentNumber',\n",
       "       'SegmentedPropertyCategoryCodeSequence_CodeMeaning',\n",
       "       'SegmentedPropertyCategoryCodeSequence_CodeValue',\n",
       "       'SegmentedPropertyCategoryCodeSequence_CodingSchemeDesignator',\n",
       "       'SegmentedPropertyTypeCodeSequence_CodeMeaning',\n",
       "       'SegmentedPropertyTypeCodeSequence_CodeValue',\n",
       "       'SegmentedPropertyTypeCodeSequence_CodingSchemeDesignator'],\n",
       "      dtype='object')"
      ]
     },
     "execution_count": 14,
     "metadata": {},
     "output_type": "execute_result"
    }
   ],
   "source": [
    "SEG_merged.columns"
   ]
  },
  {
   "cell_type": "code",
   "execution_count": 15,
   "metadata": {},
   "outputs": [
    {
     "data": {
      "text/plain": [
       "tumor segmentation - User3 Manual trial 2      230\n",
       "tumor segmentation - User3 SemiAuto trial 1    230\n",
       "tumor segmentation - User2 Manual trial 2      230\n",
       "tumor segmentation - User1 SemiAuto trial 2    230\n",
       "tumor segmentation - User2 Manual trial 1      230\n",
       "tumor segmentation - User3 SemiAuto trial 2    230\n",
       "tumor segmentation - User2 SemiAuto trial 1    230\n",
       "tumor segmentation - User2 SemiAuto trial 2    230\n",
       "tumor segmentation - User1 Manual trial 2      230\n",
       "tumor segmentation - User3 Manual trial 1      230\n",
       "tumor segmentation - User1 Manual trial 1      230\n",
       "tumor segmentation - User1 SemiAuto trial 1    230\n",
       "auto liver segmentation                         59\n",
       "auto aorta segmentation                         57\n",
       "auto cerebellum segmentation                    57\n",
       "manual aorta segmentation                        3\n",
       "manual cerebellum segmentation                   3\n",
       "manual liver segmentation                        1\n",
       "Name: SeriesDescription, dtype: int64"
      ]
     },
     "execution_count": 15,
     "metadata": {},
     "output_type": "execute_result"
    }
   ],
   "source": [
    "SEG_merged[\"SeriesDescription\"].value_counts()"
   ]
  },
  {
   "cell_type": "code",
   "execution_count": 16,
   "metadata": {},
   "outputs": [
    {
     "data": {
      "text/plain": [
       "MANUAL           1387\n",
       "SEMIAUTOMATIC    1380\n",
       "AUTOMATIC         173\n",
       "Name: SegmentAlgorithmType, dtype: int64"
      ]
     },
     "execution_count": 16,
     "metadata": {},
     "output_type": "execute_result"
    }
   ],
   "source": [
    "SEG_merged[\"SegmentAlgorithmType\"].value_counts()"
   ]
  },
  {
   "cell_type": "code",
   "execution_count": 17,
   "metadata": {},
   "outputs": [
    {
     "data": {
      "text/plain": [
       "lymph node of head and neck    171\n",
       "pharyngeal tonsil (adenoid)     25\n",
       "base of tongue                  22\n",
       "oropharynx                       5\n",
       "nasopharynx                      3\n",
       "hypopharynx                      2\n",
       "pyriform sinus                   2\n",
       "Name: AnatomicRegionSequence_CodeMeaning, dtype: int64"
      ]
     },
     "execution_count": 17,
     "metadata": {},
     "output_type": "execute_result"
    },
    {
     "data": {
      "image/png": "[encoded data removed]",
      "text/plain": [
       "<matplotlib.figure.Figure at 0x11212b978>"
      ]
     },
     "metadata": {},
     "output_type": "display_data"
    }
   ],
   "source": [
    "oneReaderOneSession = SEG_merged[SEG_merged[\"SeriesDescription\"]==\"tumor segmentation - User1 SemiAuto trial 1\"]\n",
    "sns.countplot(y=\"AnatomicRegionSequence_CodeMeaning\",data=oneReaderOneSession)\n",
    "oneReaderOneSession[\"AnatomicRegionSequence_CodeMeaning\"].value_counts()"
   ]
  },
  {
   "cell_type": "markdown",
   "metadata": {},
   "source": [
    "Let's figure out how many structures were segmented in each of the studies. \n",
    "\n",
    "`SEG_merged` table has one row per segment, and each row contains `PatientID`, because of the way we constructed it. So we can just count the number of times each of the `PatientID`s is encountered.\n"
   ]
  },
  {
   "cell_type": "code",
   "execution_count": 18,
   "metadata": {},
   "outputs": [
    {
     "data": {
      "text/plain": [
       "QIN-HEADNECK-01-0067    147\n",
       "QIN-HEADNECK-01-0139    135\n",
       "QIN-HEADNECK-01-0366    123\n",
       "QIN-HEADNECK-01-0239    111\n",
       "QIN-HEADNECK-01-0057    111\n",
       "QIN-HEADNECK-01-0047    102\n",
       "QIN-HEADNECK-01-0190     99\n",
       "QIN-HEADNECK-01-0135     87\n",
       "QIN-HEADNECK-01-0180     87\n",
       "QIN-HEADNECK-01-0201     75\n",
       "QIN-HEADNECK-01-0089     75\n",
       "QIN-HEADNECK-01-0100     75\n",
       "QIN-HEADNECK-01-0112     75\n",
       "QIN-HEADNECK-01-0165     63\n",
       "QIN-HEADNECK-01-0228     63\n",
       "QIN-HEADNECK-01-0220     51\n",
       "QIN-HEADNECK-01-0203     51\n",
       "QIN-HEADNECK-01-0071     51\n",
       "QIN-HEADNECK-01-0079     51\n",
       "QIN-HEADNECK-01-0244     51\n",
       "QIN-HEADNECK-01-0086     51\n",
       "QIN-HEADNECK-01-0140     51\n",
       "QIN-HEADNECK-01-0074     51\n",
       "QIN-HEADNECK-01-0118     51\n",
       "QIN-HEADNECK-01-0026     51\n",
       "QIN-HEADNECK-01-0129     51\n",
       "QIN-HEADNECK-01-0186     51\n",
       "QIN-HEADNECK-01-0064     51\n",
       "QIN-HEADNECK-01-0184     39\n",
       "QIN-HEADNECK-01-0224     39\n",
       "QIN-HEADNECK-01-0028     39\n",
       "QIN-HEADNECK-01-0199     39\n",
       "QIN-HEADNECK-01-0120     39\n",
       "QIN-HEADNECK-01-0041     39\n",
       "QIN-HEADNECK-01-0275     39\n",
       "QIN-HEADNECK-01-0116     27\n",
       "QIN-HEADNECK-01-0200     27\n",
       "QIN-HEADNECK-01-0060     27\n",
       "QIN-HEADNECK-01-0046     27\n",
       "QIN-HEADNECK-01-0164     27\n",
       "QIN-HEADNECK-01-0131     27\n",
       "QIN-HEADNECK-01-0024     27\n",
       "QIN-HEADNECK-01-0081     27\n",
       "QIN-HEADNECK-01-0222     27\n",
       "QIN-HEADNECK-01-0098     27\n",
       "QIN-HEADNECK-01-0091     27\n",
       "QIN-HEADNECK-01-0172     27\n",
       "QIN-HEADNECK-01-0034     27\n",
       "QIN-HEADNECK-01-0157     27\n",
       "QIN-HEADNECK-01-0212     27\n",
       "QIN-HEADNECK-01-0127     27\n",
       "QIN-HEADNECK-01-0137     27\n",
       "QIN-HEADNECK-01-0062     27\n",
       "QIN-HEADNECK-01-0115     15\n",
       "QIN-HEADNECK-01-0214     15\n",
       "QIN-HEADNECK-01-0017     15\n",
       "QIN-HEADNECK-01-0055     15\n",
       "QIN-HEADNECK-01-0065     15\n",
       "QIN-HEADNECK-01-0003     15\n",
       "Name: PatientID, dtype: int64"
      ]
     },
     "execution_count": 18,
     "metadata": {},
     "output_type": "execute_result"
    }
   ],
   "source": [
    "SEG_merged[\"PatientID\"].value_counts()"
   ]
  },
  {
   "cell_type": "code",
   "execution_count": 19,
   "metadata": {},
   "outputs": [
    {
     "data": {
      "text/plain": [
       "tumor segmentation - User1 SemiAuto trial 2    12\n",
       "tumor segmentation - User1 Manual trial 2      12\n",
       "tumor segmentation - User3 Manual trial 1      12\n",
       "tumor segmentation - User1 Manual trial 1      12\n",
       "tumor segmentation - User1 SemiAuto trial 1    12\n",
       "tumor segmentation - User3 SemiAuto trial 2    12\n",
       "tumor segmentation - User2 Manual trial 1      12\n",
       "tumor segmentation - User2 Manual trial 2      12\n",
       "tumor segmentation - User2 SemiAuto trial 1    12\n",
       "tumor segmentation - User3 SemiAuto trial 1    12\n",
       "tumor segmentation - User2 SemiAuto trial 2    12\n",
       "tumor segmentation - User3 Manual trial 2      12\n",
       "auto cerebellum segmentation                    1\n",
       "auto liver segmentation                         1\n",
       "auto aorta segmentation                         1\n",
       "Name: SeriesDescription, dtype: int64"
      ]
     },
     "execution_count": 19,
     "metadata": {},
     "output_type": "execute_result"
    }
   ],
   "source": [
    "SEG_merged[SEG_merged[\"PatientID\"] == \"QIN-HEADNECK-01-0067\"][\"SeriesDescription\"].value_counts()"
   ]
  },
  {
   "cell_type": "markdown",
   "metadata": {},
   "source": [
    "# Segmentation-based measurements"
   ]
  },
  {
   "cell_type": "code",
   "execution_count": 20,
   "metadata": {
    "collapsed": true
   },
   "outputs": [],
   "source": [
    "SR_df = pd.read_csv(tablesPath+'/SR.tsv', sep='\\t', low_memory=False)\n",
    "SR1500_MeasurementGroups_df = pd.read_csv(tablesPath+'/SR1500_MeasurementGroups.tsv', sep='\\t', low_memory=False)\n",
    "SR1500_Measurements_df = pd.read_csv(tablesPath+'/SR1500_Measurements.tsv', sep='\\t', low_memory=False)"
   ]
  },
  {
   "cell_type": "code",
   "execution_count": 21,
   "metadata": {},
   "outputs": [
    {
     "data": {
      "text/plain": [
       "Index(['CompletionFlag', 'SOPInstanceUID', 'TemplateIdentifier',\n",
       "       'VerificationFlag'],\n",
       "      dtype='object')"
      ]
     },
     "execution_count": 21,
     "metadata": {},
     "output_type": "execute_result"
    }
   ],
   "source": [
    "SR_df.columns"
   ]
  },
  {
   "cell_type": "code",
   "execution_count": 22,
   "metadata": {},
   "outputs": [
    {
     "data": {
      "text/plain": [
       "Index(['DeviceObserverName', 'FindingSite_CodeMeaning',\n",
       "       'FindingSite_CodeValue', 'FindingSite_CodingSchemeDesignator',\n",
       "       'Finding_CodeMeaning', 'Finding_CodeValue',\n",
       "       'Finding_CodingSchemeDesignator', 'ObserverType', 'PersonObserverName',\n",
       "       'SOPInstanceUID', 'TrackingIdentifier', 'TrackingUniqueIdentifier',\n",
       "       'activitySession', 'measurementMethod_CodeMeaning',\n",
       "       'measurementMethod_CodeValue',\n",
       "       'measurementMethod_CodingSchemeDesignator', 'timePoint'],\n",
       "      dtype='object')"
      ]
     },
     "execution_count": 22,
     "metadata": {},
     "output_type": "execute_result"
    }
   ],
   "source": [
    "SR1500_MeasurementGroups_df.columns"
   ]
  },
  {
   "cell_type": "code",
   "execution_count": 23,
   "metadata": {},
   "outputs": [
    {
     "data": {
      "text/plain": [
       "Index(['SOPInstanceUID', 'TrackingUniqueIdentifier',\n",
       "       'derivationModifier_CodeMeaning', 'derivationModifier_CodeValue',\n",
       "       'derivationModifier_CodingSchemeDesignator', 'quantity_CodeMeaning',\n",
       "       'quantity_CodeValue', 'quantity_CodingSchemeDesignator', 'value'],\n",
       "      dtype='object')"
      ]
     },
     "execution_count": 23,
     "metadata": {},
     "output_type": "execute_result"
    }
   ],
   "source": [
    "SR1500_Measurements_df.columns"
   ]
  },
  {
   "cell_type": "markdown",
   "metadata": {},
   "source": [
    "Each finding is uniquely identified, so we can track measurements for the same finding done by different tools/readers, or over longitudinally over the period of time."
   ]
  },
  {
   "cell_type": "code",
   "execution_count": 24,
   "metadata": {},
   "outputs": [
    {
     "data": {
      "text/plain": [
       "2.25.333657797761921037156281860379899803564    12\n",
       "2.25.103079984808902877894036258209407121324    12\n",
       "2.25.127380548125105356744175330995772274604    12\n",
       "2.25.329496109556469636600245319046484932524    12\n",
       "2.25.97540606008307186198019340477994579884     12\n",
       "2.25.43456499935073941013083617370337916844     12\n",
       "2.25.8928973669376936946672915098242070444      12\n",
       "2.25.45524878674850459511546607799619237804     12\n",
       "2.25.2942848651967187502337153287751415724      12\n",
       "2.25.4843844429644695162696391219476379564      12\n",
       "2.25.324064553154521232383902831212524156844    12\n",
       "2.25.115988184857360261395218474256090216364    12\n",
       "2.25.74485136242183500549820712998905264044     12\n",
       "2.25.318774060119084600392715520575818119084    12\n",
       "2.25.141738288412446342285171380642694248364    12\n",
       "2.25.147175344833436486731829612297687349164    12\n",
       "2.25.16392508224116306054214415528941795244     12\n",
       "2.25.130838263999915763240244948783750657964    12\n",
       "2.25.26204673713330650616301797533567367084     12\n",
       "2.25.105182251810631622677618135192565659564    12\n",
       "2.25.121720080962330989147797320367863707564    12\n",
       "2.25.135356275320303691656104822485725165484    12\n",
       "2.25.148854382121548657707777160917106505644    12\n",
       "2.25.41561661770187041977042149674433066924     12\n",
       "2.25.59199116019617636326836401916113532844     12\n",
       "2.25.117890472054086751564280486954205657004    12\n",
       "2.25.31052150593844396424184168140377110444     12\n",
       "2.25.66856991711033119855991234108910942124     12\n",
       "2.25.22893573514661015990165912502883268524     12\n",
       "2.25.321931685067302978142568823813987841964    12\n",
       "                                                ..\n",
       "2.25.31593967436549070807041761218100410284      1\n",
       "2.25.104829511393203989851140782881440217004     1\n",
       "2.25.149956590057377850604797777516269877164     1\n",
       "2.25.34520408567958950933013982886387201964      1\n",
       "2.25.326483471353370737445544825301990586284     1\n",
       "2.25.118040088893023563767322263156338669484     1\n",
       "2.25.37361837880991025424748331895963465644      1\n",
       "2.25.12434384898020930573973846344322725804      1\n",
       "2.25.149076178985662465292940159399753627564     1\n",
       "2.25.95986315838918599849542954614697965484      1\n",
       "2.25.50435688963914857945614505569448572844      1\n",
       "2.25.33528180413642308933580468386443245484      1\n",
       "2.25.336435539516516020260241639084998473644     1\n",
       "2.25.119274836829641244332059743494579632044     1\n",
       "2.25.134973872671112343404275823255033427884     1\n",
       "2.25.89826548042289587541790174399134906284      1\n",
       "2.25.112249167014698083940592850866125354924     1\n",
       "2.25.11914040471920872111890855548019488684      1\n",
       "2.25.99007021845806326541740598939655026604      1\n",
       "2.25.107527098015783291724757173171983955884     1\n",
       "2.25.149956426055081446077618958880292681644     1\n",
       "2.25.143579855145421900265901701257272178604     1\n",
       "2.25.161279384841140288228230474412013484        1\n",
       "2.25.32579816931501689384655619494602815404      1\n",
       "2.25.334639227117686984926501374839412963244     1\n",
       "2.25.2942403389693857336759877570750527404       1\n",
       "2.25.149956459330909702068640748168751822764     1\n",
       "2.25.92028525271105784279520278314670307244      1\n",
       "2.25.34058386369130517877763727598244804524      1\n",
       "2.25.130160829934590547162798358719918716844     1\n",
       "Name: TrackingUniqueIdentifier, Length: 2288, dtype: int64"
      ]
     },
     "execution_count": 24,
     "metadata": {},
     "output_type": "execute_result"
    }
   ],
   "source": [
    "SR1500_MeasurementGroups_df[\"TrackingUniqueIdentifier\"].value_counts()"
   ]
  },
  {
   "cell_type": "markdown",
   "metadata": {},
   "source": [
    "Note that `SOPInstanceUID` is attached to every item to link to the DICOM instance where it comes from. `TrackingUniqueIdentifier` is unique for every structure being segmented, and comes up 12 times for each finding that is not a reference region: had 3 users, with each user segmenting the same structure using manual or semi-automatic approaches, on 2 occasions - 3x2x2 = 12.\n",
    "\n",
    "Since measurements for the segmentations produced using each combination of user/segmentation method/segmentation session is stored into a separate series, we can uniquely match attributes of the MeasurementGroup with the individual measurements by merging on the combination of `SOPInstanceUID` and `TrackingUniqueIdentifier` keys."
   ]
  },
  {
   "cell_type": "code",
   "execution_count": 25,
   "metadata": {},
   "outputs": [
    {
     "data": {
      "text/plain": [
       "(12891, 24)"
      ]
     },
     "execution_count": 25,
     "metadata": {},
     "output_type": "execute_result"
    }
   ],
   "source": [
    "SR_merged = pd.merge(SR1500_Measurements_df,SR1500_MeasurementGroups_df,on=[\"SOPInstanceUID\",\"TrackingUniqueIdentifier\"])\n",
    "SR_merged.shape"
   ]
  },
  {
   "cell_type": "code",
   "execution_count": 26,
   "metadata": {},
   "outputs": [
    {
     "data": {
      "text/plain": [
       "Index(['SOPInstanceUID', 'TrackingUniqueIdentifier',\n",
       "       'derivationModifier_CodeMeaning', 'derivationModifier_CodeValue',\n",
       "       'derivationModifier_CodingSchemeDesignator', 'quantity_CodeMeaning',\n",
       "       'quantity_CodeValue', 'quantity_CodingSchemeDesignator', 'value',\n",
       "       'DeviceObserverName', 'FindingSite_CodeMeaning',\n",
       "       'FindingSite_CodeValue', 'FindingSite_CodingSchemeDesignator',\n",
       "       'Finding_CodeMeaning', 'Finding_CodeValue',\n",
       "       'Finding_CodingSchemeDesignator', 'ObserverType', 'PersonObserverName',\n",
       "       'TrackingIdentifier', 'activitySession',\n",
       "       'measurementMethod_CodeMeaning', 'measurementMethod_CodeValue',\n",
       "       'measurementMethod_CodingSchemeDesignator', 'timePoint'],\n",
       "      dtype='object')"
      ]
     },
     "execution_count": 26,
     "metadata": {},
     "output_type": "execute_result"
    }
   ],
   "source": [
    "SR_merged.columns"
   ]
  },
  {
   "cell_type": "code",
   "execution_count": 27,
   "metadata": {},
   "outputs": [
    {
     "data": {
      "text/plain": [
       "User3    4072\n",
       "User2    4054\n",
       "User1    4045\n",
       "User4      24\n",
       "User5       4\n",
       "Name: PersonObserverName, dtype: int64"
      ]
     },
     "execution_count": 27,
     "metadata": {},
     "output_type": "execute_result"
    }
   ],
   "source": [
    "SR_merged[\"PersonObserverName\"].value_counts()"
   ]
  },
  {
   "cell_type": "markdown",
   "metadata": {},
   "source": [
    "Didn't expect to see `User4` and `User5` ... what are they?"
   ]
  },
  {
   "cell_type": "code",
   "execution_count": 28,
   "metadata": {},
   "outputs": [
    {
     "data": {
      "text/plain": [
       "472      Aortic arch\n",
       "473      Aortic arch\n",
       "474      Aortic arch\n",
       "475      Aortic arch\n",
       "1514           Liver\n",
       "1515           Liver\n",
       "1516           Liver\n",
       "1517           Liver\n",
       "7605     Aortic arch\n",
       "7606     Aortic arch\n",
       "7607     Aortic arch\n",
       "7608     Aortic arch\n",
       "7609      Cerebellum\n",
       "7610      Cerebellum\n",
       "7611      Cerebellum\n",
       "7612      Cerebellum\n",
       "7849      Cerebellum\n",
       "7850      Cerebellum\n",
       "7851      Cerebellum\n",
       "7852      Cerebellum\n",
       "12194    Aortic arch\n",
       "12195    Aortic arch\n",
       "12196    Aortic arch\n",
       "12197    Aortic arch\n",
       "12198     Cerebellum\n",
       "12199     Cerebellum\n",
       "12200     Cerebellum\n",
       "12201     Cerebellum\n",
       "Name: FindingSite_CodeMeaning, dtype: object"
      ]
     },
     "execution_count": 28,
     "metadata": {},
     "output_type": "execute_result"
    }
   ],
   "source": [
    "SR_merged[SR_merged[\"PersonObserverName\"].isin([\"User4\",\"User5\"])][\"FindingSite_CodeMeaning\"]"
   ]
  },
  {
   "cell_type": "markdown",
   "metadata": {},
   "source": [
    "Now let's add all of the composite context information so that we know what patient each measurement belongs to."
   ]
  },
  {
   "cell_type": "code",
   "execution_count": 29,
   "metadata": {},
   "outputs": [
    {
     "data": {
      "text/plain": [
       "(12891, 42)"
      ]
     },
     "execution_count": 29,
     "metadata": {},
     "output_type": "execute_result"
    }
   ],
   "source": [
    "SR_merged=pd.merge(SR_merged, CompositeContext_df, on=\"SOPInstanceUID\")\n",
    "SR_merged.shape"
   ]
  },
  {
   "cell_type": "code",
   "execution_count": 30,
   "metadata": {},
   "outputs": [
    {
     "data": {
      "text/plain": [
       "Index(['SOPInstanceUID', 'TrackingUniqueIdentifier',\n",
       "       'derivationModifier_CodeMeaning', 'derivationModifier_CodeValue',\n",
       "       'derivationModifier_CodingSchemeDesignator', 'quantity_CodeMeaning',\n",
       "       'quantity_CodeValue', 'quantity_CodingSchemeDesignator', 'value',\n",
       "       'DeviceObserverName', 'FindingSite_CodeMeaning',\n",
       "       'FindingSite_CodeValue', 'FindingSite_CodingSchemeDesignator',\n",
       "       'Finding_CodeMeaning', 'Finding_CodeValue',\n",
       "       'Finding_CodingSchemeDesignator', 'ObserverType', 'PersonObserverName',\n",
       "       'TrackingIdentifier', 'activitySession',\n",
       "       'measurementMethod_CodeMeaning', 'measurementMethod_CodeValue',\n",
       "       'measurementMethod_CodingSchemeDesignator', 'timePoint',\n",
       "       'BodyPartExamined', 'ManufacturerModelName', 'Modality', 'PatientAge',\n",
       "       'PatientID', 'PatientName', 'PatientSex', 'PatientWeight',\n",
       "       'SOPClassUID', 'SeriesDate', 'SeriesDescription', 'SeriesInstanceUID',\n",
       "       'SeriesTime', 'SoftwareVersions', 'StudyDate', 'StudyDescription',\n",
       "       'StudyInstanceUID', 'StudyTime'],\n",
       "      dtype='object')"
      ]
     },
     "execution_count": 30,
     "metadata": {},
     "output_type": "execute_result"
    }
   ],
   "source": [
    "SR_merged.columns"
   ]
  },
  {
   "cell_type": "markdown",
   "metadata": {},
   "source": [
    "## Plot measurements\n",
    "\n",
    "Each finding was expected to be segmented by each of the 3 users, using automated or manual approach, two times each (12 segmentations total). Each finding is assigned a unique identifier, so we can look at the consistency of the segmentation across readers, across segmentation approaches, and across segmentation sessions.\n",
    "\n",
    "But first, let's check and confirm that we have all 12 sets of measurements for each of the unique tracking identifier. Let's only consider primary and secondary neoplasms.\n",
    "\n"
   ]
  },
  {
   "cell_type": "code",
   "execution_count": 31,
   "metadata": {},
   "outputs": [
    {
     "data": {
      "text/plain": [
       "array(['Reference Region', 'Neoplasm, Primary', 'Neoplasm, Secondary'], dtype=object)"
      ]
     },
     "execution_count": 31,
     "metadata": {},
     "output_type": "execute_result"
    }
   ],
   "source": [
    "SR_merged[\"Finding_CodeMeaning\"].unique()"
   ]
  },
  {
   "cell_type": "code",
   "execution_count": 32,
   "metadata": {},
   "outputs": [
    {
     "data": {
      "text/html": [
       "<div>\n",
       "<style>\n",
       "    .dataframe thead tr:only-child th {\n",
       "        text-align: right;\n",
       "    }\n",
       "\n",
       "    .dataframe thead th {\n",
       "        text-align: left;\n",
       "    }\n",
       "\n",
       "    .dataframe tbody tr th {\n",
       "        vertical-align: top;\n",
       "    }\n",
       "</style>\n",
       "<table border=\"1\" class=\"dataframe\">\n",
       "  <thead>\n",
       "    <tr style=\"text-align: right;\">\n",
       "      <th></th>\n",
       "      <th>quantity_CodeMeaning</th>\n",
       "      <th>derivationModifier_CodeMeaning</th>\n",
       "      <th>count</th>\n",
       "    </tr>\n",
       "  </thead>\n",
       "  <tbody>\n",
       "    <tr>\n",
       "      <th>0</th>\n",
       "      <td>SUVbw</td>\n",
       "      <td>Maximum</td>\n",
       "      <td>2940</td>\n",
       "    </tr>\n",
       "    <tr>\n",
       "      <th>1</th>\n",
       "      <td>SUVbw</td>\n",
       "      <td>Mean</td>\n",
       "      <td>2940</td>\n",
       "    </tr>\n",
       "    <tr>\n",
       "      <th>2</th>\n",
       "      <td>SUVbw</td>\n",
       "      <td>Minimum</td>\n",
       "      <td>2940</td>\n",
       "    </tr>\n",
       "    <tr>\n",
       "      <th>3</th>\n",
       "      <td>SUVbw</td>\n",
       "      <td>Peak Value Within ROI</td>\n",
       "      <td>1131</td>\n",
       "    </tr>\n",
       "  </tbody>\n",
       "</table>\n",
       "</div>"
      ],
      "text/plain": [
       "  quantity_CodeMeaning derivationModifier_CodeMeaning  count\n",
       "0                SUVbw                        Maximum   2940\n",
       "1                SUVbw                           Mean   2940\n",
       "2                SUVbw                        Minimum   2940\n",
       "3                SUVbw          Peak Value Within ROI   1131"
      ]
     },
     "execution_count": 32,
     "metadata": {},
     "output_type": "execute_result"
    }
   ],
   "source": [
    "SR_merged.groupby(['quantity_CodeMeaning','derivationModifier_CodeMeaning']).size().reset_index().rename(columns={0:'count'})"
   ]
  },
  {
   "cell_type": "code",
   "execution_count": 33,
   "metadata": {},
   "outputs": [
    {
     "data": {
      "text/html": [
       "<div>\n",
       "<style>\n",
       "    .dataframe thead tr:only-child th {\n",
       "        text-align: right;\n",
       "    }\n",
       "\n",
       "    .dataframe thead th {\n",
       "        text-align: left;\n",
       "    }\n",
       "\n",
       "    .dataframe tbody tr th {\n",
       "        vertical-align: top;\n",
       "    }\n",
       "</style>\n",
       "<table border=\"1\" class=\"dataframe\">\n",
       "  <thead>\n",
       "    <tr style=\"text-align: right;\">\n",
       "      <th></th>\n",
       "      <th>quantity_CodeMeaning</th>\n",
       "      <th>count</th>\n",
       "    </tr>\n",
       "  </thead>\n",
       "  <tbody>\n",
       "    <tr>\n",
       "      <th>0</th>\n",
       "      <td>SUVbw</td>\n",
       "      <td>9951</td>\n",
       "    </tr>\n",
       "    <tr>\n",
       "      <th>1</th>\n",
       "      <td>Volume</td>\n",
       "      <td>2940</td>\n",
       "    </tr>\n",
       "  </tbody>\n",
       "</table>\n",
       "</div>"
      ],
      "text/plain": [
       "  quantity_CodeMeaning  count\n",
       "0                SUVbw   9951\n",
       "1               Volume   2940"
      ]
     },
     "execution_count": 33,
     "metadata": {},
     "output_type": "execute_result"
    }
   ],
   "source": [
    "SR_merged.groupby(['quantity_CodeMeaning']).size().reset_index().rename(columns={0:'count'})"
   ]
  },
  {
   "cell_type": "code",
   "execution_count": 34,
   "metadata": {},
   "outputs": [
    {
     "data": {
      "text/plain": [
       "array(['SUVbw', 'Volume'], dtype=object)"
      ]
     },
     "execution_count": 34,
     "metadata": {},
     "output_type": "execute_result"
    }
   ],
   "source": [
    "SR_merged[\"quantity_CodeMeaning\"].unique()"
   ]
  },
  {
   "cell_type": "code",
   "execution_count": 35,
   "metadata": {},
   "outputs": [
    {
     "data": {
      "text/plain": [
       "array(['Mean', 'Minimum', 'Maximum', nan, 'Peak Value Within ROI'], dtype=object)"
      ]
     },
     "execution_count": 35,
     "metadata": {},
     "output_type": "execute_result"
    }
   ],
   "source": [
    "SR_merged[\"derivationModifier_CodeMeaning\"].unique()"
   ]
  },
  {
   "cell_type": "markdown",
   "metadata": {},
   "source": [
    "Observe how for some measurements we have 12 items for a given finding type (and there is always Primary tumor present):"
   ]
  },
  {
   "cell_type": "markdown",
   "metadata": {},
   "source": [
    "Since we have volume of the primary tumor available for every subject, let's see how much it varies across users, tools and segmentation sessions."
   ]
  },
  {
   "cell_type": "code",
   "execution_count": 36,
   "metadata": {},
   "outputs": [
    {
     "name": "stderr",
     "output_type": "stream",
     "text": [
      "/Users/fedorov/.pyenv/versions/3.5.3/Python.framework/Versions/3.5/lib/python3.5/site-packages/ipykernel_launcher.py:1: UserWarning: Boolean Series key will be reindexed to match DataFrame index.\n",
      "  \"\"\"Entry point for launching an IPython kernel.\n"
     ]
    },
    {
     "data": {
      "text/plain": [
       "59.0"
      ]
     },
     "execution_count": 36,
     "metadata": {},
     "output_type": "execute_result"
    }
   ],
   "source": [
    "SR_merged[SR_merged[\"Finding_CodeMeaning\"]==\"Neoplasm, Primary\"][SR_merged[\"quantity_CodeMeaning\"]==\"Volume\"][\"PatientID\"].shape[0]/12"
   ]
  },
  {
   "cell_type": "markdown",
   "metadata": {},
   "source": [
    "... and for others less than that, since some of the measurements cannot always be computed!"
   ]
  },
  {
   "cell_type": "code",
   "execution_count": 37,
   "metadata": {},
   "outputs": [
    {
     "name": "stderr",
     "output_type": "stream",
     "text": [
      "/Users/fedorov/.pyenv/versions/3.5.3/Python.framework/Versions/3.5/lib/python3.5/site-packages/ipykernel_launcher.py:1: UserWarning: Boolean Series key will be reindexed to match DataFrame index.\n",
      "  \"\"\"Entry point for launching an IPython kernel.\n"
     ]
    },
    {
     "data": {
      "text/plain": [
       "46.916666666666664"
      ]
     },
     "execution_count": 37,
     "metadata": {},
     "output_type": "execute_result"
    }
   ],
   "source": [
    "SR_merged[SR_merged[\"Finding_CodeMeaning\"]==\"Neoplasm, Primary\"][SR_merged[\"derivationModifier_CodeMeaning\"]==\"Peak Value Within ROI\"][\"PatientID\"].shape[0]/12"
   ]
  },
  {
   "cell_type": "markdown",
   "metadata": {},
   "source": [
    "Since we have volume of the primary tumor available for every subject, let's see how much it varies across users, tools and segmentation sessions. Lets factor out the segmentation tool type. Note that the segmentation tool type is encoded directly in the SEG objects, but it is more convenient to take it from the series description of the SR objects storing the measurements."
   ]
  },
  {
   "cell_type": "code",
   "execution_count": 38,
   "metadata": {},
   "outputs": [
    {
     "data": {
      "text/plain": [
       "0            Auto\n",
       "1            Auto\n",
       "2            Auto\n",
       "3            Auto\n",
       "4            Auto\n",
       "5            Auto\n",
       "6            Auto\n",
       "7            Auto\n",
       "8            Auto\n",
       "9            Auto\n",
       "10           Auto\n",
       "11           Auto\n",
       "12         Manual\n",
       "13         Manual\n",
       "14         Manual\n",
       "15         Manual\n",
       "16         Manual\n",
       "17         Manual\n",
       "18         Manual\n",
       "19         Manual\n",
       "20         Manual\n",
       "21         Manual\n",
       "22       SemiAuto\n",
       "23       SemiAuto\n",
       "24       SemiAuto\n",
       "25       SemiAuto\n",
       "26       SemiAuto\n",
       "27       SemiAuto\n",
       "28       SemiAuto\n",
       "29       SemiAuto\n",
       "           ...   \n",
       "12861    SemiAuto\n",
       "12862    SemiAuto\n",
       "12863    SemiAuto\n",
       "12864    SemiAuto\n",
       "12865    SemiAuto\n",
       "12866    SemiAuto\n",
       "12867    SemiAuto\n",
       "12868    SemiAuto\n",
       "12869    SemiAuto\n",
       "12870    SemiAuto\n",
       "12871    SemiAuto\n",
       "12872    SemiAuto\n",
       "12873    SemiAuto\n",
       "12874    SemiAuto\n",
       "12875    SemiAuto\n",
       "12876    SemiAuto\n",
       "12877    SemiAuto\n",
       "12878    SemiAuto\n",
       "12879    SemiAuto\n",
       "12880    SemiAuto\n",
       "12881    SemiAuto\n",
       "12882    SemiAuto\n",
       "12883    SemiAuto\n",
       "12884    SemiAuto\n",
       "12885    SemiAuto\n",
       "12886    SemiAuto\n",
       "12887    SemiAuto\n",
       "12888    SemiAuto\n",
       "12889    SemiAuto\n",
       "12890    SemiAuto\n",
       "Name: segmentationToolType, Length: 12891, dtype: object"
      ]
     },
     "execution_count": 38,
     "metadata": {},
     "output_type": "execute_result"
    }
   ],
   "source": [
    "SR_merged[\"segmentationToolType\"] = \\\n",
    " SR_merged[\"SeriesDescription\"].apply(lambda toolType: toolType.split(\" \")[-3] if toolType.split(\" \")[-3] in [\"Manual\",\"SemiAuto\"] else \"Auto\")\n",
    "SR_merged[\"segmentationToolType\"]"
   ]
  },
  {
   "cell_type": "markdown",
   "metadata": {},
   "source": [
    "First load the references"
   ]
  },
  {
   "cell_type": "code",
   "execution_count": 39,
   "metadata": {},
   "outputs": [
    {
     "data": {
      "text/plain": [
       "Index(['ReferencedSOPClassUID', 'ReferencedSOPInstanceUID', 'SOPInstanceUID',\n",
       "       'SeriesInstanceUID'],\n",
       "      dtype='object')"
      ]
     },
     "execution_count": 39,
     "metadata": {},
     "output_type": "execute_result"
    }
   ],
   "source": [
    "References_df=pd.read_csv(tablesPath+'/References.tsv', sep='\\t', low_memory=False)\n",
    "References_df.columns"
   ]
  },
  {
   "cell_type": "code",
   "execution_count": 40,
   "metadata": {},
   "outputs": [
    {
     "data": {
      "text/plain": [
       "(316629, 4)"
      ]
     },
     "execution_count": 40,
     "metadata": {},
     "output_type": "execute_result"
    }
   ],
   "source": [
    "References_df.shape"
   ]
  },
  {
   "cell_type": "code",
   "execution_count": 41,
   "metadata": {},
   "outputs": [
    {
     "data": {
      "text/plain": [
       "array(['1.3.6.1.4.1.14519.5.2.1.2744.7002.261560220703676715130542397405',\n",
       "       '1.2.276.0.7230010.3.1.4.8323329.18215.1440001297.928456',\n",
       "       '1.2.276.0.7230010.3.1.3.8323329.18234.1440001306.224430'], dtype=object)"
      ]
     },
     "execution_count": 41,
     "metadata": {},
     "output_type": "execute_result"
    }
   ],
   "source": [
    "References_df[References_df[\"SOPInstanceUID\"]==\"1.2.276.0.7230010.3.1.4.8323329.18258.1440001306.617244\"][\"SeriesInstanceUID\"].unique()"
   ]
  },
  {
   "cell_type": "code",
   "execution_count": 42,
   "metadata": {},
   "outputs": [
    {
     "data": {
      "text/plain": [
       "(900, 2)"
      ]
     },
     "execution_count": 42,
     "metadata": {},
     "output_type": "execute_result"
    }
   ],
   "source": [
    "# WIP: do not run this!\n",
    "series_df=CompositeContext_df.drop_duplicates(subset=\"SeriesInstanceUID\")\n",
    "\n",
    "# All references to SEG (only Measurements point to SEG in our case, \n",
    "#  and each SR should point to exactly one SEG!)\n",
    "segReferences = References_df[References_df[\"ReferencedSOPClassUID\"]=='1.2.840.10008.5.1.4.1.1.66.4']\n",
    "segReferences = segReferences[[\"SOPInstanceUID\",\"SeriesInstanceUID\"]].rename(columns={\"SeriesInstanceUID\":\"ReferencedSeriesInstanceUID\"})\n",
    "segReferences.shape"
   ]
  },
  {
   "cell_type": "code",
   "execution_count": 43,
   "metadata": {},
   "outputs": [
    {
     "data": {
      "text/plain": [
       "(353252, 19)"
      ]
     },
     "execution_count": 43,
     "metadata": {},
     "output_type": "execute_result"
    }
   ],
   "source": [
    "References_df.shape\n",
    "CompositeContext_df.shape"
   ]
  },
  {
   "cell_type": "code",
   "execution_count": 46,
   "metadata": {},
   "outputs": [
    {
     "data": {
      "text/html": [
       "\n",
       "    <div class=\"bk-root\">\n",
       "        <a href=\"https://bokeh.pydata.org\" target=\"_blank\" class=\"bk-logo bk-logo-small bk-logo-notebook\"></a>\n",
       "        <span id=\"26ff2e57-cca3-4720-876e-dcf675d533b8\">Loading BokehJS ...</span>\n",
       "    </div>"
      ]
     },
     "metadata": {},
     "output_type": "display_data"
    },
    {
     "data": {
      "application/javascript": [
       "\n",
       "(function(root) {\n",
       "  function now() {\n",
       "    return new Date();\n",
       "  }\n",
       "\n",
       "  var force = true;\n",
       "\n",
       "  if (typeof (root._bokeh_onload_callbacks) === \"undefined\" || force === true) {\n",
       "    root._bokeh_onload_callbacks = [];\n",
       "    root._bokeh_is_loading = undefined;\n",
       "  }\n",
       "\n",
       "\n",
       "  \n",
       "  if (typeof (root._bokeh_timeout) === \"undefined\" || force === true) {\n",
       "    root._bokeh_timeout = Date.now() + 5000;\n",
       "    root._bokeh_failed_load = false;\n",
       "  }\n",
       "\n",
       "  var NB_LOAD_WARNING = {'data': {'text/html':\n",
       "     \"<div style='background-color: #fdd'>\\n\"+\n",
       "     \"<p>\\n\"+\n",
       "     \"BokehJS does not appear to have successfully loaded. If loading BokehJS from CDN, this \\n\"+\n",
       "     \"may be due to a slow or bad network connection. Possible fixes:\\n\"+\n",
       "     \"</p>\\n\"+\n",
       "     \"<ul>\\n\"+\n",
       "     \"<li>re-rerun `output_notebook()` to attempt to load from CDN again, or</li>\\n\"+\n",
       "     \"<li>use INLINE resources instead, as so:</li>\\n\"+\n",
       "     \"</ul>\\n\"+\n",
       "     \"<code>\\n\"+\n",
       "     \"from bokeh.resources import INLINE\\n\"+\n",
       "     \"output_notebook(resources=INLINE)\\n\"+\n",
       "     \"</code>\\n\"+\n",
       "     \"</div>\"}};\n",
       "\n",
       "  function display_loaded() {\n",
       "    if (root.Bokeh !== undefined) {\n",
       "      var el = document.getElementById(\"26ff2e57-cca3-4720-876e-dcf675d533b8\");\n",
       "      if (el != null) {\n",
       "        el.textContent = \"BokehJS \" + Bokeh.version + \" successfully loaded.\";\n",
       "      }\n",
       "    } else if (Date.now() < root._bokeh_timeout) {\n",
       "      setTimeout(display_loaded, 100)\n",
       "    }\n",
       "  }\n",
       "\n",
       "\n",
       "  function run_callbacks() {\n",
       "    try {\n",
       "      root._bokeh_onload_callbacks.forEach(function(callback) { callback() });\n",
       "    }\n",
       "    finally {\n",
       "      delete root._bokeh_onload_callbacks\n",
       "    }\n",
       "    console.info(\"Bokeh: all callbacks have finished\");\n",
       "  }\n",
       "\n",
       "  function load_libs(js_urls, callback) {\n",
       "    root._bokeh_onload_callbacks.push(callback);\n",
       "    if (root._bokeh_is_loading > 0) {\n",
       "      console.log(\"Bokeh: BokehJS is being loaded, scheduling callback at\", now());\n",
       "      return null;\n",
       "    }\n",
       "    if (js_urls == null || js_urls.length === 0) {\n",
       "      run_callbacks();\n",
       "      return null;\n",
       "    }\n",
       "    console.log(\"Bokeh: BokehJS not loaded, scheduling load and callback at\", now());\n",
       "    root._bokeh_is_loading = js_urls.length;\n",
       "    for (var i = 0; i < js_urls.length; i++) {\n",
       "      var url = js_urls[i];\n",
       "      var s = document.createElement('script');\n",
       "      s.src = url;\n",
       "      s.async = false;\n",
       "      s.onreadystatechange = s.onload = function() {\n",
       "        root._bokeh_is_loading--;\n",
       "        if (root._bokeh_is_loading === 0) {\n",
       "          console.log(\"Bokeh: all BokehJS libraries loaded\");\n",
       "          run_callbacks()\n",
       "        }\n",
       "      };\n",
       "      s.onerror = function() {\n",
       "        console.warn(\"failed to load library \" + url);\n",
       "      };\n",
       "      console.log(\"Bokeh: injecting script tag for BokehJS library: \", url);\n",
       "      document.getElementsByTagName(\"head\")[0].appendChild(s);\n",
       "    }\n",
       "  };var element = document.getElementById(\"26ff2e57-cca3-4720-876e-dcf675d533b8\");\n",
       "  if (element == null) {\n",
       "    console.log(\"Bokeh: ERROR: autoload.js configured with elementid '26ff2e57-cca3-4720-876e-dcf675d533b8' but no matching script tag was found. \")\n",
       "    return false;\n",
       "  }\n",
       "\n",
       "  var js_urls = [\"https://cdn.pydata.org/bokeh/release/bokeh-0.12.6.min.js\", \"https://cdn.pydata.org/bokeh/release/bokeh-widgets-0.12.6.min.js\", \"https://cdn.pydata.org/bokeh/release/bokeh-tables-0.12.6.min.js\", \"https://cdn.pydata.org/bokeh/release/bokeh-gl-0.12.6.min.js\"];\n",
       "\n",
       "  var inline_js = [\n",
       "    function(Bokeh) {\n",
       "      Bokeh.set_log_level(\"info\");\n",
       "    },\n",
       "    \n",
       "    function(Bokeh) {\n",
       "      \n",
       "    },\n",
       "    \n",
       "    function(Bokeh) {\n",
       "      \n",
       "      document.getElementById(\"26ff2e57-cca3-4720-876e-dcf675d533b8\").textContent = \"BokehJS is loading...\";\n",
       "    },\n",
       "    function(Bokeh) {\n",
       "      console.log(\"Bokeh: injecting CSS: https://cdn.pydata.org/bokeh/release/bokeh-0.12.6.min.css\");\n",
       "      Bokeh.embed.inject_css(\"https://cdn.pydata.org/bokeh/release/bokeh-0.12.6.min.css\");\n",
       "      console.log(\"Bokeh: injecting CSS: https://cdn.pydata.org/bokeh/release/bokeh-widgets-0.12.6.min.css\");\n",
       "      Bokeh.embed.inject_css(\"https://cdn.pydata.org/bokeh/release/bokeh-widgets-0.12.6.min.css\");\n",
       "      console.log(\"Bokeh: injecting CSS: https://cdn.pydata.org/bokeh/release/bokeh-tables-0.12.6.min.css\");\n",
       "      Bokeh.embed.inject_css(\"https://cdn.pydata.org/bokeh/release/bokeh-tables-0.12.6.min.css\");\n",
       "    }\n",
       "  ];\n",
       "\n",
       "  function run_inline_js() {\n",
       "    \n",
       "    if ((root.Bokeh !== undefined) || (force === true)) {\n",
       "      for (var i = 0; i < inline_js.length; i++) {\n",
       "        inline_js[i].call(root, root.Bokeh);\n",
       "      }if (force === true) {\n",
       "        display_loaded();\n",
       "      }} else if (Date.now() < root._bokeh_timeout) {\n",
       "      setTimeout(run_inline_js, 100);\n",
       "    } else if (!root._bokeh_failed_load) {\n",
       "      console.log(\"Bokeh: BokehJS failed to load within specified timeout.\");\n",
       "      root._bokeh_failed_load = true;\n",
       "    } else if (force !== true) {\n",
       "      var cell = $(document.getElementById(\"26ff2e57-cca3-4720-876e-dcf675d533b8\")).parents('.cell').data().cell;\n",
       "      cell.output_area.append_execute_result(NB_LOAD_WARNING)\n",
       "    }\n",
       "\n",
       "  }\n",
       "\n",
       "  if (root._bokeh_is_loading === 0) {\n",
       "    console.log(\"Bokeh: BokehJS loaded, going straight to plotting\");\n",
       "    run_inline_js();\n",
       "  } else {\n",
       "    load_libs(js_urls, function() {\n",
       "      console.log(\"Bokeh: BokehJS plotting callback run at\", now());\n",
       "      run_inline_js();\n",
       "    });\n",
       "  }\n",
       "}(window));"
      ]
     },
     "metadata": {},
     "output_type": "display_data"
    }
   ],
   "source": [
    "from bokeh.models import ColumnDataSource, OpenURL, TapTool\n",
    "from bokeh.plotting import figure, output_file, show\n",
    "from bokeh.io import output_notebook\n",
    "from bokeh.colors import RGB\n",
    "\n",
    "from bokeh.models import HoverTool, PanTool, WheelZoomTool, BoxZoomTool, ResetTool, TapTool\n",
    "\n",
    "output_notebook()\n",
    "\n",
    "volume = []\n",
    "user = []\n",
    "method = []\n",
    "sesssion = []\n",
    "subject = []\n",
    "\n",
    "SR_merged = pd.merge(SR_merged, segReferences)\n",
    "\n",
    "\n",
    "subset = SR_merged[SR_merged[\"PersonObserverName\"]==\"User1\"]\n",
    "subset = subset[subset[\"Finding_CodeMeaning\"]==\"Neoplasm, Primary\"]\n",
    "subset = subset[subset[\"quantity_CodeMeaning\"]==\"Volume\"]\n",
    "#subset = subset[subset[\"activitySession\"]==1]\n",
    "#subset = subset[subset[\"segmentationToolType\"]==\"SemiAuto\"]\n",
    "\n",
    "#subset.sort_values(\"value\", inplace=True)\n",
    "\n",
    "#subset=subset[subset[\"PatientID\"]==\"QIN-HEADNECK-01-0003\"]"
   ]
  },
  {
   "cell_type": "code",
   "execution_count": 45,
   "metadata": {},
   "outputs": [
    {
     "data": {
      "text/html": [
       "\n",
       "\n",
       "    <div class=\"bk-root\">\n",
       "        <div class=\"bk-plotdiv\" id=\"d2f71329-52fa-4c46-af62-d595f3ec2168\"></div>\n",
       "    </div>\n",
       "<script type=\"text/javascript\">\n",
       "  \n",
       "  (function(root) {\n",
       "    function now() {\n",
       "      return new Date();\n",
       "    }\n",
       "  \n",
       "    var force = false;\n",
       "  \n",
       "    if (typeof (root._bokeh_onload_callbacks) === \"undefined\" || force === true) {\n",
       "      root._bokeh_onload_callbacks = [];\n",
       "      root._bokeh_is_loading = undefined;\n",
       "    }\n",
       "  \n",
       "  \n",
       "    \n",
       "    if (typeof (root._bokeh_timeout) === \"undefined\" || force === true) {\n",
       "      root._bokeh_timeout = Date.now() + 0;\n",
       "      root._bokeh_failed_load = false;\n",
       "    }\n",
       "  \n",
       "    var NB_LOAD_WARNING = {'data': {'text/html':\n",
       "       \"<div style='background-color: #fdd'>\\n\"+\n",
       "       \"<p>\\n\"+\n",
       "       \"BokehJS does not appear to have successfully loaded. If loading BokehJS from CDN, this \\n\"+\n",
       "       \"may be due to a slow or bad network connection. Possible fixes:\\n\"+\n",
       "       \"</p>\\n\"+\n",
       "       \"<ul>\\n\"+\n",
       "       \"<li>re-rerun `output_notebook()` to attempt to load from CDN again, or</li>\\n\"+\n",
       "       \"<li>use INLINE resources instead, as so:</li>\\n\"+\n",
       "       \"</ul>\\n\"+\n",
       "       \"<code>\\n\"+\n",
       "       \"from bokeh.resources import INLINE\\n\"+\n",
       "       \"output_notebook(resources=INLINE)\\n\"+\n",
       "       \"</code>\\n\"+\n",
       "       \"</div>\"}};\n",
       "  \n",
       "    function display_loaded() {\n",
       "      if (root.Bokeh !== undefined) {\n",
       "        var el = document.getElementById(\"d2f71329-52fa-4c46-af62-d595f3ec2168\");\n",
       "        if (el != null) {\n",
       "          el.textContent = \"BokehJS \" + Bokeh.version + \" successfully loaded.\";\n",
       "        }\n",
       "      } else if (Date.now() < root._bokeh_timeout) {\n",
       "        setTimeout(display_loaded, 100)\n",
       "      }\n",
       "    }\n",
       "  \n",
       "  \n",
       "    function run_callbacks() {\n",
       "      try {\n",
       "        root._bokeh_onload_callbacks.forEach(function(callback) { callback() });\n",
       "      }\n",
       "      finally {\n",
       "        delete root._bokeh_onload_callbacks\n",
       "      }\n",
       "      console.info(\"Bokeh: all callbacks have finished\");\n",
       "    }\n",
       "  \n",
       "    function load_libs(js_urls, callback) {\n",
       "      root._bokeh_onload_callbacks.push(callback);\n",
       "      if (root._bokeh_is_loading > 0) {\n",
       "        console.log(\"Bokeh: BokehJS is being loaded, scheduling callback at\", now());\n",
       "        return null;\n",
       "      }\n",
       "      if (js_urls == null || js_urls.length === 0) {\n",
       "        run_callbacks();\n",
       "        return null;\n",
       "      }\n",
       "      console.log(\"Bokeh: BokehJS not loaded, scheduling load and callback at\", now());\n",
       "      root._bokeh_is_loading = js_urls.length;\n",
       "      for (var i = 0; i < js_urls.length; i++) {\n",
       "        var url = js_urls[i];\n",
       "        var s = document.createElement('script');\n",
       "        s.src = url;\n",
       "        s.async = false;\n",
       "        s.onreadystatechange = s.onload = function() {\n",
       "          root._bokeh_is_loading--;\n",
       "          if (root._bokeh_is_loading === 0) {\n",
       "            console.log(\"Bokeh: all BokehJS libraries loaded\");\n",
       "            run_callbacks()\n",
       "          }\n",
       "        };\n",
       "        s.onerror = function() {\n",
       "          console.warn(\"failed to load library \" + url);\n",
       "        };\n",
       "        console.log(\"Bokeh: injecting script tag for BokehJS library: \", url);\n",
       "        document.getElementsByTagName(\"head\")[0].appendChild(s);\n",
       "      }\n",
       "    };var element = document.getElementById(\"d2f71329-52fa-4c46-af62-d595f3ec2168\");\n",
       "    if (element == null) {\n",
       "      console.log(\"Bokeh: ERROR: autoload.js configured with elementid 'd2f71329-52fa-4c46-af62-d595f3ec2168' but no matching script tag was found. \")\n",
       "      return false;\n",
       "    }\n",
       "  \n",
       "    var js_urls = [];\n",
       "  \n",
       "    var inline_js = [\n",
       "      function(Bokeh) {\n",
       "        (function() {\n",
       "          var fn = function() {\n",
       "            var docs_json = {\"ab70fb67-20c1-4fb4-bff2-11252c8c0855\":{\"roots\":{\"references\":[{\"attributes\":{\"source\":{\"id\":\"48f8b5bd-cfe3-4740-87de-44fd874c08b7\",\"type\":\"ColumnDataSource\"}},\"id\":\"0938065e-b8b4-4197-9c3b-b2909e100330\",\"type\":\"CDSView\"},{\"attributes\":{\"overlay\":{\"id\":\"68eb8638-d714-4267-aec1-3f2fc3db8b8e\",\"type\":\"BoxAnnotation\"}},\"id\":\"637466a2-4f96-4135-ba10-3a146f85dd97\",\"type\":\"BoxZoomTool\"},{\"attributes\":{},\"id\":\"b9b3ba59-efab-4965-aa01-b11509fe24c2\",\"type\":\"BasicTickFormatter\"},{\"attributes\":{\"below\":[{\"id\":\"231e4b2d-ec69-48c6-9a14-17e2f271d805\",\"type\":\"LinearAxis\"}],\"left\":[{\"id\":\"40c0485f-1d4c-4570-b0ab-f6b26bc1661d\",\"type\":\"CategoricalAxis\"}],\"renderers\":[{\"id\":\"231e4b2d-ec69-48c6-9a14-17e2f271d805\",\"type\":\"LinearAxis\"},{\"id\":\"e0bb8dac-e96b-40a5-9415-da72b2a729d0\",\"type\":\"Grid\"},{\"id\":\"40c0485f-1d4c-4570-b0ab-f6b26bc1661d\",\"type\":\"CategoricalAxis\"},{\"id\":\"07b293c1-821c-445c-bd5c-3e8f35c478fd\",\"type\":\"Grid\"},{\"id\":\"68eb8638-d714-4267-aec1-3f2fc3db8b8e\",\"type\":\"BoxAnnotation\"},{\"id\":\"63cb644e-a340-43e2-9bd7-83bf36b7bfe3\",\"type\":\"GlyphRenderer\"}],\"title\":{\"id\":\"85105c65-ed62-4401-b9cf-636d104f7628\",\"type\":\"Title\"},\"toolbar\":{\"id\":\"acb9137f-ee5b-415a-921a-ea65d612a0d0\",\"type\":\"Toolbar\"},\"x_range\":{\"id\":\"1389300f-1d48-405d-b0dd-bc060f0d57bf\",\"type\":\"Range1d\"},\"x_scale\":{\"id\":\"23d91ed2-cc8f-4c75-98d8-0c284a0ae2e7\",\"type\":\"LinearScale\"},\"y_range\":{\"id\":\"460b755a-864f-4170-8817-7df6bcea80a1\",\"type\":\"FactorRange\"},\"y_scale\":{\"id\":\"224b4759-1f89-48ef-8448-8d4698e4fb5d\",\"type\":\"CategoricalScale\"}},\"id\":\"9df699e9-5ad5-4496-9a0a-99a0ae8c0566\",\"subtype\":\"Figure\",\"type\":\"Plot\"},{\"attributes\":{\"callback\":null,\"end\":37.3842,\"start\":29.8229},\"id\":\"1389300f-1d48-405d-b0dd-bc060f0d57bf\",\"type\":\"Range1d\"},{\"attributes\":{},\"id\":\"4ff4b384-d1d8-43fd-8377-4a48e208b87c\",\"type\":\"CategoricalTicker\"},{\"attributes\":{\"callback\":{\"id\":\"e9317c02-63f5-40a0-b58f-2eb01f3e82d0\",\"type\":\"OpenURL\"}},\"id\":\"c3f49890-bb6c-4877-9bb2-606a349fa73b\",\"type\":\"TapTool\"},{\"attributes\":{\"data_source\":{\"id\":\"48f8b5bd-cfe3-4740-87de-44fd874c08b7\",\"type\":\"ColumnDataSource\"},\"glyph\":{\"id\":\"442c3039-1f0f-4d73-8dc5-42a4e3dd9637\",\"type\":\"Circle\"},\"hover_glyph\":null,\"muted_glyph\":null,\"nonselection_glyph\":{\"id\":\"2a9bcc25-0768-410f-91ce-5b2dcddba81c\",\"type\":\"Circle\"},\"selection_glyph\":null,\"view\":{\"id\":\"0938065e-b8b4-4197-9c3b-b2909e100330\",\"type\":\"CDSView\"}},\"id\":\"63cb644e-a340-43e2-9bd7-83bf36b7bfe3\",\"type\":\"GlyphRenderer\"},{\"attributes\":{\"fill_color\":{\"field\":\"color\"},\"line_color\":{\"field\":\"color\"},\"x\":{\"field\":\"x\"},\"y\":{\"field\":\"y\"}},\"id\":\"442c3039-1f0f-4d73-8dc5-42a4e3dd9637\",\"type\":\"Circle\"},{\"attributes\":{\"plot\":{\"id\":\"9df699e9-5ad5-4496-9a0a-99a0ae8c0566\",\"subtype\":\"Figure\",\"type\":\"Plot\"},\"ticker\":{\"id\":\"7eb2db68-348e-4c8f-a1bb-e16d076ecd34\",\"type\":\"BasicTicker\"}},\"id\":\"e0bb8dac-e96b-40a5-9415-da72b2a729d0\",\"type\":\"Grid\"},{\"attributes\":{\"bottom_units\":\"screen\",\"fill_alpha\":{\"value\":0.5},\"fill_color\":{\"value\":\"lightgrey\"},\"left_units\":\"screen\",\"level\":\"overlay\",\"line_alpha\":{\"value\":1.0},\"line_color\":{\"value\":\"black\"},\"line_dash\":[4,4],\"line_width\":{\"value\":2},\"plot\":null,\"render_mode\":\"css\",\"right_units\":\"screen\",\"top_units\":\"screen\"},\"id\":\"68eb8638-d714-4267-aec1-3f2fc3db8b8e\",\"type\":\"BoxAnnotation\"},{\"attributes\":{\"callback\":null,\"column_names\":[\"x\",\"y\",\"seriesUID\",\"color\"],\"data\":{\"color\":[\"red\",\"red\",\"blue\",\"blue\"],\"seriesUID\":[\"1.2.276.0.7230010.3.1.3.8323329.18355.1440001308.643361\",\"1.2.276.0.7230010.3.1.3.8323329.18414.1440001309.742216\",\"1.2.276.0.7230010.3.1.3.8323329.18473.1440001310.727494\",\"1.2.276.0.7230010.3.1.3.8323329.18532.1440001311.773521\"],\"x\":{\"__ndarray__\":\"p+hILv8pQkDFjzF3LbFCQN/gC5Op0j1Aw2SqYFS6QEA=\",\"dtype\":\"float64\",\"shape\":[4]},\"y\":[\"QIN-HEADNECK-01-0003\",\"QIN-HEADNECK-01-0003\",\"QIN-HEADNECK-01-0003\",\"QIN-HEADNECK-01-0003\"]}},\"id\":\"48f8b5bd-cfe3-4740-87de-44fd874c08b7\",\"type\":\"ColumnDataSource\"},{\"attributes\":{\"active_drag\":\"auto\",\"active_inspect\":\"auto\",\"active_scroll\":\"auto\",\"active_tap\":\"auto\",\"tools\":[{\"id\":\"0fa3c003-a0f8-4d0c-8fd7-cdc313ea9bc2\",\"type\":\"HoverTool\"},{\"id\":\"aba9cf5f-f666-4948-8c47-349b29084050\",\"type\":\"WheelZoomTool\"},{\"id\":\"637466a2-4f96-4135-ba10-3a146f85dd97\",\"type\":\"BoxZoomTool\"},{\"id\":\"47b93844-05eb-4071-8a2c-ad4738ea5eb8\",\"type\":\"ResetTool\"},{\"id\":\"c3f49890-bb6c-4877-9bb2-606a349fa73b\",\"type\":\"TapTool\"},{\"id\":\"ce414353-b48f-44f1-91ed-8c74f000e25e\",\"type\":\"PanTool\"}]},\"id\":\"acb9137f-ee5b-415a-921a-ea65d612a0d0\",\"type\":\"Toolbar\"},{\"attributes\":{\"callback\":null,\"factors\":[\"QIN-HEADNECK-01-0003\",\"QIN-HEADNECK-01-0003\",\"QIN-HEADNECK-01-0003\",\"QIN-HEADNECK-01-0003\"]},\"id\":\"460b755a-864f-4170-8817-7df6bcea80a1\",\"type\":\"FactorRange\"},{\"attributes\":{\"formatter\":{\"id\":\"972d6d10-35cc-41c9-8fa8-b3d48b7f7ee3\",\"type\":\"CategoricalTickFormatter\"},\"plot\":{\"id\":\"9df699e9-5ad5-4496-9a0a-99a0ae8c0566\",\"subtype\":\"Figure\",\"type\":\"Plot\"},\"ticker\":{\"id\":\"4ff4b384-d1d8-43fd-8377-4a48e208b87c\",\"type\":\"CategoricalTicker\"}},\"id\":\"40c0485f-1d4c-4570-b0ab-f6b26bc1661d\",\"type\":\"CategoricalAxis\"},{\"attributes\":{},\"id\":\"aba9cf5f-f666-4948-8c47-349b29084050\",\"type\":\"WheelZoomTool\"},{\"attributes\":{\"dimension\":1,\"plot\":{\"id\":\"9df699e9-5ad5-4496-9a0a-99a0ae8c0566\",\"subtype\":\"Figure\",\"type\":\"Plot\"},\"ticker\":{\"id\":\"4ff4b384-d1d8-43fd-8377-4a48e208b87c\",\"type\":\"CategoricalTicker\"}},\"id\":\"07b293c1-821c-445c-bd5c-3e8f35c478fd\",\"type\":\"Grid\"},{\"attributes\":{\"plot\":null,\"text\":\"Volume segmentation consistency by User1; manual (red circles) and SemiAutomatic (blue circles)\"},\"id\":\"85105c65-ed62-4401-b9cf-636d104f7628\",\"type\":\"Title\"},{\"attributes\":{\"callback\":null,\"tooltips\":[[\"(Volume, Subject)\",\"($x, $y)\"]]},\"id\":\"0fa3c003-a0f8-4d0c-8fd7-cdc313ea9bc2\",\"type\":\"HoverTool\"},{\"attributes\":{},\"id\":\"972d6d10-35cc-41c9-8fa8-b3d48b7f7ee3\",\"type\":\"CategoricalTickFormatter\"},{\"attributes\":{},\"id\":\"7eb2db68-348e-4c8f-a1bb-e16d076ecd34\",\"type\":\"BasicTicker\"},{\"attributes\":{},\"id\":\"47b93844-05eb-4071-8a2c-ad4738ea5eb8\",\"type\":\"ResetTool\"},{\"attributes\":{},\"id\":\"23d91ed2-cc8f-4c75-98d8-0c284a0ae2e7\",\"type\":\"LinearScale\"},{\"attributes\":{},\"id\":\"224b4759-1f89-48ef-8448-8d4698e4fb5d\",\"type\":\"CategoricalScale\"},{\"attributes\":{\"fill_alpha\":{\"value\":0.1},\"fill_color\":{\"value\":\"#1f77b4\"},\"line_alpha\":{\"value\":0.1},\"line_color\":{\"value\":\"#1f77b4\"},\"x\":{\"field\":\"x\"},\"y\":{\"field\":\"y\"}},\"id\":\"2a9bcc25-0768-410f-91ce-5b2dcddba81c\",\"type\":\"Circle\"},{\"attributes\":{\"url\":\"http://pieper.github.com/dcmjs/examples/qiicr/?seriesUID=@seriesUID\"},\"id\":\"e9317c02-63f5-40a0-b58f-2eb01f3e82d0\",\"type\":\"OpenURL\"},{\"attributes\":{},\"id\":\"ce414353-b48f-44f1-91ed-8c74f000e25e\",\"type\":\"PanTool\"},{\"attributes\":{\"formatter\":{\"id\":\"b9b3ba59-efab-4965-aa01-b11509fe24c2\",\"type\":\"BasicTickFormatter\"},\"plot\":{\"id\":\"9df699e9-5ad5-4496-9a0a-99a0ae8c0566\",\"subtype\":\"Figure\",\"type\":\"Plot\"},\"ticker\":{\"id\":\"7eb2db68-348e-4c8f-a1bb-e16d076ecd34\",\"type\":\"BasicTicker\"}},\"id\":\"231e4b2d-ec69-48c6-9a14-17e2f271d805\",\"type\":\"LinearAxis\"}],\"root_ids\":[\"9df699e9-5ad5-4496-9a0a-99a0ae8c0566\"]},\"title\":\"Bokeh Application\",\"version\":\"0.12.6\"}};\n",
       "            var render_items = [{\"docid\":\"ab70fb67-20c1-4fb4-bff2-11252c8c0855\",\"elementid\":\"d2f71329-52fa-4c46-af62-d595f3ec2168\",\"modelid\":\"9df699e9-5ad5-4496-9a0a-99a0ae8c0566\"}];\n",
       "            \n",
       "            Bokeh.embed.embed_items(docs_json, render_items);\n",
       "          };\n",
       "          if (document.readyState != \"loading\") fn();\n",
       "          else document.addEventListener(\"DOMContentLoaded\", fn);\n",
       "        })();\n",
       "      },\n",
       "      function(Bokeh) {\n",
       "      }\n",
       "    ];\n",
       "  \n",
       "    function run_inline_js() {\n",
       "      \n",
       "      if ((root.Bokeh !== undefined) || (force === true)) {\n",
       "        for (var i = 0; i < inline_js.length; i++) {\n",
       "          inline_js[i].call(root, root.Bokeh);\n",
       "        }if (force === true) {\n",
       "          display_loaded();\n",
       "        }} else if (Date.now() < root._bokeh_timeout) {\n",
       "        setTimeout(run_inline_js, 100);\n",
       "      } else if (!root._bokeh_failed_load) {\n",
       "        console.log(\"Bokeh: BokehJS failed to load within specified timeout.\");\n",
       "        root._bokeh_failed_load = true;\n",
       "      } else if (force !== true) {\n",
       "        var cell = $(document.getElementById(\"d2f71329-52fa-4c46-af62-d595f3ec2168\")).parents('.cell').data().cell;\n",
       "        cell.output_area.append_execute_result(NB_LOAD_WARNING)\n",
       "      }\n",
       "  \n",
       "    }\n",
       "  \n",
       "    if (root._bokeh_is_loading === 0) {\n",
       "      console.log(\"Bokeh: BokehJS loaded, going straight to plotting\");\n",
       "      run_inline_js();\n",
       "    } else {\n",
       "      load_libs(js_urls, function() {\n",
       "        console.log(\"Bokeh: BokehJS plotting callback run at\", now());\n",
       "        run_inline_js();\n",
       "      });\n",
       "    }\n",
       "  }(window));\n",
       "</script>"
      ]
     },
     "metadata": {},
     "output_type": "display_data"
    }
   ],
   "source": [
    "\n",
    "\n",
    "volumes = subset[\"value\"].values\n",
    "observers = subset[\"PersonObserverName\"].values\n",
    "subjects = subset[\"PatientID\"].values\n",
    "\n",
    "subset[\"segmentationToolType\"].unique()\n",
    "\n",
    "colormap = {'1-Manual': 'red', '2-Manual': 'red', '1-SemiAuto': 'blue', '2-SemiAuto': 'blue'}\n",
    "colors = [colormap[x] for x in (subset[\"activitySession\"].map(str)+'-'+subset['segmentationToolType']).tolist()]\n",
    "\n",
    "source = ColumnDataSource(data=dict(\n",
    "    x=volumes,\n",
    "    y=subjects,\n",
    "    color=colors,\n",
    "    seriesUID=subset[\"ReferencedSeriesInstanceUID\"]\n",
    "    ))\n",
    "\n",
    "hover = HoverTool(tooltips=[\n",
    "    (\"(Volume, Subject)\", \"($x, $y)\")\n",
    "])\n",
    "\n",
    "wZoom = WheelZoomTool()\n",
    "bZoom = BoxZoomTool()\n",
    "reset = ResetTool()\n",
    "tap = TapTool()\n",
    "pan = PanTool()\n",
    "\n",
    "p = figure(x_range=[np.min(volumes),np.max(volumes)],y_range=subjects.tolist(), tools = [hover, wZoom, bZoom, reset, tap, pan],title=\"Volume segmentation consistency by User1; manual (red circles) and SemiAutomatic (blue circles)\")\n",
    "#p.yaxis.axis_label = \"PatientID\"\n",
    "#p.xaxis.axis_label = subset[\"quantity_CodeMeaning\"].values[0]+', '+subset['units_CodeMeaning'].values[0]\n",
    "\n",
    "p.circle('x','y',color='color',source=source)\n",
    "\n",
    "url = \"http://pieper.github.com/dcmjs/examples/qiicr/?seriesUID=@seriesUID\"\n",
    "taptool = p.select(type=TapTool)\n",
    "taptool.callback = OpenURL(url=url)\n",
    "\n",
    "show(p)"
   ]
  },
  {
   "cell_type": "code",
   "execution_count": null,
   "metadata": {
    "collapsed": true
   },
   "outputs": [],
   "source": []
  }
 ],
 "metadata": {
  "kernelspec": {
   "display_name": "Python 3",
   "language": "python",
   "name": "python3"
  },
  "language_info": {
   "codemirror_mode": {
    "name": "ipython",
    "version": 3
   },
   "file_extension": ".py",
   "mimetype": "text/x-python",
   "name": "python",
   "nbconvert_exporter": "python",
   "pygments_lexer": "ipython3",
   "version": "3.5.3"
  }
 },
 "nbformat": 4,
 "nbformat_minor": 2
}
