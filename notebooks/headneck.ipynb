{
 "cells": [
  {
   "cell_type": "markdown",
   "metadata": {},
   "source": [
    "# About\n",
    "\n",
    "This is a Jupyter Notebook that demonstrates how Python can be used to explore the content of a publicly available DICOM dataset stored on The Cancer Imaging Archive (TCIA) and described here: https://wiki.cancerimagingarchive.net/display/Public/QIN-HEADNECK. This manuscript describes the dataset in detail:\n",
    "\n",
    "> Fedorov A., Clunie D., Ulrich E., Bauer C., Wahle A., Brown B., Onken M., Riesmeier J., Pieper S., Kikinis R., Buatti J., Beichel RR. 2016. DICOM for quantitative imaging biomarker development: a standards based approach to sharing clinical data and structured PET/CT analysis results in head and neck cancer research. PeerJ 4:e2057. DOI: 10.7717/peerj.2057. [https://peerj.com/articles/2057/](https://peerj.com/articles/2057/)\n",
    "\n",
    "The DICOM dataset was converted into a collection of tables using this converter script: https://github.com/QIICR/dcm2tables. The script extracts data elements from the DICOM files and stores them as a collection of tab-delimited text files that follow [this schema](https://app.quickdatabasediagrams.com/#/schema/_71V1H1AXEqqKWDnvx4VXw)."
   ]
  },
  {
   "cell_type": "markdown",
   "metadata": {},
   "source": [
    "# Data overview\n",
    "\n",
    "In a nutshell, here is a bird's eye view of the QIN-HEADNECK dataset: \n",
    "* 156 subjects with head and neck cancer\n",
    "* each subject had one or more PET/CT study (each study is expected to include a CT and a PET imaging series) for disease staging and treatment response assessment\n",
    "* images for a subset of 59 subjects were analyzed to do the following:\n",
    " * segment the primary tumor and the involved lymph nodes: each of these areas was segmented by each of the two readers, on two occasions, using [3D Slicer](http://slicer.org) both manually and using an interactive automated segmentation tool described in [this publicly available paper](http://onlinelibrary.wiley.com/doi/10.1118/1.4948679/full)\n",
    " * segment reference regions for PET normalization: cerebellum, liver and aortic arch\n",
    "   * segmentation results saved as DICOM Segmentation images\n",
    " * extract quantitative measurements from the segmented regions\n",
    "   * measurements were saved as DICOM Structured Report obects following [DICOM SR Template 1500](http://dicom.nema.org/medical/dicom/current/output/chtml/part16/chapter_A.html#sect_TID_1500)\n",
    "   \n",
    "![](https://dfzljdn9uc3pi.cloudfront.net/2016/2057/1/fig-1-2x.jpg)\n"
   ]
  },
  {
   "cell_type": "markdown",
   "metadata": {},
   "source": [
    "## Tools\n",
    "\n",
    "In this demonstration we will use the following Python packages:\n",
    "* Pandas for working with the tabular data\n",
    "* numpy for numerical operations\n",
    "* [matplotlib](https://matplotlib.org/index.html), [seaborn](https://seaborn.pydata.org/) and [bokeh](http://bokeh.pydata.org/en/latest/) for plotting\n",
    "\n",
    "If you are working with this notebook on your own system, you will need to install those packages as a prerequisite to import the packages!\n",
    "\n",
    "## Data\n",
    "\n",
    "You can download the collection of the extracted tables here: https://github.com/fedorov/dicom4miccai-handson/releases/download/untagged-f8d939ebd97e5895e439/QIN-HEADNECK-tables.zip. Unzip the file, note the location of the resulting directory, and set the value of the variable below to that location."
   ]
  },
  {
   "cell_type": "code",
   "execution_count": 4,
   "metadata": {
    "collapsed": true
   },
   "outputs": [],
   "source": [
    "tablesPath = '/Users/fedorov/Desktop/DICOM-tutorial/QIN-HEADNECK-tables'"
   ]
  },
  {
   "cell_type": "markdown",
   "metadata": {},
   "source": [
    "Let's import the prerequisite packages."
   ]
  },
  {
   "cell_type": "code",
   "execution_count": 6,
   "metadata": {
    "collapsed": true
   },
   "outputs": [],
   "source": [
    "import numpy as np\n",
    "import pandas as pd\n",
    "import matplotlib.pyplot as plt"
   ]
  },
  {
   "cell_type": "markdown",
   "metadata": {},
   "source": [
    "Let's load the data!"
   ]
  },
  {
   "cell_type": "code",
   "execution_count": 39,
   "metadata": {},
   "outputs": [
    {
     "data": {
      "text/plain": [
       "Index(['BodyPartExamined', 'ManufacturerModelName', 'Modality', 'PatientAge',\n",
       "       'PatientID', 'PatientName', 'PatientSex', 'PatientWeight',\n",
       "       'SOPClassUID', 'SOPInstanceUID', 'SeriesDate', 'SeriesDescription',\n",
       "       'SeriesInstanceUID', 'SeriesTime', 'SoftwareVersions', 'StudyDate',\n",
       "       'StudyDescription', 'StudyInstanceUID', 'StudyTime'],\n",
       "      dtype='object')"
      ]
     },
     "execution_count": 39,
     "metadata": {},
     "output_type": "execute_result"
    }
   ],
   "source": [
    "\n",
    "CompositeContext_df=pd.read_csv(tablesPath+'/CompositeContext.tsv', sep='\\t',low_memory=False)\n",
    "CompositeContext_df.columns"
   ]
  },
  {
   "cell_type": "markdown",
   "metadata": {},
   "source": [
    "As an experiment, let's look over some of the characteristics of the patients that we get from DICOM. Since we have multiple DICOM series/instances for each study, and patient information is the same for all studies, we need to reduce the data first to drop duplicates."
   ]
  },
  {
   "cell_type": "code",
   "execution_count": 40,
   "metadata": {
    "collapsed": true
   },
   "outputs": [],
   "source": [
    "ccPerStudy = CompositeContext_df.drop_duplicates(subset=\"StudyInstanceUID\")"
   ]
  },
  {
   "cell_type": "code",
   "execution_count": 41,
   "metadata": {},
   "outputs": [
    {
     "data": {
      "image/png": "[encoded data removed]",
      "text/plain": [
       "<matplotlib.figure.Figure at 0x10834e630>"
      ]
     },
     "metadata": {},
     "output_type": "display_data"
    }
   ],
   "source": [
    "weight = np.nan_to_num(ccPerStudy[\"PatientWeight\"].values)\n",
    "plt.hist(weight)\n",
    "plt.xlabel(\"weight, kg\")\n",
    "plt.title(\"Distribution of subject weight\")\n",
    "plt.show()"
   ]
  },
  {
   "cell_type": "code",
   "execution_count": 42,
   "metadata": {},
   "outputs": [
    {
     "data": {
      "image/png": "[encoded data removed]",
      "text/plain": [
       "<matplotlib.figure.Figure at 0x114db9160>"
      ]
     },
     "metadata": {},
     "output_type": "display_data"
    }
   ],
   "source": [
    "# Age is encoded as 048Y, so we need to strip off the suffix\n",
    "age = [int(a[:-1]) for a in ccPerStudy[\"PatientAge\"].values]\n",
    "plt.scatter(age, weight)\n",
    "plt.xlabel(\"age, years\")\n",
    "plt.ylabel(\"weight, kg\")\n",
    "plt.title(\"Age vs weight\")\n",
    "plt.show()"
   ]
  },
  {
   "cell_type": "markdown",
   "metadata": {},
   "source": [
    "## Image segmentations\n",
    "\n",
    "`CompositeContext` table contains information for all DICOM objects, including modality, so we can first confirm how many subjects have segmentations."
   ]
  },
  {
   "cell_type": "code",
   "execution_count": 43,
   "metadata": {},
   "outputs": [
    {
     "name": "stdout",
     "output_type": "stream",
     "text": [
      "This many studies include segmentations: 60 \n",
      "This many patients: 59\n"
     ]
    }
   ],
   "source": [
    "# select only those studies that have Segmentations\n",
    "segSeries = CompositeContext_df[CompositeContext_df[\"Modality\"]==\"SEG\"].drop_duplicates(subset=\"StudyInstanceUID\")\n",
    "print(\"This many studies include segmentations: %i \" % (segSeries.shape[0]))\n",
    "print(\"This many patients: %i\" % segSeries[\"PatientID\"].unique().shape)"
   ]
  },
  {
   "cell_type": "markdown",
   "metadata": {},
   "source": [
    "Segmentations are organized as follows: (a fragment from [the overall schema](https://app.quickdatabasediagrams.com/#/schema/_71V1H1AXEqqKWDnvx4VXw))\n",
    "\n",
    "![](https://www.dropbox.com/s/lrcbl895cv64giu/seg_relationships.png?raw=1)\n",
    "\n",
    "There is a single entry corresponding to each segmentation series in the `SEG` table."
   ]
  },
  {
   "cell_type": "code",
   "execution_count": 44,
   "metadata": {},
   "outputs": [
    {
     "data": {
      "text/html": [
       "<div>\n",
       "<style>\n",
       "    .dataframe thead tr:only-child th {\n",
       "        text-align: right;\n",
       "    }\n",
       "\n",
       "    .dataframe thead th {\n",
       "        text-align: left;\n",
       "    }\n",
       "\n",
       "    .dataframe tbody tr th {\n",
       "        vertical-align: top;\n",
       "    }\n",
       "</style>\n",
       "<table border=\"1\" class=\"dataframe\">\n",
       "  <thead>\n",
       "    <tr style=\"text-align: right;\">\n",
       "      <th></th>\n",
       "      <th>ClinicalTrialSeriesID</th>\n",
       "      <th>ClinicalTrialTimePointID</th>\n",
       "      <th>Columns</th>\n",
       "      <th>ContentCreatorName</th>\n",
       "      <th>NumberOfFrames</th>\n",
       "      <th>Rows</th>\n",
       "      <th>SOPInstanceUID</th>\n",
       "      <th>SegmentationType</th>\n",
       "    </tr>\n",
       "  </thead>\n",
       "  <tbody>\n",
       "    <tr>\n",
       "      <th>0</th>\n",
       "      <td>1</td>\n",
       "      <td>1</td>\n",
       "      <td>512</td>\n",
       "      <td>Automated Aortic Arch Reference Region Segment...</td>\n",
       "      <td>12</td>\n",
       "      <td>512</td>\n",
       "      <td>1.2.276.0.7230010.3.1.4.8323329.18234.14400013...</td>\n",
       "      <td>BINARY</td>\n",
       "    </tr>\n",
       "    <tr>\n",
       "      <th>1</th>\n",
       "      <td>1</td>\n",
       "      <td>1</td>\n",
       "      <td>128</td>\n",
       "      <td>Automated Cerebellum Reference Region Segmenta...</td>\n",
       "      <td>14</td>\n",
       "      <td>128</td>\n",
       "      <td>1.2.276.0.7230010.3.1.4.8323329.18264.14400013...</td>\n",
       "      <td>BINARY</td>\n",
       "    </tr>\n",
       "    <tr>\n",
       "      <th>2</th>\n",
       "      <td>1</td>\n",
       "      <td>1</td>\n",
       "      <td>128</td>\n",
       "      <td>Automated Liver Reference Region Segmentation</td>\n",
       "      <td>17</td>\n",
       "      <td>128</td>\n",
       "      <td>1.2.276.0.7230010.3.1.4.8323329.18294.14400013...</td>\n",
       "      <td>BINARY</td>\n",
       "    </tr>\n",
       "    <tr>\n",
       "      <th>3</th>\n",
       "      <td>1</td>\n",
       "      <td>1</td>\n",
       "      <td>128</td>\n",
       "      <td>User1</td>\n",
       "      <td>13</td>\n",
       "      <td>128</td>\n",
       "      <td>1.2.276.0.7230010.3.1.4.8323329.18355.14400013...</td>\n",
       "      <td>BINARY</td>\n",
       "    </tr>\n",
       "    <tr>\n",
       "      <th>4</th>\n",
       "      <td>2</td>\n",
       "      <td>1</td>\n",
       "      <td>128</td>\n",
       "      <td>User1</td>\n",
       "      <td>13</td>\n",
       "      <td>128</td>\n",
       "      <td>1.2.276.0.7230010.3.1.4.8323329.18414.14400013...</td>\n",
       "      <td>BINARY</td>\n",
       "    </tr>\n",
       "  </tbody>\n",
       "</table>\n",
       "</div>"
      ],
      "text/plain": [
       "   ClinicalTrialSeriesID  ClinicalTrialTimePointID  Columns  \\\n",
       "0                      1                         1      512   \n",
       "1                      1                         1      128   \n",
       "2                      1                         1      128   \n",
       "3                      1                         1      128   \n",
       "4                      2                         1      128   \n",
       "\n",
       "                                  ContentCreatorName  NumberOfFrames  Rows  \\\n",
       "0  Automated Aortic Arch Reference Region Segment...              12   512   \n",
       "1  Automated Cerebellum Reference Region Segmenta...              14   128   \n",
       "2      Automated Liver Reference Region Segmentation              17   128   \n",
       "3                                              User1              13   128   \n",
       "4                                              User1              13   128   \n",
       "\n",
       "                                      SOPInstanceUID SegmentationType  \n",
       "0  1.2.276.0.7230010.3.1.4.8323329.18234.14400013...           BINARY  \n",
       "1  1.2.276.0.7230010.3.1.4.8323329.18264.14400013...           BINARY  \n",
       "2  1.2.276.0.7230010.3.1.4.8323329.18294.14400013...           BINARY  \n",
       "3  1.2.276.0.7230010.3.1.4.8323329.18355.14400013...           BINARY  \n",
       "4  1.2.276.0.7230010.3.1.4.8323329.18414.14400013...           BINARY  "
      ]
     },
     "execution_count": 44,
     "metadata": {},
     "output_type": "execute_result"
    }
   ],
   "source": [
    "SEG_df = pd.read_csv(tablesPath+'/SEG.tsv', sep='\\t', low_memory=False)\n",
    "SEG_df.head()"
   ]
  },
  {
   "cell_type": "code",
   "execution_count": 45,
   "metadata": {},
   "outputs": [
    {
     "data": {
      "text/plain": [
       "Index(['ClinicalTrialSeriesID', 'ClinicalTrialTimePointID', 'Columns',\n",
       "       'ContentCreatorName', 'NumberOfFrames', 'Rows', 'SOPInstanceUID',\n",
       "       'SegmentationType'],\n",
       "      dtype='object')"
      ]
     },
     "execution_count": 45,
     "metadata": {},
     "output_type": "execute_result"
    }
   ],
   "source": [
    "SEG_df.columns"
   ]
  },
  {
   "cell_type": "markdown",
   "metadata": {},
   "source": [
    "We can merge the `CompositeContext` and `SEG` tables."
   ]
  },
  {
   "cell_type": "code",
   "execution_count": 46,
   "metadata": {},
   "outputs": [
    {
     "data": {
      "text/html": [
       "<div>\n",
       "<style>\n",
       "    .dataframe thead tr:only-child th {\n",
       "        text-align: right;\n",
       "    }\n",
       "\n",
       "    .dataframe thead th {\n",
       "        text-align: left;\n",
       "    }\n",
       "\n",
       "    .dataframe tbody tr th {\n",
       "        vertical-align: top;\n",
       "    }\n",
       "</style>\n",
       "<table border=\"1\" class=\"dataframe\">\n",
       "  <thead>\n",
       "    <tr style=\"text-align: right;\">\n",
       "      <th></th>\n",
       "      <th>AnatomicRegionSequence_CodeMeaning</th>\n",
       "      <th>AnatomicRegionSequence_CodeValue</th>\n",
       "      <th>AnatomicRegionSequence_CodingSchemeDesignator</th>\n",
       "      <th>SOPInstanceUID</th>\n",
       "      <th>SegmentAlgorithmName</th>\n",
       "      <th>SegmentAlgorithmType</th>\n",
       "      <th>SegmentLabel</th>\n",
       "      <th>SegmentNumber</th>\n",
       "      <th>SegmentedPropertyCategoryCodeSequence_CodeMeaning</th>\n",
       "      <th>SegmentedPropertyCategoryCodeSequence_CodeValue</th>\n",
       "      <th>SegmentedPropertyCategoryCodeSequence_CodingSchemeDesignator</th>\n",
       "      <th>SegmentedPropertyTypeCodeSequence_CodeMeaning</th>\n",
       "      <th>SegmentedPropertyTypeCodeSequence_CodeValue</th>\n",
       "      <th>SegmentedPropertyTypeCodeSequence_CodingSchemeDesignator</th>\n",
       "    </tr>\n",
       "  </thead>\n",
       "  <tbody>\n",
       "    <tr>\n",
       "      <th>0</th>\n",
       "      <td>Aortic arch</td>\n",
       "      <td>T-42300</td>\n",
       "      <td>SRT</td>\n",
       "      <td>1.2.276.0.7230010.3.1.4.8323329.18234.14400013...</td>\n",
       "      <td>Iowa QIN Aortic Arch Segmentation</td>\n",
       "      <td>AUTOMATIC</td>\n",
       "      <td>Reference Region</td>\n",
       "      <td>1</td>\n",
       "      <td>Spatial and Relational Concept</td>\n",
       "      <td>R-42018</td>\n",
       "      <td>SRT</td>\n",
       "      <td>Reference Region</td>\n",
       "      <td>C94970</td>\n",
       "      <td>NCIt</td>\n",
       "    </tr>\n",
       "    <tr>\n",
       "      <th>1</th>\n",
       "      <td>Cerebellum</td>\n",
       "      <td>T-A6000</td>\n",
       "      <td>SRT</td>\n",
       "      <td>1.2.276.0.7230010.3.1.4.8323329.18264.14400013...</td>\n",
       "      <td>Iowa QIN Cerebellum Segmentation</td>\n",
       "      <td>AUTOMATIC</td>\n",
       "      <td>Reference Region</td>\n",
       "      <td>1</td>\n",
       "      <td>Spatial and Relational Concept</td>\n",
       "      <td>R-42018</td>\n",
       "      <td>SRT</td>\n",
       "      <td>Reference Region</td>\n",
       "      <td>C94970</td>\n",
       "      <td>NCIt</td>\n",
       "    </tr>\n",
       "    <tr>\n",
       "      <th>2</th>\n",
       "      <td>Liver</td>\n",
       "      <td>T-62000</td>\n",
       "      <td>SRT</td>\n",
       "      <td>1.2.276.0.7230010.3.1.4.8323329.18294.14400013...</td>\n",
       "      <td>Iowa QIN Liver Segmentation</td>\n",
       "      <td>AUTOMATIC</td>\n",
       "      <td>Reference Region</td>\n",
       "      <td>1</td>\n",
       "      <td>Spatial and Relational Concept</td>\n",
       "      <td>R-42018</td>\n",
       "      <td>SRT</td>\n",
       "      <td>Reference Region</td>\n",
       "      <td>C94970</td>\n",
       "      <td>NCIt</td>\n",
       "    </tr>\n",
       "    <tr>\n",
       "      <th>3</th>\n",
       "      <td>pharyngeal tonsil (adenoid)</td>\n",
       "      <td>T-C5300</td>\n",
       "      <td>SRT</td>\n",
       "      <td>1.2.276.0.7230010.3.1.4.8323329.18355.14400013...</td>\n",
       "      <td>NaN</td>\n",
       "      <td>MANUAL</td>\n",
       "      <td>Neoplasm, Primary</td>\n",
       "      <td>1</td>\n",
       "      <td>Morphologically Altered Structure</td>\n",
       "      <td>M-01000</td>\n",
       "      <td>SRT</td>\n",
       "      <td>Neoplasm, Primary</td>\n",
       "      <td>M-80003</td>\n",
       "      <td>SRT</td>\n",
       "    </tr>\n",
       "    <tr>\n",
       "      <th>4</th>\n",
       "      <td>pharyngeal tonsil (adenoid)</td>\n",
       "      <td>T-C5300</td>\n",
       "      <td>SRT</td>\n",
       "      <td>1.2.276.0.7230010.3.1.4.8323329.18414.14400013...</td>\n",
       "      <td>NaN</td>\n",
       "      <td>MANUAL</td>\n",
       "      <td>Neoplasm, Primary</td>\n",
       "      <td>1</td>\n",
       "      <td>Morphologically Altered Structure</td>\n",
       "      <td>M-01000</td>\n",
       "      <td>SRT</td>\n",
       "      <td>Neoplasm, Primary</td>\n",
       "      <td>M-80003</td>\n",
       "      <td>SRT</td>\n",
       "    </tr>\n",
       "  </tbody>\n",
       "</table>\n",
       "</div>"
      ],
      "text/plain": [
       "  AnatomicRegionSequence_CodeMeaning AnatomicRegionSequence_CodeValue  \\\n",
       "0                        Aortic arch                          T-42300   \n",
       "1                         Cerebellum                          T-A6000   \n",
       "2                              Liver                          T-62000   \n",
       "3        pharyngeal tonsil (adenoid)                          T-C5300   \n",
       "4        pharyngeal tonsil (adenoid)                          T-C5300   \n",
       "\n",
       "  AnatomicRegionSequence_CodingSchemeDesignator  \\\n",
       "0                                           SRT   \n",
       "1                                           SRT   \n",
       "2                                           SRT   \n",
       "3                                           SRT   \n",
       "4                                           SRT   \n",
       "\n",
       "                                      SOPInstanceUID  \\\n",
       "0  1.2.276.0.7230010.3.1.4.8323329.18234.14400013...   \n",
       "1  1.2.276.0.7230010.3.1.4.8323329.18264.14400013...   \n",
       "2  1.2.276.0.7230010.3.1.4.8323329.18294.14400013...   \n",
       "3  1.2.276.0.7230010.3.1.4.8323329.18355.14400013...   \n",
       "4  1.2.276.0.7230010.3.1.4.8323329.18414.14400013...   \n",
       "\n",
       "                SegmentAlgorithmName SegmentAlgorithmType       SegmentLabel  \\\n",
       "0  Iowa QIN Aortic Arch Segmentation            AUTOMATIC   Reference Region   \n",
       "1   Iowa QIN Cerebellum Segmentation            AUTOMATIC   Reference Region   \n",
       "2        Iowa QIN Liver Segmentation            AUTOMATIC   Reference Region   \n",
       "3                                NaN               MANUAL  Neoplasm, Primary   \n",
       "4                                NaN               MANUAL  Neoplasm, Primary   \n",
       "\n",
       "   SegmentNumber SegmentedPropertyCategoryCodeSequence_CodeMeaning  \\\n",
       "0              1                    Spatial and Relational Concept   \n",
       "1              1                    Spatial and Relational Concept   \n",
       "2              1                    Spatial and Relational Concept   \n",
       "3              1                 Morphologically Altered Structure   \n",
       "4              1                 Morphologically Altered Structure   \n",
       "\n",
       "  SegmentedPropertyCategoryCodeSequence_CodeValue  \\\n",
       "0                                         R-42018   \n",
       "1                                         R-42018   \n",
       "2                                         R-42018   \n",
       "3                                         M-01000   \n",
       "4                                         M-01000   \n",
       "\n",
       "  SegmentedPropertyCategoryCodeSequence_CodingSchemeDesignator  \\\n",
       "0                                                SRT             \n",
       "1                                                SRT             \n",
       "2                                                SRT             \n",
       "3                                                SRT             \n",
       "4                                                SRT             \n",
       "\n",
       "  SegmentedPropertyTypeCodeSequence_CodeMeaning  \\\n",
       "0                              Reference Region   \n",
       "1                              Reference Region   \n",
       "2                              Reference Region   \n",
       "3                             Neoplasm, Primary   \n",
       "4                             Neoplasm, Primary   \n",
       "\n",
       "  SegmentedPropertyTypeCodeSequence_CodeValue  \\\n",
       "0                                      C94970   \n",
       "1                                      C94970   \n",
       "2                                      C94970   \n",
       "3                                     M-80003   \n",
       "4                                     M-80003   \n",
       "\n",
       "  SegmentedPropertyTypeCodeSequence_CodingSchemeDesignator  \n",
       "0                                               NCIt        \n",
       "1                                               NCIt        \n",
       "2                                               NCIt        \n",
       "3                                                SRT        \n",
       "4                                                SRT        "
      ]
     },
     "execution_count": 46,
     "metadata": {},
     "output_type": "execute_result"
    }
   ],
   "source": [
    "SEGSegments_df = pd.read_csv(tablesPath+'/SEG_Segments.tsv', sep='\\t', low_memory=False)\n",
    "SEGSegments_df.head()"
   ]
  },
  {
   "cell_type": "code",
   "execution_count": 47,
   "metadata": {},
   "outputs": [
    {
     "data": {
      "text/plain": [
       "Index(['AnatomicRegionSequence_CodeMeaning',\n",
       "       'AnatomicRegionSequence_CodeValue',\n",
       "       'AnatomicRegionSequence_CodingSchemeDesignator', 'SOPInstanceUID',\n",
       "       'SegmentAlgorithmName', 'SegmentAlgorithmType', 'SegmentLabel',\n",
       "       'SegmentNumber', 'SegmentedPropertyCategoryCodeSequence_CodeMeaning',\n",
       "       'SegmentedPropertyCategoryCodeSequence_CodeValue',\n",
       "       'SegmentedPropertyCategoryCodeSequence_CodingSchemeDesignator',\n",
       "       'SegmentedPropertyTypeCodeSequence_CodeMeaning',\n",
       "       'SegmentedPropertyTypeCodeSequence_CodeValue',\n",
       "       'SegmentedPropertyTypeCodeSequence_CodingSchemeDesignator'],\n",
       "      dtype='object')"
      ]
     },
     "execution_count": 47,
     "metadata": {},
     "output_type": "execute_result"
    }
   ],
   "source": [
    "SEGSegments_df.columns"
   ]
  },
  {
   "cell_type": "code",
   "execution_count": 48,
   "metadata": {},
   "outputs": [
    {
     "data": {
      "text/plain": [
       "<matplotlib.axes._subplots.AxesSubplot at 0x114da0080>"
      ]
     },
     "execution_count": 48,
     "metadata": {},
     "output_type": "execute_result"
    },
    {
     "data": {
      "image/png": "[encoded data removed]",
      "text/plain": [
       "<matplotlib.figure.Figure at 0x1086480f0>"
      ]
     },
     "metadata": {},
     "output_type": "display_data"
    }
   ],
   "source": [
    "%matplotlib inline\n",
    "import seaborn as sns\n",
    "import matplotlib\n",
    "sns.countplot(y=\"AnatomicRegionSequence_CodeMeaning\",data=SEGSegments_df)"
   ]
  },
  {
   "cell_type": "code",
   "execution_count": 49,
   "metadata": {
    "collapsed": true
   },
   "outputs": [],
   "source": [
    "SEG_merged = pd.merge(CompositeContext_df,SEGDF,on=\"SOPInstanceUID\")\n",
    "SEG_merged = pd.merge(SEG_merged, SEGSegments_df, on=\"SOPInstanceUID\")"
   ]
  },
  {
   "cell_type": "code",
   "execution_count": 50,
   "metadata": {},
   "outputs": [
    {
     "data": {
      "text/plain": [
       "Index(['BodyPartExamined', 'ManufacturerModelName', 'Modality', 'PatientAge',\n",
       "       'PatientID', 'PatientName', 'PatientSex', 'PatientWeight',\n",
       "       'SOPClassUID', 'SOPInstanceUID', 'SeriesDate', 'SeriesDescription',\n",
       "       'SeriesInstanceUID', 'SeriesTime', 'SoftwareVersions', 'StudyDate',\n",
       "       'StudyDescription', 'StudyInstanceUID', 'StudyTime',\n",
       "       'ClinicalTrialSeriesID', 'ClinicalTrialTimePointID', 'Columns',\n",
       "       'ContentCreatorName', 'NumberOfFrames', 'Rows', 'SegmentationType',\n",
       "       'AnatomicRegionSequence_CodeMeaning',\n",
       "       'AnatomicRegionSequence_CodeValue',\n",
       "       'AnatomicRegionSequence_CodingSchemeDesignator', 'SegmentAlgorithmName',\n",
       "       'SegmentAlgorithmType', 'SegmentLabel', 'SegmentNumber',\n",
       "       'SegmentedPropertyCategoryCodeSequence_CodeMeaning',\n",
       "       'SegmentedPropertyCategoryCodeSequence_CodeValue',\n",
       "       'SegmentedPropertyCategoryCodeSequence_CodingSchemeDesignator',\n",
       "       'SegmentedPropertyTypeCodeSequence_CodeMeaning',\n",
       "       'SegmentedPropertyTypeCodeSequence_CodeValue',\n",
       "       'SegmentedPropertyTypeCodeSequence_CodingSchemeDesignator'],\n",
       "      dtype='object')"
      ]
     },
     "execution_count": 50,
     "metadata": {},
     "output_type": "execute_result"
    }
   ],
   "source": [
    "SEG_merged.columns"
   ]
  },
  {
   "cell_type": "code",
   "execution_count": 51,
   "metadata": {},
   "outputs": [
    {
     "data": {
      "text/plain": [
       "tumor segmentation - User3 SemiAuto trial 1    230\n",
       "tumor segmentation - User3 Manual trial 1      230\n",
       "tumor segmentation - User1 SemiAuto trial 1    230\n",
       "tumor segmentation - User1 Manual trial 2      230\n",
       "tumor segmentation - User1 Manual trial 1      230\n",
       "tumor segmentation - User2 SemiAuto trial 1    230\n",
       "tumor segmentation - User2 Manual trial 1      230\n",
       "tumor segmentation - User3 SemiAuto trial 2    230\n",
       "tumor segmentation - User1 SemiAuto trial 2    230\n",
       "tumor segmentation - User3 Manual trial 2      230\n",
       "tumor segmentation - User2 SemiAuto trial 2    230\n",
       "tumor segmentation - User2 Manual trial 2      230\n",
       "auto liver segmentation                         59\n",
       "auto aorta segmentation                         57\n",
       "auto cerebellum segmentation                    57\n",
       "manual cerebellum segmentation                   3\n",
       "manual aorta segmentation                        3\n",
       "manual liver segmentation                        1\n",
       "Name: SeriesDescription, dtype: int64"
      ]
     },
     "execution_count": 51,
     "metadata": {},
     "output_type": "execute_result"
    }
   ],
   "source": [
    "SEG_merged[\"SeriesDescription\"].value_counts()"
   ]
  },
  {
   "cell_type": "code",
   "execution_count": 52,
   "metadata": {},
   "outputs": [
    {
     "data": {
      "text/plain": [
       "MANUAL           1387\n",
       "SEMIAUTOMATIC    1380\n",
       "AUTOMATIC         173\n",
       "Name: SegmentAlgorithmType, dtype: int64"
      ]
     },
     "execution_count": 52,
     "metadata": {},
     "output_type": "execute_result"
    }
   ],
   "source": [
    "SEG_merged[\"SegmentAlgorithmType\"].value_counts()"
   ]
  },
  {
   "cell_type": "code",
   "execution_count": 53,
   "metadata": {},
   "outputs": [
    {
     "data": {
      "text/plain": [
       "lymph node of head and neck    171\n",
       "pharyngeal tonsil (adenoid)     25\n",
       "base of tongue                  22\n",
       "oropharynx                       5\n",
       "nasopharynx                      3\n",
       "hypopharynx                      2\n",
       "pyriform sinus                   2\n",
       "Name: AnatomicRegionSequence_CodeMeaning, dtype: int64"
      ]
     },
     "execution_count": 53,
     "metadata": {},
     "output_type": "execute_result"
    },
    {
     "data": {
      "image/png": "[encoded data removed]",
      "text/plain": [
       "<matplotlib.figure.Figure at 0x108deee10>"
      ]
     },
     "metadata": {},
     "output_type": "display_data"
    }
   ],
   "source": [
    "oneReaderOneSession = SEG_merged[SEG_merged[\"SeriesDescription\"]==\"tumor segmentation - User1 SemiAuto trial 1\"]\n",
    "sns.countplot(y=\"AnatomicRegionSequence_CodeMeaning\",data=oneReaderOneSession)\n",
    "oneReaderOneSession[\"AnatomicRegionSequence_CodeMeaning\"].value_counts()"
   ]
  },
  {
   "cell_type": "markdown",
   "metadata": {},
   "source": [
    "Let's figure out how many structures were segmented in each of the studies. \n",
    "\n",
    "`SEG_merged` table has one row per segment, and each row contains `PatientID`, because of the way we constructed it. So we can just count the number of times each of the `PatientID`s is encountered.\n"
   ]
  },
  {
   "cell_type": "code",
   "execution_count": 54,
   "metadata": {},
   "outputs": [
    {
     "data": {
      "text/plain": [
       "QIN-HEADNECK-01-0067    147\n",
       "QIN-HEADNECK-01-0139    135\n",
       "QIN-HEADNECK-01-0366    123\n",
       "QIN-HEADNECK-01-0239    111\n",
       "QIN-HEADNECK-01-0057    111\n",
       "QIN-HEADNECK-01-0047    102\n",
       "QIN-HEADNECK-01-0190     99\n",
       "QIN-HEADNECK-01-0135     87\n",
       "QIN-HEADNECK-01-0180     87\n",
       "QIN-HEADNECK-01-0100     75\n",
       "QIN-HEADNECK-01-0112     75\n",
       "QIN-HEADNECK-01-0089     75\n",
       "QIN-HEADNECK-01-0201     75\n",
       "QIN-HEADNECK-01-0228     63\n",
       "QIN-HEADNECK-01-0165     63\n",
       "QIN-HEADNECK-01-0186     51\n",
       "QIN-HEADNECK-01-0203     51\n",
       "QIN-HEADNECK-01-0129     51\n",
       "QIN-HEADNECK-01-0071     51\n",
       "QIN-HEADNECK-01-0118     51\n",
       "QIN-HEADNECK-01-0220     51\n",
       "QIN-HEADNECK-01-0140     51\n",
       "QIN-HEADNECK-01-0064     51\n",
       "QIN-HEADNECK-01-0086     51\n",
       "QIN-HEADNECK-01-0244     51\n",
       "QIN-HEADNECK-01-0079     51\n",
       "QIN-HEADNECK-01-0026     51\n",
       "QIN-HEADNECK-01-0074     51\n",
       "QIN-HEADNECK-01-0028     39\n",
       "QIN-HEADNECK-01-0041     39\n",
       "QIN-HEADNECK-01-0120     39\n",
       "QIN-HEADNECK-01-0199     39\n",
       "QIN-HEADNECK-01-0275     39\n",
       "QIN-HEADNECK-01-0224     39\n",
       "QIN-HEADNECK-01-0184     39\n",
       "QIN-HEADNECK-01-0062     27\n",
       "QIN-HEADNECK-01-0060     27\n",
       "QIN-HEADNECK-01-0098     27\n",
       "QIN-HEADNECK-01-0212     27\n",
       "QIN-HEADNECK-01-0116     27\n",
       "QIN-HEADNECK-01-0172     27\n",
       "QIN-HEADNECK-01-0091     27\n",
       "QIN-HEADNECK-01-0137     27\n",
       "QIN-HEADNECK-01-0046     27\n",
       "QIN-HEADNECK-01-0164     27\n",
       "QIN-HEADNECK-01-0034     27\n",
       "QIN-HEADNECK-01-0081     27\n",
       "QIN-HEADNECK-01-0131     27\n",
       "QIN-HEADNECK-01-0222     27\n",
       "QIN-HEADNECK-01-0200     27\n",
       "QIN-HEADNECK-01-0127     27\n",
       "QIN-HEADNECK-01-0157     27\n",
       "QIN-HEADNECK-01-0024     27\n",
       "QIN-HEADNECK-01-0065     15\n",
       "QIN-HEADNECK-01-0115     15\n",
       "QIN-HEADNECK-01-0214     15\n",
       "QIN-HEADNECK-01-0055     15\n",
       "QIN-HEADNECK-01-0017     15\n",
       "QIN-HEADNECK-01-0003     15\n",
       "Name: PatientID, dtype: int64"
      ]
     },
     "execution_count": 54,
     "metadata": {},
     "output_type": "execute_result"
    }
   ],
   "source": [
    "SEG_merged[\"PatientID\"].value_counts()"
   ]
  },
  {
   "cell_type": "code",
   "execution_count": 55,
   "metadata": {},
   "outputs": [
    {
     "data": {
      "text/plain": [
       "tumor segmentation - User3 Manual trial 1      12\n",
       "tumor segmentation - User3 SemiAuto trial 1    12\n",
       "tumor segmentation - User2 SemiAuto trial 1    12\n",
       "tumor segmentation - User2 SemiAuto trial 2    12\n",
       "tumor segmentation - User3 Manual trial 2      12\n",
       "tumor segmentation - User1 SemiAuto trial 2    12\n",
       "tumor segmentation - User3 SemiAuto trial 2    12\n",
       "tumor segmentation - User2 Manual trial 2      12\n",
       "tumor segmentation - User2 Manual trial 1      12\n",
       "tumor segmentation - User1 Manual trial 2      12\n",
       "tumor segmentation - User1 Manual trial 1      12\n",
       "tumor segmentation - User1 SemiAuto trial 1    12\n",
       "auto liver segmentation                         1\n",
       "auto aorta segmentation                         1\n",
       "auto cerebellum segmentation                    1\n",
       "Name: SeriesDescription, dtype: int64"
      ]
     },
     "execution_count": 55,
     "metadata": {},
     "output_type": "execute_result"
    }
   ],
   "source": [
    "SEG_merged[SEG_merged[\"PatientID\"] == \"QIN-HEADNECK-01-0067\"][\"SeriesDescription\"].value_counts()"
   ]
  },
  {
   "cell_type": "markdown",
   "metadata": {},
   "source": [
    "# Segmentation-based measurements"
   ]
  },
  {
   "cell_type": "code",
   "execution_count": 56,
   "metadata": {
    "collapsed": true
   },
   "outputs": [],
   "source": [
    "SR_df = pd.read_csv(tablesPath+'/SR.tsv', sep='\\t', low_memory=False)\n",
    "SR1500_MeasurementGroups_df = pd.read_csv(tablesPath+'/SR1500_MeasurementGroups.tsv', sep='\\t', low_memory=False)\n",
    "SR1500_Measurements_df = pd.read_csv(tablesPath+'/SR1500_Measurements.tsv', sep='\\t', low_memory=False)"
   ]
  },
  {
   "cell_type": "code",
   "execution_count": 57,
   "metadata": {},
   "outputs": [
    {
     "data": {
      "text/plain": [
       "Index(['CompletionFlag', 'SOPInstanceUID', 'TemplateIdentifier',\n",
       "       'VerificationFlag'],\n",
       "      dtype='object')"
      ]
     },
     "execution_count": 57,
     "metadata": {},
     "output_type": "execute_result"
    }
   ],
   "source": [
    "SR_df.columns"
   ]
  },
  {
   "cell_type": "code",
   "execution_count": 58,
   "metadata": {},
   "outputs": [
    {
     "data": {
      "text/plain": [
       "Index(['DeviceObserverName', 'FindingSite_CodeMeaning',\n",
       "       'FindingSite_CodeValue', 'FindingSite_CodingSchemeDesignator',\n",
       "       'Finding_CodeMeaning', 'Finding_CodeValue',\n",
       "       'Finding_CodingSchemeDesignator', 'ObserverType', 'PersonObserverName',\n",
       "       'SOPInstanceUID', 'TrackingIdentifier', 'TrackingUniqueIdentifier',\n",
       "       'activitySession', 'measurementMethod_CodeMeaning',\n",
       "       'measurementMethod_CodeValue',\n",
       "       'measurementMethod_CodingSchemeDesignator', 'timePoint'],\n",
       "      dtype='object')"
      ]
     },
     "execution_count": 58,
     "metadata": {},
     "output_type": "execute_result"
    }
   ],
   "source": [
    "SR1500_MeasurementGroups_df.columns"
   ]
  },
  {
   "cell_type": "code",
   "execution_count": 59,
   "metadata": {},
   "outputs": [
    {
     "data": {
      "text/plain": [
       "Index(['SOPInstanceUID', 'TrackingUniqueIdentifier',\n",
       "       'derivationModifier_CodeMeaning', 'derivationModifier_CodeValue',\n",
       "       'derivationModifier_CodingSchemeDesignator', 'quantity_CodeMeaning',\n",
       "       'quantity_CodeValue', 'quantity_CodingSchemeDesignator',\n",
       "       'units_CodeMeaning', 'units_CodeValue', 'units_CodingSchemeDesignator',\n",
       "       'value'],\n",
       "      dtype='object')"
      ]
     },
     "execution_count": 59,
     "metadata": {},
     "output_type": "execute_result"
    }
   ],
   "source": [
    "SR1500_Measurements_df.columns"
   ]
  },
  {
   "cell_type": "markdown",
   "metadata": {},
   "source": [
    "Each finding is uniquely identified, so we can track measurements for the same finding done by different tools/readers, or over longitudinally over the period of time."
   ]
  },
  {
   "cell_type": "code",
   "execution_count": 60,
   "metadata": {},
   "outputs": [
    {
     "data": {
      "text/plain": [
       "2.25.115988184857360261395218474256090216364    12\n",
       "2.25.130838263999915763240244948783750657964    12\n",
       "2.25.26204673713330650616301797533567367084     12\n",
       "2.25.327754131831492883749226707242039850924    12\n",
       "2.25.148854382121548657707777160917106505644    12\n",
       "2.25.324064553154521232383902831212524156844    12\n",
       "2.25.320370907695967723830130278572037715884    12\n",
       "2.25.86405936300547861320302365113977878444     12\n",
       "2.25.37019651447091917750681815574462281644     12\n",
       "2.25.66856991711033119855991234108910942124     12\n",
       "2.25.64540722311818720812778811496939337644     12\n",
       "2.25.41561661770187041977042149674433066924     12\n",
       "2.25.113234422298431845535674757563000240044    12\n",
       "2.25.103079984808902877894036258209407121324    12\n",
       "2.25.105182251810631622677618135192565659564    12\n",
       "2.25.31052150593844396424184168140377110444     12\n",
       "2.25.99750201817230754594452439579794290604     12\n",
       "2.25.127380548125105356744175330995772274604    12\n",
       "2.25.111209773542955075238346523717106874284    12\n",
       "2.25.8928973669376936946672915098242070444      12\n",
       "2.25.135356275320303691656104822485725165484    12\n",
       "2.25.106831813053161986749407381720701810604    12\n",
       "2.25.333657797761921037156281860379899803564    12\n",
       "2.25.6917788947837840730875328111268804524      12\n",
       "2.25.117890472054086751564280486954205657004    12\n",
       "2.25.125387154087458838585384374302846957484    12\n",
       "2.25.97540606008307186198019340477994579884     12\n",
       "2.25.129196200910685749145365555255074305964    12\n",
       "2.25.141738288412446342285171380642694248364    12\n",
       "2.25.119742469174657312445054997629845321644    12\n",
       "                                                ..\n",
       "2.25.140741147319772190754163690482389956524     1\n",
       "2.25.143132765870664155753001077132889110444     1\n",
       "2.25.99749915011282452957550350950694074284      1\n",
       "2.25.150416243334147107156353985840297228204     1\n",
       "2.25.332794598216230250629123063751154546604     1\n",
       "2.25.115765926093058995648967305412212635564     1\n",
       "2.25.131188262330638777377998188538754971564     1\n",
       "2.25.66856822162765339330308783924857223084      1\n",
       "2.25.130834815198001517313629501815592531884     1\n",
       "2.25.336237779684627415332461145901443790764     1\n",
       "2.25.324210999282394223728154113785764722604     1\n",
       "2.25.66458143672148685755607942960447961004      1\n",
       "2.25.150180998281728128342527859207520073644     1\n",
       "2.25.48220089244835958597678567707092400044      1\n",
       "2.25.133428577275014001486046432436418459564     1\n",
       "2.25.68656540580300862887922194624867678124      1\n",
       "2.25.94390145662824973372214621419253741484      1\n",
       "2.25.12950946971642558056580121352436922284      1\n",
       "2.25.81966262618127536910881483928337594284      1\n",
       "2.25.37019403462943248103305147781897729964      1\n",
       "2.25.33040775888389181012495369422931703724      1\n",
       "2.25.85231118922900845728450769226089576364      1\n",
       "2.25.44650418430421520594085640769212725164      1\n",
       "2.25.335233637199231878261940314262248306604     1\n",
       "2.25.667075143458704389998918795115050924        1\n",
       "2.25.43955688064937815469099004125582931884      1\n",
       "2.25.8602998109809872898721413804419135404       1\n",
       "2.25.117066540362582909870763178513565431724     1\n",
       "2.25.22893494286498501725828318958932932524      1\n",
       "2.25.62308074276730002064679494847349864364      1\n",
       "Name: TrackingUniqueIdentifier, Length: 2288, dtype: int64"
      ]
     },
     "execution_count": 60,
     "metadata": {},
     "output_type": "execute_result"
    }
   ],
   "source": [
    "SR1500_MeasurementGroups_df[\"TrackingUniqueIdentifier\"].value_counts()"
   ]
  },
  {
   "cell_type": "markdown",
   "metadata": {},
   "source": [
    "Note that `SOPInstanceUID` is attached to every item to link to the DICOM instance where it comes from. `TrackingUniqueIdentifier` is unique for every structure being segmented, and comes up 12 times for each finding that is not a reference region: had 3 users, with each user segmenting the same structure using manual or semi-automatic approaches, on 2 occasions - 3x2x2 = 12.\n",
    "\n",
    "Since measurements for the segmentations produced using each combination of user/segmentation method/segmentation session is stored into a separate series, we can uniquely match attributes of the MeasurementGroup with the individual measurements by merging on the combination of `SOPInstanceUID` and `TrackingUniqueIdentifier` keys."
   ]
  },
  {
   "cell_type": "code",
   "execution_count": 61,
   "metadata": {},
   "outputs": [
    {
     "data": {
      "text/plain": [
       "(60531, 27)"
      ]
     },
     "execution_count": 61,
     "metadata": {},
     "output_type": "execute_result"
    }
   ],
   "source": [
    "SR_merged = pd.merge(SR1500_Measurements_df,SR1500_MeasurementGroups_df,on=[\"SOPInstanceUID\",\"TrackingUniqueIdentifier\"])\n",
    "SR_merged.shape"
   ]
  },
  {
   "cell_type": "code",
   "execution_count": 62,
   "metadata": {},
   "outputs": [
    {
     "data": {
      "text/plain": [
       "Index(['SOPInstanceUID', 'TrackingUniqueIdentifier',\n",
       "       'derivationModifier_CodeMeaning', 'derivationModifier_CodeValue',\n",
       "       'derivationModifier_CodingSchemeDesignator', 'quantity_CodeMeaning',\n",
       "       'quantity_CodeValue', 'quantity_CodingSchemeDesignator',\n",
       "       'units_CodeMeaning', 'units_CodeValue', 'units_CodingSchemeDesignator',\n",
       "       'value', 'DeviceObserverName', 'FindingSite_CodeMeaning',\n",
       "       'FindingSite_CodeValue', 'FindingSite_CodingSchemeDesignator',\n",
       "       'Finding_CodeMeaning', 'Finding_CodeValue',\n",
       "       'Finding_CodingSchemeDesignator', 'ObserverType', 'PersonObserverName',\n",
       "       'TrackingIdentifier', 'activitySession',\n",
       "       'measurementMethod_CodeMeaning', 'measurementMethod_CodeValue',\n",
       "       'measurementMethod_CodingSchemeDesignator', 'timePoint'],\n",
       "      dtype='object')"
      ]
     },
     "execution_count": 62,
     "metadata": {},
     "output_type": "execute_result"
    }
   ],
   "source": [
    "SR_merged.columns"
   ]
  },
  {
   "cell_type": "code",
   "execution_count": 63,
   "metadata": {},
   "outputs": [
    {
     "data": {
      "text/plain": [
       "User3    19712\n",
       "User2    19694\n",
       "User1    19685\n",
       "User4       48\n",
       "User5        8\n",
       "Name: PersonObserverName, dtype: int64"
      ]
     },
     "execution_count": 63,
     "metadata": {},
     "output_type": "execute_result"
    }
   ],
   "source": [
    "SR_merged[\"PersonObserverName\"].value_counts()"
   ]
  },
  {
   "cell_type": "markdown",
   "metadata": {},
   "source": [
    "Didn't expect to see `User4` and `User5` ... what are they?"
   ]
  },
  {
   "cell_type": "code",
   "execution_count": 64,
   "metadata": {},
   "outputs": [
    {
     "data": {
      "text/plain": [
       "2152     Aortic arch\n",
       "2153     Aortic arch\n",
       "2154     Aortic arch\n",
       "2155     Aortic arch\n",
       "2156     Aortic arch\n",
       "2157     Aortic arch\n",
       "2158     Aortic arch\n",
       "2159     Aortic arch\n",
       "6963           Liver\n",
       "6964           Liver\n",
       "6965           Liver\n",
       "6966           Liver\n",
       "6967           Liver\n",
       "6968           Liver\n",
       "6969           Liver\n",
       "6970           Liver\n",
       "35589    Aortic arch\n",
       "35590    Aortic arch\n",
       "35591    Aortic arch\n",
       "35592    Aortic arch\n",
       "35593    Aortic arch\n",
       "35594    Aortic arch\n",
       "35595    Aortic arch\n",
       "35596    Aortic arch\n",
       "35597     Cerebellum\n",
       "35598     Cerebellum\n",
       "35599     Cerebellum\n",
       "35600     Cerebellum\n",
       "35601     Cerebellum\n",
       "35602     Cerebellum\n",
       "35603     Cerebellum\n",
       "35604     Cerebellum\n",
       "36665     Cerebellum\n",
       "36666     Cerebellum\n",
       "36667     Cerebellum\n",
       "36668     Cerebellum\n",
       "36669     Cerebellum\n",
       "36670     Cerebellum\n",
       "36671     Cerebellum\n",
       "36672     Cerebellum\n",
       "57158    Aortic arch\n",
       "57159    Aortic arch\n",
       "57160    Aortic arch\n",
       "57161    Aortic arch\n",
       "57162    Aortic arch\n",
       "57163    Aortic arch\n",
       "57164    Aortic arch\n",
       "57165    Aortic arch\n",
       "57166     Cerebellum\n",
       "57167     Cerebellum\n",
       "57168     Cerebellum\n",
       "57169     Cerebellum\n",
       "57170     Cerebellum\n",
       "57171     Cerebellum\n",
       "57172     Cerebellum\n",
       "57173     Cerebellum\n",
       "Name: FindingSite_CodeMeaning, dtype: object"
      ]
     },
     "execution_count": 64,
     "metadata": {},
     "output_type": "execute_result"
    }
   ],
   "source": [
    "SR_merged[SR_merged[\"PersonObserverName\"].isin([\"User4\",\"User5\"])][\"FindingSite_CodeMeaning\"]"
   ]
  },
  {
   "cell_type": "markdown",
   "metadata": {},
   "source": [
    "Now let's add all of the composite context information so that we know what patient each measurement belongs to."
   ]
  },
  {
   "cell_type": "code",
   "execution_count": 65,
   "metadata": {},
   "outputs": [
    {
     "data": {
      "text/plain": [
       "(60531, 45)"
      ]
     },
     "execution_count": 65,
     "metadata": {},
     "output_type": "execute_result"
    }
   ],
   "source": [
    "SR_merged=pd.merge(SR_merged, CompositeContext_df, on=\"SOPInstanceUID\")\n",
    "SR_merged.shape"
   ]
  },
  {
   "cell_type": "code",
   "execution_count": 66,
   "metadata": {},
   "outputs": [
    {
     "data": {
      "text/plain": [
       "Index(['SOPInstanceUID', 'TrackingUniqueIdentifier',\n",
       "       'derivationModifier_CodeMeaning', 'derivationModifier_CodeValue',\n",
       "       'derivationModifier_CodingSchemeDesignator', 'quantity_CodeMeaning',\n",
       "       'quantity_CodeValue', 'quantity_CodingSchemeDesignator',\n",
       "       'units_CodeMeaning', 'units_CodeValue', 'units_CodingSchemeDesignator',\n",
       "       'value', 'DeviceObserverName', 'FindingSite_CodeMeaning',\n",
       "       'FindingSite_CodeValue', 'FindingSite_CodingSchemeDesignator',\n",
       "       'Finding_CodeMeaning', 'Finding_CodeValue',\n",
       "       'Finding_CodingSchemeDesignator', 'ObserverType', 'PersonObserverName',\n",
       "       'TrackingIdentifier', 'activitySession',\n",
       "       'measurementMethod_CodeMeaning', 'measurementMethod_CodeValue',\n",
       "       'measurementMethod_CodingSchemeDesignator', 'timePoint',\n",
       "       'BodyPartExamined', 'ManufacturerModelName', 'Modality', 'PatientAge',\n",
       "       'PatientID', 'PatientName', 'PatientSex', 'PatientWeight',\n",
       "       'SOPClassUID', 'SeriesDate', 'SeriesDescription', 'SeriesInstanceUID',\n",
       "       'SeriesTime', 'SoftwareVersions', 'StudyDate', 'StudyDescription',\n",
       "       'StudyInstanceUID', 'StudyTime'],\n",
       "      dtype='object')"
      ]
     },
     "execution_count": 66,
     "metadata": {},
     "output_type": "execute_result"
    }
   ],
   "source": [
    "SR_merged.columns"
   ]
  },
  {
   "cell_type": "markdown",
   "metadata": {},
   "source": [
    "## Plot measurements\n",
    "\n",
    "Each finding was expected to be segmented by each of the 3 users, using automated or manual approach, two times each (12 segmentations total). Each finding is assigned a unique identifier, so we can look at the consistency of the segmentation across readers, across segmentation approaches, and across segmentation sessions.\n",
    "\n",
    "But first, let's check and confirm that we have all 12 sets of measurements for each of the unique tracking identifier. Let's only consider primary and secondary neoplasms.\n",
    "\n"
   ]
  },
  {
   "cell_type": "code",
   "execution_count": 67,
   "metadata": {},
   "outputs": [
    {
     "data": {
      "text/plain": [
       "array(['Reference Region', 'Neoplasm, Primary', 'Neoplasm, Secondary'], dtype=object)"
      ]
     },
     "execution_count": 67,
     "metadata": {},
     "output_type": "execute_result"
    }
   ],
   "source": [
    "SR_merged[\"Finding_CodeMeaning\"].unique()"
   ]
  },
  {
   "cell_type": "code",
   "execution_count": 68,
   "metadata": {},
   "outputs": [
    {
     "data": {
      "text/html": [
       "<div>\n",
       "<style>\n",
       "    .dataframe thead tr:only-child th {\n",
       "        text-align: right;\n",
       "    }\n",
       "\n",
       "    .dataframe thead th {\n",
       "        text-align: left;\n",
       "    }\n",
       "\n",
       "    .dataframe tbody tr th {\n",
       "        vertical-align: top;\n",
       "    }\n",
       "</style>\n",
       "<table border=\"1\" class=\"dataframe\">\n",
       "  <thead>\n",
       "    <tr style=\"text-align: right;\">\n",
       "      <th></th>\n",
       "      <th>quantity_CodeMeaning</th>\n",
       "      <th>derivationModifier_CodeMeaning</th>\n",
       "      <th>count</th>\n",
       "    </tr>\n",
       "  </thead>\n",
       "  <tbody>\n",
       "    <tr>\n",
       "      <th>0</th>\n",
       "      <td>SUVbw</td>\n",
       "      <td>25th Percentile Value</td>\n",
       "      <td>2940</td>\n",
       "    </tr>\n",
       "    <tr>\n",
       "      <th>1</th>\n",
       "      <td>SUVbw</td>\n",
       "      <td>75th Percentile Value</td>\n",
       "      <td>2940</td>\n",
       "    </tr>\n",
       "    <tr>\n",
       "      <th>2</th>\n",
       "      <td>SUVbw</td>\n",
       "      <td>Maximum</td>\n",
       "      <td>2940</td>\n",
       "    </tr>\n",
       "    <tr>\n",
       "      <th>3</th>\n",
       "      <td>SUVbw</td>\n",
       "      <td>Mean</td>\n",
       "      <td>2940</td>\n",
       "    </tr>\n",
       "    <tr>\n",
       "      <th>4</th>\n",
       "      <td>SUVbw</td>\n",
       "      <td>Median</td>\n",
       "      <td>2940</td>\n",
       "    </tr>\n",
       "    <tr>\n",
       "      <th>5</th>\n",
       "      <td>SUVbw</td>\n",
       "      <td>Minimum</td>\n",
       "      <td>2940</td>\n",
       "    </tr>\n",
       "    <tr>\n",
       "      <th>6</th>\n",
       "      <td>SUVbw</td>\n",
       "      <td>Peak Value Within ROI</td>\n",
       "      <td>1131</td>\n",
       "    </tr>\n",
       "    <tr>\n",
       "      <th>7</th>\n",
       "      <td>SUVbw</td>\n",
       "      <td>RMS</td>\n",
       "      <td>2760</td>\n",
       "    </tr>\n",
       "    <tr>\n",
       "      <th>8</th>\n",
       "      <td>SUVbw</td>\n",
       "      <td>Standard Deviation</td>\n",
       "      <td>2940</td>\n",
       "    </tr>\n",
       "    <tr>\n",
       "      <th>9</th>\n",
       "      <td>SUVbw</td>\n",
       "      <td>Upper Adjacent Value</td>\n",
       "      <td>2760</td>\n",
       "    </tr>\n",
       "  </tbody>\n",
       "</table>\n",
       "</div>"
      ],
      "text/plain": [
       "  quantity_CodeMeaning derivationModifier_CodeMeaning  count\n",
       "0                SUVbw          25th Percentile Value   2940\n",
       "1                SUVbw          75th Percentile Value   2940\n",
       "2                SUVbw                        Maximum   2940\n",
       "3                SUVbw                           Mean   2940\n",
       "4                SUVbw                         Median   2940\n",
       "5                SUVbw                        Minimum   2940\n",
       "6                SUVbw          Peak Value Within ROI   1131\n",
       "7                SUVbw                            RMS   2760\n",
       "8                SUVbw             Standard Deviation   2940\n",
       "9                SUVbw           Upper Adjacent Value   2760"
      ]
     },
     "execution_count": 68,
     "metadata": {},
     "output_type": "execute_result"
    }
   ],
   "source": [
    "SR_merged.groupby(['quantity_CodeMeaning','derivationModifier_CodeMeaning']).size().reset_index().rename(columns={0:'count'})"
   ]
  },
  {
   "cell_type": "code",
   "execution_count": 69,
   "metadata": {},
   "outputs": [
    {
     "data": {
      "text/html": [
       "<div>\n",
       "<style>\n",
       "    .dataframe thead tr:only-child th {\n",
       "        text-align: right;\n",
       "    }\n",
       "\n",
       "    .dataframe thead th {\n",
       "        text-align: left;\n",
       "    }\n",
       "\n",
       "    .dataframe tbody tr th {\n",
       "        vertical-align: top;\n",
       "    }\n",
       "</style>\n",
       "<table border=\"1\" class=\"dataframe\">\n",
       "  <thead>\n",
       "    <tr style=\"text-align: right;\">\n",
       "      <th></th>\n",
       "      <th>quantity_CodeMeaning</th>\n",
       "      <th>count</th>\n",
       "    </tr>\n",
       "  </thead>\n",
       "  <tbody>\n",
       "    <tr>\n",
       "      <th>0</th>\n",
       "      <td>Glycolysis Within First Quarter of Intensity R...</td>\n",
       "      <td>2760</td>\n",
       "    </tr>\n",
       "    <tr>\n",
       "      <th>1</th>\n",
       "      <td>Glycolysis Within Fourth Quarter of Intensity ...</td>\n",
       "      <td>2760</td>\n",
       "    </tr>\n",
       "    <tr>\n",
       "      <th>2</th>\n",
       "      <td>Glycolysis Within Second Quarter of Intensity ...</td>\n",
       "      <td>2760</td>\n",
       "    </tr>\n",
       "    <tr>\n",
       "      <th>3</th>\n",
       "      <td>Glycolysis Within Third Quarter of Intensity R...</td>\n",
       "      <td>2760</td>\n",
       "    </tr>\n",
       "    <tr>\n",
       "      <th>4</th>\n",
       "      <td>Percent Within First Quarter of Intensity Range</td>\n",
       "      <td>2760</td>\n",
       "    </tr>\n",
       "    <tr>\n",
       "      <th>5</th>\n",
       "      <td>Percent Within Fourth Quarter of Intensity Range</td>\n",
       "      <td>2760</td>\n",
       "    </tr>\n",
       "    <tr>\n",
       "      <th>6</th>\n",
       "      <td>Percent Within Second Quarter of Intensity Range</td>\n",
       "      <td>2760</td>\n",
       "    </tr>\n",
       "    <tr>\n",
       "      <th>7</th>\n",
       "      <td>Percent Within Third Quarter of Intensity Range</td>\n",
       "      <td>2760</td>\n",
       "    </tr>\n",
       "    <tr>\n",
       "      <th>8</th>\n",
       "      <td>SUVbw</td>\n",
       "      <td>27231</td>\n",
       "    </tr>\n",
       "    <tr>\n",
       "      <th>9</th>\n",
       "      <td>Standardized Added Metabolic Activity</td>\n",
       "      <td>2760</td>\n",
       "    </tr>\n",
       "    <tr>\n",
       "      <th>10</th>\n",
       "      <td>Standardized Added Metabolic Activity Background</td>\n",
       "      <td>2760</td>\n",
       "    </tr>\n",
       "    <tr>\n",
       "      <th>11</th>\n",
       "      <td>Total Lesion Glycolysis</td>\n",
       "      <td>2760</td>\n",
       "    </tr>\n",
       "    <tr>\n",
       "      <th>12</th>\n",
       "      <td>Volume</td>\n",
       "      <td>2940</td>\n",
       "    </tr>\n",
       "  </tbody>\n",
       "</table>\n",
       "</div>"
      ],
      "text/plain": [
       "                                 quantity_CodeMeaning  count\n",
       "0   Glycolysis Within First Quarter of Intensity R...   2760\n",
       "1   Glycolysis Within Fourth Quarter of Intensity ...   2760\n",
       "2   Glycolysis Within Second Quarter of Intensity ...   2760\n",
       "3   Glycolysis Within Third Quarter of Intensity R...   2760\n",
       "4     Percent Within First Quarter of Intensity Range   2760\n",
       "5    Percent Within Fourth Quarter of Intensity Range   2760\n",
       "6    Percent Within Second Quarter of Intensity Range   2760\n",
       "7     Percent Within Third Quarter of Intensity Range   2760\n",
       "8                                               SUVbw  27231\n",
       "9               Standardized Added Metabolic Activity   2760\n",
       "10   Standardized Added Metabolic Activity Background   2760\n",
       "11                            Total Lesion Glycolysis   2760\n",
       "12                                             Volume   2940"
      ]
     },
     "execution_count": 69,
     "metadata": {},
     "output_type": "execute_result"
    }
   ],
   "source": [
    "SR_merged.groupby(['quantity_CodeMeaning']).size().reset_index().rename(columns={0:'count'})"
   ]
  },
  {
   "cell_type": "code",
   "execution_count": 70,
   "metadata": {},
   "outputs": [
    {
     "data": {
      "text/plain": [
       "array(['SUVbw', 'Volume', 'Total Lesion Glycolysis',\n",
       "       'Glycolysis Within First Quarter of Intensity Range',\n",
       "       'Glycolysis Within Second Quarter of Intensity Range',\n",
       "       'Glycolysis Within Third Quarter of Intensity Range',\n",
       "       'Glycolysis Within Fourth Quarter of Intensity Range',\n",
       "       'Percent Within First Quarter of Intensity Range',\n",
       "       'Percent Within Second Quarter of Intensity Range',\n",
       "       'Percent Within Third Quarter of Intensity Range',\n",
       "       'Percent Within Fourth Quarter of Intensity Range',\n",
       "       'Standardized Added Metabolic Activity',\n",
       "       'Standardized Added Metabolic Activity Background'], dtype=object)"
      ]
     },
     "execution_count": 70,
     "metadata": {},
     "output_type": "execute_result"
    }
   ],
   "source": [
    "SR_merged[\"quantity_CodeMeaning\"].unique()"
   ]
  },
  {
   "cell_type": "code",
   "execution_count": 71,
   "metadata": {},
   "outputs": [
    {
     "data": {
      "text/plain": [
       "array(['Mean', 'Minimum', 'Maximum', nan, 'Standard Deviation',\n",
       "       '25th Percentile Value', 'Median', '75th Percentile Value',\n",
       "       'Peak Value Within ROI', 'Upper Adjacent Value', 'RMS'], dtype=object)"
      ]
     },
     "execution_count": 71,
     "metadata": {},
     "output_type": "execute_result"
    }
   ],
   "source": [
    "SR_merged[\"derivationModifier_CodeMeaning\"].unique()"
   ]
  },
  {
   "cell_type": "markdown",
   "metadata": {},
   "source": [
    "Observe how for some measurements we have 12 items for a given finding type (and there is always Primary tumor present):"
   ]
  },
  {
   "cell_type": "markdown",
   "metadata": {},
   "source": [
    "Since we have volume of the primary tumor available for every subject, let's see how much it varies across users, tools and segmentation sessions."
   ]
  },
  {
   "cell_type": "code",
   "execution_count": 72,
   "metadata": {},
   "outputs": [
    {
     "name": "stderr",
     "output_type": "stream",
     "text": [
      "/Users/fedorov/.pyenv/versions/3.5.3/lib/python3.5/site-packages/ipykernel_launcher.py:1: UserWarning: Boolean Series key will be reindexed to match DataFrame index.\n",
      "  \"\"\"Entry point for launching an IPython kernel.\n"
     ]
    },
    {
     "data": {
      "text/plain": [
       "59.0"
      ]
     },
     "execution_count": 72,
     "metadata": {},
     "output_type": "execute_result"
    }
   ],
   "source": [
    "SR_merged[SR_merged[\"Finding_CodeMeaning\"]==\"Neoplasm, Primary\"][SR_merged[\"quantity_CodeMeaning\"]==\"Volume\"][\"PatientID\"].shape[0]/12"
   ]
  },
  {
   "cell_type": "markdown",
   "metadata": {},
   "source": [
    "... and for others less than that, since some of the measurements cannot always be computed!"
   ]
  },
  {
   "cell_type": "code",
   "execution_count": 73,
   "metadata": {},
   "outputs": [
    {
     "name": "stderr",
     "output_type": "stream",
     "text": [
      "/Users/fedorov/.pyenv/versions/3.5.3/lib/python3.5/site-packages/ipykernel_launcher.py:1: UserWarning: Boolean Series key will be reindexed to match DataFrame index.\n",
      "  \"\"\"Entry point for launching an IPython kernel.\n"
     ]
    },
    {
     "data": {
      "text/plain": [
       "46.916666666666664"
      ]
     },
     "execution_count": 73,
     "metadata": {},
     "output_type": "execute_result"
    }
   ],
   "source": [
    "SR_merged[SR_merged[\"Finding_CodeMeaning\"]==\"Neoplasm, Primary\"][SR_merged[\"derivationModifier_CodeMeaning\"]==\"Peak Value Within ROI\"][\"PatientID\"].shape[0]/12"
   ]
  },
  {
   "cell_type": "markdown",
   "metadata": {},
   "source": [
    "Since we have volume of the primary tumor available for every subject, let's see how much it varies across users, tools and segmentation sessions. Lets factor out the segmentation tool type. Note that the segmentation tool type is encoded directly in the SEG objects, but it is more convenient to take it from the series description of the SR objects storing the measurements."
   ]
  },
  {
   "cell_type": "code",
   "execution_count": 74,
   "metadata": {},
   "outputs": [
    {
     "data": {
      "text/plain": [
       "0            Auto\n",
       "1            Auto\n",
       "2            Auto\n",
       "3            Auto\n",
       "4            Auto\n",
       "5            Auto\n",
       "6            Auto\n",
       "7            Auto\n",
       "8            Auto\n",
       "9            Auto\n",
       "10           Auto\n",
       "11           Auto\n",
       "12           Auto\n",
       "13           Auto\n",
       "14           Auto\n",
       "15           Auto\n",
       "16           Auto\n",
       "17           Auto\n",
       "18           Auto\n",
       "19           Auto\n",
       "20           Auto\n",
       "21           Auto\n",
       "22           Auto\n",
       "23           Auto\n",
       "24         Manual\n",
       "25         Manual\n",
       "26         Manual\n",
       "27         Manual\n",
       "28         Manual\n",
       "29         Manual\n",
       "           ...   \n",
       "60501    SemiAuto\n",
       "60502    SemiAuto\n",
       "60503    SemiAuto\n",
       "60504    SemiAuto\n",
       "60505    SemiAuto\n",
       "60506    SemiAuto\n",
       "60507    SemiAuto\n",
       "60508    SemiAuto\n",
       "60509    SemiAuto\n",
       "60510    SemiAuto\n",
       "60511    SemiAuto\n",
       "60512    SemiAuto\n",
       "60513    SemiAuto\n",
       "60514    SemiAuto\n",
       "60515    SemiAuto\n",
       "60516    SemiAuto\n",
       "60517    SemiAuto\n",
       "60518    SemiAuto\n",
       "60519    SemiAuto\n",
       "60520    SemiAuto\n",
       "60521    SemiAuto\n",
       "60522    SemiAuto\n",
       "60523    SemiAuto\n",
       "60524    SemiAuto\n",
       "60525    SemiAuto\n",
       "60526    SemiAuto\n",
       "60527    SemiAuto\n",
       "60528    SemiAuto\n",
       "60529    SemiAuto\n",
       "60530    SemiAuto\n",
       "Name: segmentationToolType, Length: 60531, dtype: object"
      ]
     },
     "execution_count": 74,
     "metadata": {},
     "output_type": "execute_result"
    }
   ],
   "source": [
    "SR_merged[\"segmentationToolType\"] = \\\n",
    " SR_merged[\"SeriesDescription\"].apply(lambda toolType: toolType.split(\" \")[-3] if toolType.split(\" \")[-3] in [\"Manual\",\"SemiAuto\"] else \"Auto\")\n",
    "SR_merged[\"segmentationToolType\"]"
   ]
  },
  {
   "cell_type": "markdown",
   "metadata": {},
   "source": [
    "First load the references"
   ]
  },
  {
   "cell_type": "code",
   "execution_count": 95,
   "metadata": {},
   "outputs": [
    {
     "data": {
      "text/plain": [
       "Index(['ReferencedSOPClassUID', 'ReferencedSOPInstanceUID', 'SOPInstanceUID',\n",
       "       'SeriesInstanceUID'],\n",
       "      dtype='object')"
      ]
     },
     "execution_count": 95,
     "metadata": {},
     "output_type": "execute_result"
    }
   ],
   "source": [
    "References_df=pd.read_csv(tablesPath+'/References.tsv', sep='\\t', low_memory=False)\n",
    "References_df.columns"
   ]
  },
  {
   "cell_type": "code",
   "execution_count": 125,
   "metadata": {},
   "outputs": [
    {
     "data": {
      "text/plain": [
       "(316629, 4)"
      ]
     },
     "execution_count": 125,
     "metadata": {},
     "output_type": "execute_result"
    }
   ],
   "source": [
    "References_df.shape"
   ]
  },
  {
   "cell_type": "code",
   "execution_count": 127,
   "metadata": {},
   "outputs": [
    {
     "data": {
      "text/plain": [
       "array(['1.3.6.1.4.1.14519.5.2.1.2744.7002.261560220703676715130542397405',\n",
       "       '1.2.276.0.7230010.3.1.4.8323329.18215.1440001297.928456',\n",
       "       '1.2.276.0.7230010.3.1.3.8323329.18234.1440001306.224430'], dtype=object)"
      ]
     },
     "execution_count": 127,
     "metadata": {},
     "output_type": "execute_result"
    }
   ],
   "source": [
    "References_df[References_df[\"SOPInstanceUID\"]==\"1.2.276.0.7230010.3.1.4.8323329.18258.1440001306.617244\"][\"SeriesInstanceUID\"].unique()"
   ]
  },
  {
   "cell_type": "code",
   "execution_count": 138,
   "metadata": {},
   "outputs": [
    {
     "data": {
      "text/plain": [
       "(900, 2)"
      ]
     },
     "execution_count": 138,
     "metadata": {},
     "output_type": "execute_result"
    }
   ],
   "source": [
    "# WIP: do not run this!\n",
    "series_df=CompositeContext_df.drop_duplicates(subset=\"SeriesInstanceUID\")\n",
    "\n",
    "# All references to SEG (only Measurements point to SEG in our case, \n",
    "#  and each SR should point to exactly one SEG!)\n",
    "segReferences = References_df[References_df[\"ReferencedSOPClassUID\"]=='1.2.840.10008.5.1.4.1.1.66.4']\n",
    "segReferences = segReferences[[\"SOPInstanceUID\",\"SeriesInstanceUID\"]].rename(columns={\"SeriesInstanceUID\":\"ReferencedSeriesInstanceUID\"})\n",
    "segReferences.shape"
   ]
  },
  {
   "cell_type": "code",
   "execution_count": 148,
   "metadata": {},
   "outputs": [
    {
     "data": {
      "text/plain": [
       "(353252, 19)"
      ]
     },
     "execution_count": 148,
     "metadata": {},
     "output_type": "execute_result"
    }
   ],
   "source": [
    "References_df.shape\n",
    "CompositeContext_df.shape"
   ]
  },
  {
   "cell_type": "code",
   "execution_count": 149,
   "metadata": {},
   "outputs": [
    {
     "data": {
      "text/html": [
       "\n",
       "    <div class=\"bk-root\">\n",
       "        <a href=\"http://bokeh.pydata.org\" target=\"_blank\" class=\"bk-logo bk-logo-small bk-logo-notebook\"></a>\n",
       "        <span id=\"fc4a72ad-b5bc-4e2a-b7c7-af0974d06935\">Loading BokehJS ...</span>\n",
       "    </div>"
      ]
     },
     "metadata": {},
     "output_type": "display_data"
    },
    {
     "data": {
      "application/javascript": [
       "\n",
       "(function(global) {\n",
       "  function now() {\n",
       "    return new Date();\n",
       "  }\n",
       "\n",
       "  var force = true;\n",
       "\n",
       "  if (typeof (window._bokeh_onload_callbacks) === \"undefined\" || force === true) {\n",
       "    window._bokeh_onload_callbacks = [];\n",
       "    window._bokeh_is_loading = undefined;\n",
       "  }\n",
       "\n",
       "\n",
       "  \n",
       "  if (typeof (window._bokeh_timeout) === \"undefined\" || force === true) {\n",
       "    window._bokeh_timeout = Date.now() + 5000;\n",
       "    window._bokeh_failed_load = false;\n",
       "  }\n",
       "\n",
       "  var NB_LOAD_WARNING = {'data': {'text/html':\n",
       "     \"<div style='background-color: #fdd'>\\n\"+\n",
       "     \"<p>\\n\"+\n",
       "     \"BokehJS does not appear to have successfully loaded. If loading BokehJS from CDN, this \\n\"+\n",
       "     \"may be due to a slow or bad network connection. Possible fixes:\\n\"+\n",
       "     \"</p>\\n\"+\n",
       "     \"<ul>\\n\"+\n",
       "     \"<li>re-rerun `output_notebook()` to attempt to load from CDN again, or</li>\\n\"+\n",
       "     \"<li>use INLINE resources instead, as so:</li>\\n\"+\n",
       "     \"</ul>\\n\"+\n",
       "     \"<code>\\n\"+\n",
       "     \"from bokeh.resources import INLINE\\n\"+\n",
       "     \"output_notebook(resources=INLINE)\\n\"+\n",
       "     \"</code>\\n\"+\n",
       "     \"</div>\"}};\n",
       "\n",
       "  function display_loaded() {\n",
       "    if (window.Bokeh !== undefined) {\n",
       "      var el = document.getElementById(\"fc4a72ad-b5bc-4e2a-b7c7-af0974d06935\");\n",
       "      el.textContent = \"BokehJS \" + Bokeh.version + \" successfully loaded.\";\n",
       "    } else if (Date.now() < window._bokeh_timeout) {\n",
       "      setTimeout(display_loaded, 100)\n",
       "    }\n",
       "  }\n",
       "\n",
       "  function run_callbacks() {\n",
       "    try {\n",
       "      window._bokeh_onload_callbacks.forEach(function(callback) { callback() });\n",
       "    }\n",
       "    finally {\n",
       "      delete window._bokeh_onload_callbacks\n",
       "    }\n",
       "    console.info(\"Bokeh: all callbacks have finished\");\n",
       "  }\n",
       "\n",
       "  function load_libs(js_urls, callback) {\n",
       "    window._bokeh_onload_callbacks.push(callback);\n",
       "    if (window._bokeh_is_loading > 0) {\n",
       "      console.log(\"Bokeh: BokehJS is being loaded, scheduling callback at\", now());\n",
       "      return null;\n",
       "    }\n",
       "    if (js_urls == null || js_urls.length === 0) {\n",
       "      run_callbacks();\n",
       "      return null;\n",
       "    }\n",
       "    console.log(\"Bokeh: BokehJS not loaded, scheduling load and callback at\", now());\n",
       "    window._bokeh_is_loading = js_urls.length;\n",
       "    for (var i = 0; i < js_urls.length; i++) {\n",
       "      var url = js_urls[i];\n",
       "      var s = document.createElement('script');\n",
       "      s.src = url;\n",
       "      s.async = false;\n",
       "      s.onreadystatechange = s.onload = function() {\n",
       "        window._bokeh_is_loading--;\n",
       "        if (window._bokeh_is_loading === 0) {\n",
       "          console.log(\"Bokeh: all BokehJS libraries loaded\");\n",
       "          run_callbacks()\n",
       "        }\n",
       "      };\n",
       "      s.onerror = function() {\n",
       "        console.warn(\"failed to load library \" + url);\n",
       "      };\n",
       "      console.log(\"Bokeh: injecting script tag for BokehJS library: \", url);\n",
       "      document.getElementsByTagName(\"head\")[0].appendChild(s);\n",
       "    }\n",
       "  };var element = document.getElementById(\"fc4a72ad-b5bc-4e2a-b7c7-af0974d06935\");\n",
       "  if (element == null) {\n",
       "    console.log(\"Bokeh: ERROR: autoload.js configured with elementid 'fc4a72ad-b5bc-4e2a-b7c7-af0974d06935' but no matching script tag was found. \")\n",
       "    return false;\n",
       "  }\n",
       "\n",
       "  var js_urls = [\"https://cdn.pydata.org/bokeh/release/bokeh-0.12.6.min.js\", \"https://cdn.pydata.org/bokeh/release/bokeh-widgets-0.12.6.min.js\"];\n",
       "\n",
       "  var inline_js = [\n",
       "    function(Bokeh) {\n",
       "      Bokeh.set_log_level(\"info\");\n",
       "    },\n",
       "    \n",
       "    function(Bokeh) {\n",
       "      \n",
       "    },\n",
       "    \n",
       "    function(Bokeh) {\n",
       "      \n",
       "      document.getElementById(\"fc4a72ad-b5bc-4e2a-b7c7-af0974d06935\").textContent = \"BokehJS is loading...\";\n",
       "    },\n",
       "    function(Bokeh) {\n",
       "      console.log(\"Bokeh: injecting CSS: https://cdn.pydata.org/bokeh/release/bokeh-0.12.6.min.css\");\n",
       "      Bokeh.embed.inject_css(\"https://cdn.pydata.org/bokeh/release/bokeh-0.12.6.min.css\");\n",
       "      console.log(\"Bokeh: injecting CSS: https://cdn.pydata.org/bokeh/release/bokeh-widgets-0.12.6.min.css\");\n",
       "      Bokeh.embed.inject_css(\"https://cdn.pydata.org/bokeh/release/bokeh-widgets-0.12.6.min.css\");\n",
       "    }\n",
       "  ];\n",
       "\n",
       "  function run_inline_js() {\n",
       "    \n",
       "    if ((window.Bokeh !== undefined) || (force === true)) {\n",
       "      for (var i = 0; i < inline_js.length; i++) {\n",
       "        inline_js[i](window.Bokeh);\n",
       "      }if (force === true) {\n",
       "        display_loaded();\n",
       "      }} else if (Date.now() < window._bokeh_timeout) {\n",
       "      setTimeout(run_inline_js, 100);\n",
       "    } else if (!window._bokeh_failed_load) {\n",
       "      console.log(\"Bokeh: BokehJS failed to load within specified timeout.\");\n",
       "      window._bokeh_failed_load = true;\n",
       "    } else if (force !== true) {\n",
       "      var cell = $(document.getElementById(\"fc4a72ad-b5bc-4e2a-b7c7-af0974d06935\")).parents('.cell').data().cell;\n",
       "      cell.output_area.append_execute_result(NB_LOAD_WARNING)\n",
       "    }\n",
       "\n",
       "  }\n",
       "\n",
       "  if (window._bokeh_is_loading === 0) {\n",
       "    console.log(\"Bokeh: BokehJS loaded, going straight to plotting\");\n",
       "    run_inline_js();\n",
       "  } else {\n",
       "    load_libs(js_urls, function() {\n",
       "      console.log(\"Bokeh: BokehJS plotting callback run at\", now());\n",
       "      run_inline_js();\n",
       "    });\n",
       "  }\n",
       "}(this));"
      ]
     },
     "metadata": {},
     "output_type": "display_data"
    },
    {
     "data": {
      "text/html": [
       "\n",
       "\n",
       "    <div class=\"bk-root\">\n",
       "        <div class=\"bk-plotdiv\" id=\"1293f256-a1e3-45d8-acf1-6d08525d3b87\"></div>\n",
       "    </div>\n",
       "<script type=\"text/javascript\">\n",
       "  \n",
       "  (function(global) {\n",
       "    function now() {\n",
       "      return new Date();\n",
       "    }\n",
       "  \n",
       "    var force = false;\n",
       "  \n",
       "    if (typeof (window._bokeh_onload_callbacks) === \"undefined\" || force === true) {\n",
       "      window._bokeh_onload_callbacks = [];\n",
       "      window._bokeh_is_loading = undefined;\n",
       "    }\n",
       "  \n",
       "  \n",
       "    \n",
       "    if (typeof (window._bokeh_timeout) === \"undefined\" || force === true) {\n",
       "      window._bokeh_timeout = Date.now() + 0;\n",
       "      window._bokeh_failed_load = false;\n",
       "    }\n",
       "  \n",
       "    var NB_LOAD_WARNING = {'data': {'text/html':\n",
       "       \"<div style='background-color: #fdd'>\\n\"+\n",
       "       \"<p>\\n\"+\n",
       "       \"BokehJS does not appear to have successfully loaded. If loading BokehJS from CDN, this \\n\"+\n",
       "       \"may be due to a slow or bad network connection. Possible fixes:\\n\"+\n",
       "       \"</p>\\n\"+\n",
       "       \"<ul>\\n\"+\n",
       "       \"<li>re-rerun `output_notebook()` to attempt to load from CDN again, or</li>\\n\"+\n",
       "       \"<li>use INLINE resources instead, as so:</li>\\n\"+\n",
       "       \"</ul>\\n\"+\n",
       "       \"<code>\\n\"+\n",
       "       \"from bokeh.resources import INLINE\\n\"+\n",
       "       \"output_notebook(resources=INLINE)\\n\"+\n",
       "       \"</code>\\n\"+\n",
       "       \"</div>\"}};\n",
       "  \n",
       "    function display_loaded() {\n",
       "      if (window.Bokeh !== undefined) {\n",
       "        var el = document.getElementById(\"1293f256-a1e3-45d8-acf1-6d08525d3b87\");\n",
       "        el.textContent = \"BokehJS \" + Bokeh.version + \" successfully loaded.\";\n",
       "      } else if (Date.now() < window._bokeh_timeout) {\n",
       "        setTimeout(display_loaded, 100)\n",
       "      }\n",
       "    }\n",
       "  \n",
       "    function run_callbacks() {\n",
       "      try {\n",
       "        window._bokeh_onload_callbacks.forEach(function(callback) { callback() });\n",
       "      }\n",
       "      finally {\n",
       "        delete window._bokeh_onload_callbacks\n",
       "      }\n",
       "      console.info(\"Bokeh: all callbacks have finished\");\n",
       "    }\n",
       "  \n",
       "    function load_libs(js_urls, callback) {\n",
       "      window._bokeh_onload_callbacks.push(callback);\n",
       "      if (window._bokeh_is_loading > 0) {\n",
       "        console.log(\"Bokeh: BokehJS is being loaded, scheduling callback at\", now());\n",
       "        return null;\n",
       "      }\n",
       "      if (js_urls == null || js_urls.length === 0) {\n",
       "        run_callbacks();\n",
       "        return null;\n",
       "      }\n",
       "      console.log(\"Bokeh: BokehJS not loaded, scheduling load and callback at\", now());\n",
       "      window._bokeh_is_loading = js_urls.length;\n",
       "      for (var i = 0; i < js_urls.length; i++) {\n",
       "        var url = js_urls[i];\n",
       "        var s = document.createElement('script');\n",
       "        s.src = url;\n",
       "        s.async = false;\n",
       "        s.onreadystatechange = s.onload = function() {\n",
       "          window._bokeh_is_loading--;\n",
       "          if (window._bokeh_is_loading === 0) {\n",
       "            console.log(\"Bokeh: all BokehJS libraries loaded\");\n",
       "            run_callbacks()\n",
       "          }\n",
       "        };\n",
       "        s.onerror = function() {\n",
       "          console.warn(\"failed to load library \" + url);\n",
       "        };\n",
       "        console.log(\"Bokeh: injecting script tag for BokehJS library: \", url);\n",
       "        document.getElementsByTagName(\"head\")[0].appendChild(s);\n",
       "      }\n",
       "    };var element = document.getElementById(\"1293f256-a1e3-45d8-acf1-6d08525d3b87\");\n",
       "    if (element == null) {\n",
       "      console.log(\"Bokeh: ERROR: autoload.js configured with elementid '1293f256-a1e3-45d8-acf1-6d08525d3b87' but no matching script tag was found. \")\n",
       "      return false;\n",
       "    }\n",
       "  \n",
       "    var js_urls = [];\n",
       "  \n",
       "    var inline_js = [\n",
       "      function(Bokeh) {\n",
       "        (function() {\n",
       "          var fn = function() {\n",
       "            var docs_json = {\"736bbbd0-6261-42fa-8862-03c75abff5ae\":{\"roots\":{\"references\":[{\"attributes\":{\"callback\":null,\"end\":91.3695,\"start\":1.10586},\"id\":\"fd3e962c-3553-45e5-97f4-95baad569725\",\"type\":\"Range1d\"},{\"attributes\":{\"fill_alpha\":{\"value\":0.1},\"fill_color\":{\"value\":\"#1f77b4\"},\"line_alpha\":{\"value\":0.1},\"line_color\":{\"value\":\"#1f77b4\"},\"x\":{\"field\":\"x\"},\"y\":{\"field\":\"y\"}},\"id\":\"cb745d8f-2843-4d98-a6c4-fcbea928417e\",\"type\":\"Circle\"},{\"attributes\":{\"dimension\":1,\"plot\":{\"id\":\"d8c23926-65cf-4744-8779-3e4a3ac8e832\",\"subtype\":\"Figure\",\"type\":\"Plot\"},\"ticker\":{\"id\":\"02c2a4fb-0e36-4e11-b4f7-c00d462bbd30\",\"type\":\"CategoricalTicker\"}},\"id\":\"1959ba52-2ae5-435c-bcfa-61120fa5e73c\",\"type\":\"Grid\"},{\"attributes\":{\"plot\":{\"id\":\"d8c23926-65cf-4744-8779-3e4a3ac8e832\",\"subtype\":\"Figure\",\"type\":\"Plot\"}},\"id\":\"5a78d62e-d89b-410c-898c-523918a41434\",\"type\":\"PanTool\"},{\"attributes\":{},\"id\":\"94eb06b0-b2ed-45b0-bb1f-dc3c0b0e975c\",\"type\":\"BasicTickFormatter\"},{\"attributes\":{\"plot\":{\"id\":\"d8c23926-65cf-4744-8779-3e4a3ac8e832\",\"subtype\":\"Figure\",\"type\":\"Plot\"}},\"id\":\"3b36a16d-f210-4e9d-98ef-50d16224f36b\",\"type\":\"WheelZoomTool\"},{\"attributes\":{},\"id\":\"cc3f8bf7-939e-429f-a66a-550564828299\",\"type\":\"BasicTicker\"},{\"attributes\":{\"fill_color\":{\"field\":\"color\"},\"line_color\":{\"field\":\"color\"},\"x\":{\"field\":\"x\"},\"y\":{\"field\":\"y\"}},\"id\":\"16e08a40-3c0a-4f82-a4ee-5b934f052ce1\",\"type\":\"Circle\"},{\"attributes\":{\"callback\":null,\"factors\":[\"QIN-HEADNECK-01-0003\",\"QIN-HEADNECK-01-0003\",\"QIN-HEADNECK-01-0003\",\"QIN-HEADNECK-01-0003\",\"QIN-HEADNECK-01-0017\",\"QIN-HEADNECK-01-0017\",\"QIN-HEADNECK-01-0017\",\"QIN-HEADNECK-01-0017\",\"QIN-HEADNECK-01-0024\",\"QIN-HEADNECK-01-0024\",\"QIN-HEADNECK-01-0024\",\"QIN-HEADNECK-01-0024\",\"QIN-HEADNECK-01-0026\",\"QIN-HEADNECK-01-0026\",\"QIN-HEADNECK-01-0026\",\"QIN-HEADNECK-01-0026\",\"QIN-HEADNECK-01-0028\",\"QIN-HEADNECK-01-0028\",\"QIN-HEADNECK-01-0028\",\"QIN-HEADNECK-01-0028\",\"QIN-HEADNECK-01-0034\",\"QIN-HEADNECK-01-0034\",\"QIN-HEADNECK-01-0034\",\"QIN-HEADNECK-01-0034\",\"QIN-HEADNECK-01-0041\",\"QIN-HEADNECK-01-0041\",\"QIN-HEADNECK-01-0041\",\"QIN-HEADNECK-01-0041\",\"QIN-HEADNECK-01-0046\",\"QIN-HEADNECK-01-0046\",\"QIN-HEADNECK-01-0046\",\"QIN-HEADNECK-01-0046\",\"QIN-HEADNECK-01-0047\",\"QIN-HEADNECK-01-0047\",\"QIN-HEADNECK-01-0047\",\"QIN-HEADNECK-01-0047\",\"QIN-HEADNECK-01-0055\",\"QIN-HEADNECK-01-0055\",\"QIN-HEADNECK-01-0055\",\"QIN-HEADNECK-01-0055\",\"QIN-HEADNECK-01-0057\",\"QIN-HEADNECK-01-0057\",\"QIN-HEADNECK-01-0057\",\"QIN-HEADNECK-01-0057\",\"QIN-HEADNECK-01-0060\",\"QIN-HEADNECK-01-0060\",\"QIN-HEADNECK-01-0060\",\"QIN-HEADNECK-01-0060\",\"QIN-HEADNECK-01-0062\",\"QIN-HEADNECK-01-0062\",\"QIN-HEADNECK-01-0062\",\"QIN-HEADNECK-01-0062\",\"QIN-HEADNECK-01-0064\",\"QIN-HEADNECK-01-0064\",\"QIN-HEADNECK-01-0064\",\"QIN-HEADNECK-01-0064\",\"QIN-HEADNECK-01-0065\",\"QIN-HEADNECK-01-0065\",\"QIN-HEADNECK-01-0065\",\"QIN-HEADNECK-01-0065\",\"QIN-HEADNECK-01-0067\",\"QIN-HEADNECK-01-0067\",\"QIN-HEADNECK-01-0067\",\"QIN-HEADNECK-01-0067\",\"QIN-HEADNECK-01-0071\",\"QIN-HEADNECK-01-0071\",\"QIN-HEADNECK-01-0071\",\"QIN-HEADNECK-01-0071\",\"QIN-HEADNECK-01-0074\",\"QIN-HEADNECK-01-0074\",\"QIN-HEADNECK-01-0074\",\"QIN-HEADNECK-01-0074\",\"QIN-HEADNECK-01-0079\",\"QIN-HEADNECK-01-0079\",\"QIN-HEADNECK-01-0079\",\"QIN-HEADNECK-01-0079\",\"QIN-HEADNECK-01-0081\",\"QIN-HEADNECK-01-0081\",\"QIN-HEADNECK-01-0081\",\"QIN-HEADNECK-01-0081\",\"QIN-HEADNECK-01-0086\",\"QIN-HEADNECK-01-0086\",\"QIN-HEADNECK-01-0086\",\"QIN-HEADNECK-01-0086\",\"QIN-HEADNECK-01-0089\",\"QIN-HEADNECK-01-0089\",\"QIN-HEADNECK-01-0089\",\"QIN-HEADNECK-01-0089\",\"QIN-HEADNECK-01-0091\",\"QIN-HEADNECK-01-0091\",\"QIN-HEADNECK-01-0091\",\"QIN-HEADNECK-01-0091\",\"QIN-HEADNECK-01-0098\",\"QIN-HEADNECK-01-0098\",\"QIN-HEADNECK-01-0098\",\"QIN-HEADNECK-01-0098\",\"QIN-HEADNECK-01-0100\",\"QIN-HEADNECK-01-0100\",\"QIN-HEADNECK-01-0100\",\"QIN-HEADNECK-01-0100\",\"QIN-HEADNECK-01-0112\",\"QIN-HEADNECK-01-0112\",\"QIN-HEADNECK-01-0112\",\"QIN-HEADNECK-01-0112\",\"QIN-HEADNECK-01-0115\",\"QIN-HEADNECK-01-0115\",\"QIN-HEADNECK-01-0115\",\"QIN-HEADNECK-01-0115\",\"QIN-HEADNECK-01-0116\",\"QIN-HEADNECK-01-0116\",\"QIN-HEADNECK-01-0116\",\"QIN-HEADNECK-01-0116\",\"QIN-HEADNECK-01-0118\",\"QIN-HEADNECK-01-0118\",\"QIN-HEADNECK-01-0118\",\"QIN-HEADNECK-01-0118\",\"QIN-HEADNECK-01-0120\",\"QIN-HEADNECK-01-0120\",\"QIN-HEADNECK-01-0120\",\"QIN-HEADNECK-01-0120\",\"QIN-HEADNECK-01-0127\",\"QIN-HEADNECK-01-0127\",\"QIN-HEADNECK-01-0127\",\"QIN-HEADNECK-01-0127\",\"QIN-HEADNECK-01-0129\",\"QIN-HEADNECK-01-0129\",\"QIN-HEADNECK-01-0129\",\"QIN-HEADNECK-01-0129\",\"QIN-HEADNECK-01-0131\",\"QIN-HEADNECK-01-0131\",\"QIN-HEADNECK-01-0131\",\"QIN-HEADNECK-01-0131\",\"QIN-HEADNECK-01-0135\",\"QIN-HEADNECK-01-0135\",\"QIN-HEADNECK-01-0135\",\"QIN-HEADNECK-01-0135\",\"QIN-HEADNECK-01-0137\",\"QIN-HEADNECK-01-0137\",\"QIN-HEADNECK-01-0137\",\"QIN-HEADNECK-01-0137\",\"QIN-HEADNECK-01-0139\",\"QIN-HEADNECK-01-0139\",\"QIN-HEADNECK-01-0139\",\"QIN-HEADNECK-01-0139\",\"QIN-HEADNECK-01-0140\",\"QIN-HEADNECK-01-0140\",\"QIN-HEADNECK-01-0140\",\"QIN-HEADNECK-01-0140\",\"QIN-HEADNECK-01-0157\",\"QIN-HEADNECK-01-0157\",\"QIN-HEADNECK-01-0157\",\"QIN-HEADNECK-01-0157\",\"QIN-HEADNECK-01-0164\",\"QIN-HEADNECK-01-0164\",\"QIN-HEADNECK-01-0164\",\"QIN-HEADNECK-01-0164\",\"QIN-HEADNECK-01-0165\",\"QIN-HEADNECK-01-0165\",\"QIN-HEADNECK-01-0165\",\"QIN-HEADNECK-01-0165\",\"QIN-HEADNECK-01-0172\",\"QIN-HEADNECK-01-0172\",\"QIN-HEADNECK-01-0172\",\"QIN-HEADNECK-01-0172\",\"QIN-HEADNECK-01-0180\",\"QIN-HEADNECK-01-0180\",\"QIN-HEADNECK-01-0180\",\"QIN-HEADNECK-01-0180\",\"QIN-HEADNECK-01-0184\",\"QIN-HEADNECK-01-0184\",\"QIN-HEADNECK-01-0184\",\"QIN-HEADNECK-01-0184\",\"QIN-HEADNECK-01-0186\",\"QIN-HEADNECK-01-0186\",\"QIN-HEADNECK-01-0186\",\"QIN-HEADNECK-01-0186\",\"QIN-HEADNECK-01-0190\",\"QIN-HEADNECK-01-0190\",\"QIN-HEADNECK-01-0190\",\"QIN-HEADNECK-01-0190\",\"QIN-HEADNECK-01-0199\",\"QIN-HEADNECK-01-0199\",\"QIN-HEADNECK-01-0199\",\"QIN-HEADNECK-01-0199\",\"QIN-HEADNECK-01-0200\",\"QIN-HEADNECK-01-0200\",\"QIN-HEADNECK-01-0200\",\"QIN-HEADNECK-01-0200\",\"QIN-HEADNECK-01-0201\",\"QIN-HEADNECK-01-0201\",\"QIN-HEADNECK-01-0201\",\"QIN-HEADNECK-01-0201\",\"QIN-HEADNECK-01-0203\",\"QIN-HEADNECK-01-0203\",\"QIN-HEADNECK-01-0203\",\"QIN-HEADNECK-01-0203\",\"QIN-HEADNECK-01-0212\",\"QIN-HEADNECK-01-0212\",\"QIN-HEADNECK-01-0212\",\"QIN-HEADNECK-01-0212\",\"QIN-HEADNECK-01-0214\",\"QIN-HEADNECK-01-0214\",\"QIN-HEADNECK-01-0214\",\"QIN-HEADNECK-01-0214\",\"QIN-HEADNECK-01-0220\",\"QIN-HEADNECK-01-0220\",\"QIN-HEADNECK-01-0220\",\"QIN-HEADNECK-01-0220\",\"QIN-HEADNECK-01-0222\",\"QIN-HEADNECK-01-0222\",\"QIN-HEADNECK-01-0222\",\"QIN-HEADNECK-01-0222\",\"QIN-HEADNECK-01-0224\",\"QIN-HEADNECK-01-0224\",\"QIN-HEADNECK-01-0224\",\"QIN-HEADNECK-01-0224\",\"QIN-HEADNECK-01-0228\",\"QIN-HEADNECK-01-0228\",\"QIN-HEADNECK-01-0228\",\"QIN-HEADNECK-01-0228\",\"QIN-HEADNECK-01-0239\",\"QIN-HEADNECK-01-0239\",\"QIN-HEADNECK-01-0239\",\"QIN-HEADNECK-01-0239\",\"QIN-HEADNECK-01-0244\",\"QIN-HEADNECK-01-0244\",\"QIN-HEADNECK-01-0244\",\"QIN-HEADNECK-01-0244\",\"QIN-HEADNECK-01-0275\",\"QIN-HEADNECK-01-0275\",\"QIN-HEADNECK-01-0275\",\"QIN-HEADNECK-01-0275\",\"QIN-HEADNECK-01-0366\",\"QIN-HEADNECK-01-0366\",\"QIN-HEADNECK-01-0366\",\"QIN-HEADNECK-01-0366\"]},\"id\":\"e1e266d4-abbb-4a27-9f59-f477aa805cbe\",\"type\":\"FactorRange\"},{\"attributes\":{\"overlay\":{\"id\":\"e1830121-be0e-4ce3-9387-58d29a5705a5\",\"type\":\"BoxAnnotation\"},\"plot\":{\"id\":\"d8c23926-65cf-4744-8779-3e4a3ac8e832\",\"subtype\":\"Figure\",\"type\":\"Plot\"}},\"id\":\"81f6bad0-34c1-4acd-8eee-290057d6fb50\",\"type\":\"BoxZoomTool\"},{\"attributes\":{\"below\":[{\"id\":\"746388c5-89db-4caa-b20d-17b9103683b8\",\"type\":\"LinearAxis\"}],\"left\":[{\"id\":\"dba8a31f-2bc7-4c87-8acb-8ccddfc9e765\",\"type\":\"CategoricalAxis\"}],\"renderers\":[{\"id\":\"746388c5-89db-4caa-b20d-17b9103683b8\",\"type\":\"LinearAxis\"},{\"id\":\"84bb1c12-dd09-45a4-bff5-a89993868352\",\"type\":\"Grid\"},{\"id\":\"dba8a31f-2bc7-4c87-8acb-8ccddfc9e765\",\"type\":\"CategoricalAxis\"},{\"id\":\"1959ba52-2ae5-435c-bcfa-61120fa5e73c\",\"type\":\"Grid\"},{\"id\":\"e1830121-be0e-4ce3-9387-58d29a5705a5\",\"type\":\"BoxAnnotation\"},{\"id\":\"11200e55-fbbf-4cf1-a415-4bc8eecb19db\",\"type\":\"GlyphRenderer\"}],\"title\":{\"id\":\"df4394af-201c-417c-a9b7-0976163a407e\",\"type\":\"Title\"},\"tool_events\":{\"id\":\"0bac5e9b-c97f-4205-8b4e-83bfe91ca2b8\",\"type\":\"ToolEvents\"},\"toolbar\":{\"id\":\"d530be2c-8686-40ec-bfc9-0b0ae5ead6c5\",\"type\":\"Toolbar\"},\"x_range\":{\"id\":\"fd3e962c-3553-45e5-97f4-95baad569725\",\"type\":\"Range1d\"},\"x_scale\":{\"id\":\"115c2e35-3259-49b8-b725-d504c0017931\",\"type\":\"LinearScale\"},\"y_range\":{\"id\":\"e1e266d4-abbb-4a27-9f59-f477aa805cbe\",\"type\":\"FactorRange\"},\"y_scale\":{\"id\":\"6549bf4f-b531-443f-b4ec-0ed82e58a160\",\"type\":\"CategoricalScale\"}},\"id\":\"d8c23926-65cf-4744-8779-3e4a3ac8e832\",\"subtype\":\"Figure\",\"type\":\"Plot\"},{\"attributes\":{\"callback\":null,\"plot\":{\"id\":\"d8c23926-65cf-4744-8779-3e4a3ac8e832\",\"subtype\":\"Figure\",\"type\":\"Plot\"},\"tooltips\":[[\"(Volume, Subject)\",\"($x, $y)\"]]},\"id\":\"8de8d355-5144-4ee0-9df8-2ebf138de75f\",\"type\":\"HoverTool\"},{\"attributes\":{\"axis_label\":\"PatientID\",\"formatter\":{\"id\":\"616a0eef-5ae5-4c08-8b64-d21d73ec5ed2\",\"type\":\"CategoricalTickFormatter\"},\"plot\":{\"id\":\"d8c23926-65cf-4744-8779-3e4a3ac8e832\",\"subtype\":\"Figure\",\"type\":\"Plot\"},\"ticker\":{\"id\":\"02c2a4fb-0e36-4e11-b4f7-c00d462bbd30\",\"type\":\"CategoricalTicker\"}},\"id\":\"dba8a31f-2bc7-4c87-8acb-8ccddfc9e765\",\"type\":\"CategoricalAxis\"},{\"attributes\":{\"url\":\"http://pieper.github.com/dcmjs/examples/qiicr/?seriesUID=@seriesUID\"},\"id\":\"7b8d4e4c-39bd-4599-82df-76494a0f061c\",\"type\":\"OpenURL\"},{\"attributes\":{\"callback\":null,\"column_names\":[\"color\",\"seriesUID\",\"x\",\"y\"],\"data\":{\"color\":[\"red\",\"red\",\"blue\",\"blue\",\"red\",\"red\",\"blue\",\"blue\",\"red\",\"red\",\"blue\",\"blue\",\"red\",\"red\",\"blue\",\"blue\",\"red\",\"red\",\"blue\",\"blue\",\"red\",\"red\",\"blue\",\"blue\",\"red\",\"red\",\"blue\",\"blue\",\"red\",\"red\",\"blue\",\"blue\",\"red\",\"red\",\"blue\",\"blue\",\"red\",\"red\",\"blue\",\"blue\",\"red\",\"blue\",\"blue\",\"red\",\"red\",\"red\",\"blue\",\"blue\",\"red\",\"red\",\"blue\",\"blue\",\"red\",\"red\",\"blue\",\"blue\",\"red\",\"red\",\"blue\",\"blue\",\"red\",\"blue\",\"blue\",\"red\",\"red\",\"red\",\"blue\",\"blue\",\"red\",\"red\",\"blue\",\"blue\",\"red\",\"red\",\"blue\",\"blue\",\"red\",\"red\",\"blue\",\"blue\",\"red\",\"red\",\"blue\",\"blue\",\"red\",\"red\",\"blue\",\"blue\",\"red\",\"red\",\"blue\",\"blue\",\"red\",\"red\",\"blue\",\"blue\",\"red\",\"red\",\"blue\",\"blue\",\"red\",\"red\",\"blue\",\"blue\",\"red\",\"red\",\"blue\",\"blue\",\"red\",\"red\",\"blue\",\"blue\",\"red\",\"red\",\"blue\",\"blue\",\"red\",\"red\",\"blue\",\"blue\",\"red\",\"red\",\"blue\",\"blue\",\"red\",\"red\",\"blue\",\"blue\",\"red\",\"red\",\"blue\",\"blue\",\"red\",\"red\",\"blue\",\"blue\",\"red\",\"red\",\"blue\",\"blue\",\"red\",\"red\",\"blue\",\"blue\",\"red\",\"red\",\"blue\",\"blue\",\"red\",\"red\",\"blue\",\"blue\",\"red\",\"red\",\"blue\",\"blue\",\"red\",\"red\",\"blue\",\"blue\",\"red\",\"red\",\"blue\",\"blue\",\"red\",\"red\",\"blue\",\"blue\",\"red\",\"red\",\"blue\",\"blue\",\"red\",\"red\",\"blue\",\"blue\",\"red\",\"red\",\"blue\",\"blue\",\"red\",\"red\",\"blue\",\"blue\",\"red\",\"red\",\"blue\",\"blue\",\"red\",\"red\",\"blue\",\"blue\",\"red\",\"red\",\"blue\",\"blue\",\"red\",\"red\",\"blue\",\"blue\",\"red\",\"red\",\"blue\",\"blue\",\"red\",\"red\",\"blue\",\"blue\",\"red\",\"red\",\"blue\",\"blue\",\"red\",\"red\",\"blue\",\"blue\",\"red\",\"red\",\"blue\",\"blue\",\"red\",\"red\",\"blue\",\"blue\",\"red\",\"red\",\"blue\",\"blue\",\"red\",\"red\",\"blue\",\"blue\",\"red\",\"red\",\"blue\",\"blue\"],\"seriesUID\":[\"1.2.276.0.7230010.3.1.3.8323329.18355.1440001308.643361\",\"1.2.276.0.7230010.3.1.3.8323329.18414.1440001309.742216\",\"1.2.276.0.7230010.3.1.3.8323329.18473.1440001310.727494\",\"1.2.276.0.7230010.3.1.3.8323329.18532.1440001311.773521\",\"1.2.276.0.7230010.3.1.3.8323329.19180.1440001330.907567\",\"1.2.276.0.7230010.3.1.3.8323329.19236.1440001331.990059\",\"1.2.276.0.7230010.3.1.3.8323329.19291.1440001333.6180\",\"1.2.276.0.7230010.3.1.3.8323329.19346.1440001334.11577\",\"1.2.276.0.7230010.3.1.3.8323329.20013.1440001360.529935\",\"1.2.276.0.7230010.3.1.3.8323329.20093.1440001362.811455\",\"1.2.276.0.7230010.3.1.3.8323329.20179.1440001365.123123\",\"1.2.276.0.7230010.3.1.3.8323329.20256.1440001367.522636\",\"1.2.276.0.7230010.3.1.3.8323329.21173.1440001399.543798\",\"1.2.276.0.7230010.3.1.3.8323329.21323.1440001402.346570\",\"1.2.276.0.7230010.3.1.3.8323329.21461.1440001405.32419\",\"1.2.276.0.7230010.3.1.3.8323329.21598.1440001407.831200\",\"1.2.276.0.7230010.3.1.3.8323329.23038.1440001445.681019\",\"1.2.276.0.7230010.3.1.3.8323329.23151.1440001448.237456\",\"1.2.276.0.7230010.3.1.3.8323329.23276.1440001450.741668\",\"1.2.276.0.7230010.3.1.3.8323329.23394.1440001453.236500\",\"1.2.276.0.7230010.3.1.3.8323329.24556.1440001487.397825\",\"1.2.276.0.7230010.3.1.3.8323329.24639.1440001489.314199\",\"1.2.276.0.7230010.3.1.3.8323329.24720.1440001491.161531\",\"1.2.276.0.7230010.3.1.3.8323329.24800.1440001493.214177\",\"1.2.276.0.7230010.3.1.3.8323329.25691.1440001525.382651\",\"1.2.276.0.7230010.3.1.3.8323329.25808.1440001528.740146\",\"1.2.276.0.7230010.3.1.3.8323329.25927.1440001531.592682\",\"1.2.276.0.7230010.3.1.3.8323329.26046.1440001534.442557\",\"1.2.276.0.7230010.3.1.3.8323329.27170.1440001576.468579\",\"1.2.276.0.7230010.3.1.3.8323329.27254.1440001579.306027\",\"1.2.276.0.7230010.3.1.3.8323329.27340.1440001581.746325\",\"1.2.276.0.7230010.3.1.3.8323329.27428.1440001584.203284\",\"1.2.276.0.7230010.3.1.3.8323329.28391.1440001623.327940\",\"1.2.276.0.7230010.3.1.3.8323329.28543.1440001627.600164\",\"1.2.276.0.7230010.3.1.3.8323329.28685.1440001631.835834\",\"1.2.276.0.7230010.3.1.3.8323329.28827.1440001635.904064\",\"1.2.276.0.7230010.3.1.3.8323329.32095.1440001749.393569\",\"1.2.276.0.7230010.3.1.3.8323329.32154.1440001750.785503\",\"1.2.276.0.7230010.3.1.3.8323329.32217.1440001752.111117\",\"1.2.276.0.7230010.3.1.3.8323329.32280.1440001753.499212\",\"1.2.276.0.7230010.3.1.3.8323329.1022.1440001797.169591\",\"1.2.276.0.7230010.3.1.3.8323329.1345.1440001805.696241\",\"1.2.276.0.7230010.3.1.3.8323329.1658.1440001814.123253\",\"1.2.276.0.7230010.3.1.3.8323329.721.1440001788.799439\",\"1.2.276.0.7230010.3.1.3.8323329.4612.1440001897.831593\",\"1.2.276.0.7230010.3.1.3.8323329.4698.1440001900.146295\",\"1.2.276.0.7230010.3.1.3.8323329.4784.1440001902.201860\",\"1.2.276.0.7230010.3.1.3.8323329.4873.1440001904.322344\",\"1.2.276.0.7230010.3.1.3.8323329.5819.1440001940.850838\",\"1.2.276.0.7230010.3.1.3.8323329.5911.1440001943.143534\",\"1.2.276.0.7230010.3.1.3.8323329.5994.1440001945.588552\",\"1.2.276.0.7230010.3.1.3.8323329.6075.1440001947.894748\",\"1.2.276.0.7230010.3.1.3.8323329.6994.1440001986.64930\",\"1.2.276.0.7230010.3.1.3.8323329.7140.1440001990.116567\",\"1.2.276.0.7230010.3.1.3.8323329.7280.1440001994.218258\",\"1.2.276.0.7230010.3.1.3.8323329.7426.1440001998.290869\",\"1.2.276.0.7230010.3.1.3.8323329.8732.1440002048.761231\",\"1.2.276.0.7230010.3.1.3.8323329.8791.1440002050.289716\",\"1.2.276.0.7230010.3.1.3.8323329.8852.1440002051.835312\",\"1.2.276.0.7230010.3.1.3.8323329.8913.1440002053.472719\",\"1.2.276.0.7230010.3.1.3.8323329.10283.1440002100.119442\",\"1.2.276.0.7230010.3.1.3.8323329.10655.1440002109.662336\",\"1.2.276.0.7230010.3.1.3.8323329.11024.1440002119.559791\",\"1.2.276.0.7230010.3.1.3.8323329.9908.1440002090.541917\",\"1.2.276.0.7230010.3.1.3.8323329.14352.1440002219.325637\",\"1.2.276.0.7230010.3.1.3.8323329.14484.1440002223.355129\",\"1.2.276.0.7230010.3.1.3.8323329.14616.1440002227.389443\",\"1.2.276.0.7230010.3.1.3.8323329.14764.1440002231.557641\",\"1.2.276.0.7230010.3.1.3.8323329.16115.1440002283.903816\",\"1.2.276.0.7230010.3.1.3.8323329.16273.1440002287.895942\",\"1.2.276.0.7230010.3.1.3.8323329.16424.1440002291.926817\",\"1.2.276.0.7230010.3.1.3.8323329.16573.1440002296.25348\",\"1.2.276.0.7230010.3.1.3.8323329.18002.1440002365.914699\",\"1.2.276.0.7230010.3.1.3.8323329.18133.1440002373.731977\",\"1.2.276.0.7230010.3.1.3.8323329.18270.1440002381.495022\",\"1.2.276.0.7230010.3.1.3.8323329.18402.1440002389.692346\",\"1.2.276.0.7230010.3.1.3.8323329.19702.1440002484.332434\",\"1.2.276.0.7230010.3.1.3.8323329.19783.1440002488.528710\",\"1.2.276.0.7230010.3.1.3.8323329.19863.1440002492.568409\",\"1.2.276.0.7230010.3.1.3.8323329.19945.1440002496.803551\",\"1.2.276.0.7230010.3.1.3.8323329.20850.1440002565.196766\",\"1.2.276.0.7230010.3.1.3.8323329.20992.1440002574.745482\",\"1.2.276.0.7230010.3.1.3.8323329.21140.1440002584.160892\",\"1.2.276.0.7230010.3.1.3.8323329.21288.1440002593.502466\",\"1.2.276.0.7230010.3.1.3.8323329.22788.1440002718.954977\",\"1.2.276.0.7230010.3.1.3.8323329.22986.1440002735.393725\",\"1.2.276.0.7230010.3.1.3.8323329.23184.1440002751.869146\",\"1.2.276.0.7230010.3.1.3.8323329.23380.1440002768.328440\",\"1.2.276.0.7230010.3.1.3.8323329.25193.1440002944.757658\",\"1.2.276.0.7230010.3.1.3.8323329.25287.1440002951.209718\",\"1.2.276.0.7230010.3.1.3.8323329.25381.1440002957.617419\",\"1.2.276.0.7230010.3.1.3.8323329.25476.1440002964.610967\",\"1.2.276.0.7230010.3.1.3.8323329.26413.1440003036.112570\",\"1.2.276.0.7230010.3.1.3.8323329.26493.1440003038.427995\",\"1.2.276.0.7230010.3.1.3.8323329.26587.1440003040.838586\",\"1.2.276.0.7230010.3.1.3.8323329.26673.1440003043.428981\",\"1.2.276.0.7230010.3.1.3.8323329.27699.1440003082.71777\",\"1.2.276.0.7230010.3.1.3.8323329.27896.1440003087.279881\",\"1.2.276.0.7230010.3.1.3.8323329.28098.1440003092.430508\",\"1.2.276.0.7230010.3.1.3.8323329.28293.1440003097.533367\",\"1.2.276.0.7230010.3.1.3.8323329.30221.1440003178.555143\",\"1.2.276.0.7230010.3.1.3.8323329.30419.1440003191.894551\",\"1.2.276.0.7230010.3.1.3.8323329.30623.1440003205.89332\",\"1.2.276.0.7230010.3.1.3.8323329.30824.1440003218.358890\",\"1.2.276.0.7230010.3.1.3.8323329.32610.1440003361.868282\",\"1.2.276.0.7230010.3.1.3.8323329.32671.1440003365.521712\",\"1.2.276.0.7230010.3.1.3.8323329.32732.1440003369.470824\",\"1.2.276.0.7230010.3.1.3.8323329.326.1440003372.926746\",\"1.2.276.0.7230010.3.1.3.8323329.1029.1440003442.531877\",\"1.2.276.0.7230010.3.1.3.8323329.1119.1440003449.121953\",\"1.2.276.0.7230010.3.1.3.8323329.1215.1440003455.978829\",\"1.2.276.0.7230010.3.1.3.8323329.1305.1440003462.430084\",\"1.2.276.0.7230010.3.1.3.8323329.2405.1440003562.391081\",\"1.2.276.0.7230010.3.1.3.8323329.2602.1440003574.442792\",\"1.2.276.0.7230010.3.1.3.8323329.2763.1440003586.247509\",\"1.2.276.0.7230010.3.1.3.8323329.2916.1440003598.312054\",\"1.2.276.0.7230010.3.1.3.8323329.4600.1440003710.427472\",\"1.2.276.0.7230010.3.1.3.8323329.4723.1440003713.667235\",\"1.2.276.0.7230010.3.1.3.8323329.4845.1440003716.961146\",\"1.2.276.0.7230010.3.1.3.8323329.4967.1440003720.265840\",\"1.2.276.0.7230010.3.1.3.8323329.6141.1440003764.256389\",\"1.2.276.0.7230010.3.1.3.8323329.6223.1440003766.712100\",\"1.2.276.0.7230010.3.1.3.8323329.6305.1440003769.199654\",\"1.2.276.0.7230010.3.1.3.8323329.6385.1440003771.551835\",\"1.2.276.0.7230010.3.1.3.8323329.7319.1440003830.869197\",\"1.2.276.0.7230010.3.1.3.8323329.7464.1440003841.462390\",\"1.2.276.0.7230010.3.1.3.8323329.7612.1440003851.819824\",\"1.2.276.0.7230010.3.1.3.8323329.7756.1440003862.345734\",\"1.2.276.0.7230010.3.1.3.8323329.9120.1440003986.251961\",\"1.2.276.0.7230010.3.1.3.8323329.9208.1440003992.831778\",\"1.2.276.0.7230010.3.1.3.8323329.9296.1440003999.409397\",\"1.2.276.0.7230010.3.1.3.8323329.9385.1440004006.14525\",\"1.2.276.0.7230010.3.1.3.8323329.10451.1440004107.874118\",\"1.2.276.0.7230010.3.1.3.8323329.10683.1440004124.739109\",\"1.2.276.0.7230010.3.1.3.8323329.10918.1440004141.936505\",\"1.2.276.0.7230010.3.1.3.8323329.11152.1440004159.218252\",\"1.2.276.0.7230010.3.1.3.8323329.13246.1440004315.87298\",\"1.2.276.0.7230010.3.1.3.8323329.13336.1440004317.493692\",\"1.2.276.0.7230010.3.1.3.8323329.13426.1440004319.649436\",\"1.2.276.0.7230010.3.1.3.8323329.13517.1440004321.901241\",\"1.2.276.0.7230010.3.1.3.8323329.14724.1440004401.888205\",\"1.2.276.0.7230010.3.1.3.8323329.15075.1440004431.710298\",\"1.2.276.0.7230010.3.1.3.8323329.15426.1440004461.582693\",\"1.2.276.0.7230010.3.1.3.8323329.15824.1440004495.328691\",\"1.2.276.0.7230010.3.1.3.8323329.20883.1440004849.260420\",\"1.2.276.0.7230010.3.1.3.8323329.21031.1440004853.21979\",\"1.2.276.0.7230010.3.1.3.8323329.21177.1440004856.831083\",\"1.2.276.0.7230010.3.1.3.8323329.21323.1440004860.553756\",\"1.2.276.0.7230010.3.1.3.8323329.22726.1440004902.767253\",\"1.2.276.0.7230010.3.1.3.8323329.22814.1440004904.261022\",\"1.2.276.0.7230010.3.1.3.8323329.22900.1440004905.846590\",\"1.2.276.0.7230010.3.1.3.8323329.22987.1440004907.337513\",\"1.2.276.0.7230010.3.1.3.8323329.23886.1440004934.342398\",\"1.2.276.0.7230010.3.1.3.8323329.23970.1440004936.152878\",\"1.2.276.0.7230010.3.1.3.8323329.24050.1440004937.949605\",\"1.2.276.0.7230010.3.1.3.8323329.24131.1440004939.912878\",\"1.2.276.0.7230010.3.1.3.8323329.25115.1440004970.908554\",\"1.2.276.0.7230010.3.1.3.8323329.25306.1440004974.657646\",\"1.2.276.0.7230010.3.1.3.8323329.25476.1440004978.313928\",\"1.2.276.0.7230010.3.1.3.8323329.25644.1440004982.186431\",\"1.2.276.0.7230010.3.1.3.8323329.27286.1440005024.544278\",\"1.2.276.0.7230010.3.1.3.8323329.27376.1440005026.122038\",\"1.2.276.0.7230010.3.1.3.8323329.27468.1440005027.653559\",\"1.2.276.0.7230010.3.1.3.8323329.27559.1440005029.251402\",\"1.2.276.0.7230010.3.1.3.8323329.28618.1440005056.95960\",\"1.2.276.0.7230010.3.1.3.8323329.28849.1440005060.521933\",\"1.2.276.0.7230010.3.1.3.8323329.29086.1440005064.650053\",\"1.2.276.0.7230010.3.1.3.8323329.29319.1440005069.47950\",\"1.2.276.0.7230010.3.1.3.8323329.31419.1440005123.449037\",\"1.2.276.0.7230010.3.1.3.8323329.31542.1440005126.675494\",\"1.2.276.0.7230010.3.1.3.8323329.31649.1440005130.45870\",\"1.2.276.0.7230010.3.1.3.8323329.31756.1440005133.194251\",\"1.2.276.0.7230010.3.1.3.8323329.499.1440005174.626704\",\"1.2.276.0.7230010.3.1.3.8323329.648.1440005177.765188\",\"1.2.276.0.7230010.3.1.3.8323329.788.1440005181.52273\",\"1.2.276.0.7230010.3.1.3.8323329.934.1440005184.190395\",\"1.2.276.0.7230010.3.1.3.8323329.2633.1440005230.100082\",\"1.2.276.0.7230010.3.1.3.8323329.2899.1440005236.685974\",\"1.2.276.0.7230010.3.1.3.8323329.3158.1440005243.257541\",\"1.2.276.0.7230010.3.1.3.8323329.3501.1440005249.858684\",\"1.2.276.0.7230010.3.1.3.8323329.5936.1440005318.56104\",\"1.2.276.0.7230010.3.1.3.8323329.6062.1440005320.559865\",\"1.2.276.0.7230010.3.1.3.8323329.6188.1440005323.14334\",\"1.2.276.0.7230010.3.1.3.8323329.6305.1440005325.446104\",\"1.2.276.0.7230010.3.1.3.8323329.7481.1440005360.175077\",\"1.2.276.0.7230010.3.1.3.8323329.7559.1440005361.942714\",\"1.2.276.0.7230010.3.1.3.8323329.7637.1440005363.698103\",\"1.2.276.0.7230010.3.1.3.8323329.7715.1440005365.568293\",\"1.2.276.0.7230010.3.1.3.8323329.8685.1440005395.525097\",\"1.2.276.0.7230010.3.1.3.8323329.8902.1440005399.285153\",\"1.2.276.0.7230010.3.1.3.8323329.9106.1440005403.77409\",\"1.2.276.0.7230010.3.1.3.8323329.9311.1440005406.788112\",\"1.2.276.0.7230010.3.1.3.8323329.11236.1440005452.353355\",\"1.2.276.0.7230010.3.1.3.8323329.11379.1440005455.469290\",\"1.2.276.0.7230010.3.1.3.8323329.11511.1440005458.722557\",\"1.2.276.0.7230010.3.1.3.8323329.11650.1440005461.843824\",\"1.2.276.0.7230010.3.1.3.8323329.12956.1440005499.340396\",\"1.2.276.0.7230010.3.1.3.8323329.13042.1440005501.153034\",\"1.2.276.0.7230010.3.1.3.8323329.13128.1440005502.747426\",\"1.2.276.0.7230010.3.1.3.8323329.13217.1440005504.368507\",\"1.2.276.0.7230010.3.1.3.8323329.14106.1440005535.691368\",\"1.2.276.0.7230010.3.1.3.8323329.14165.1440005537.240227\",\"1.2.276.0.7230010.3.1.3.8323329.14224.1440005538.750207\",\"1.2.276.0.7230010.3.1.3.8323329.14284.1440005540.170431\",\"1.2.276.0.7230010.3.1.3.8323329.15032.1440005565.457174\",\"1.2.276.0.7230010.3.1.3.8323329.15174.1440005568.63384\",\"1.2.276.0.7230010.3.1.3.8323329.15316.1440005570.809533\",\"1.2.276.0.7230010.3.1.3.8323329.15456.1440005573.519303\",\"1.2.276.0.7230010.3.1.3.8323329.16797.1440005607.758677\",\"1.2.276.0.7230010.3.1.3.8323329.16883.1440005609.398865\",\"1.2.276.0.7230010.3.1.3.8323329.16967.1440005610.939172\",\"1.2.276.0.7230010.3.1.3.8323329.17053.1440005612.580139\",\"1.2.276.0.7230010.3.1.3.8323329.17985.1440005642.137087\",\"1.2.276.0.7230010.3.1.3.8323329.18110.1440005645.108001\",\"1.2.276.0.7230010.3.1.3.8323329.18234.1440005647.850619\",\"1.2.276.0.7230010.3.1.3.8323329.18359.1440005650.622424\",\"1.2.276.0.7230010.3.1.3.8323329.19624.1440005692.252349\",\"1.2.276.0.7230010.3.1.3.8323329.19793.1440005696.467710\",\"1.2.276.0.7230010.3.1.3.8323329.19955.1440005701.72038\",\"1.2.276.0.7230010.3.1.3.8323329.20116.1440005705.543159\",\"1.2.276.0.7230010.3.1.3.8323329.21837.1440005787.413079\",\"1.2.276.0.7230010.3.1.3.8323329.22113.1440005806.474007\",\"1.2.276.0.7230010.3.1.3.8323329.22388.1440005825.628582\",\"1.2.276.0.7230010.3.1.3.8323329.22661.1440005844.966184\",\"1.2.276.0.7230010.3.1.3.8323329.25108.1440006045.207962\",\"1.2.276.0.7230010.3.1.3.8323329.25256.1440006056.880941\",\"1.2.276.0.7230010.3.1.3.8323329.25410.1440006068.611749\",\"1.2.276.0.7230010.3.1.3.8323329.25564.1440006080.491279\",\"1.2.276.0.7230010.3.1.3.8323329.27046.1440006189.61402\",\"1.2.276.0.7230010.3.1.3.8323329.27163.1440006191.301669\",\"1.2.276.0.7230010.3.1.3.8323329.27284.1440006193.331330\",\"1.2.276.0.7230010.3.1.3.8323329.27395.1440006195.350485\",\"1.2.276.0.7230010.3.1.3.8323329.28761.1440006231.577637\",\"1.2.276.0.7230010.3.1.3.8323329.29091.1440006238.764005\",\"1.2.276.0.7230010.3.1.3.8323329.29423.1440006245.941049\",\"1.2.276.0.7230010.3.1.3.8323329.29756.1440006252.860610\"],\"x\":{\"__ndarray__\":\"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\",\"dtype\":\"float64\",\"shape\":[236]},\"y\":[\"QIN-HEADNECK-01-0003\",\"QIN-HEADNECK-01-0003\",\"QIN-HEADNECK-01-0003\",\"QIN-HEADNECK-01-0003\",\"QIN-HEADNECK-01-0017\",\"QIN-HEADNECK-01-0017\",\"QIN-HEADNECK-01-0017\",\"QIN-HEADNECK-01-0017\",\"QIN-HEADNECK-01-0024\",\"QIN-HEADNECK-01-0024\",\"QIN-HEADNECK-01-0024\",\"QIN-HEADNECK-01-0024\",\"QIN-HEADNECK-01-0026\",\"QIN-HEADNECK-01-0026\",\"QIN-HEADNECK-01-0026\",\"QIN-HEADNECK-01-0026\",\"QIN-HEADNECK-01-0028\",\"QIN-HEADNECK-01-0028\",\"QIN-HEADNECK-01-0028\",\"QIN-HEADNECK-01-0028\",\"QIN-HEADNECK-01-0034\",\"QIN-HEADNECK-01-0034\",\"QIN-HEADNECK-01-0034\",\"QIN-HEADNECK-01-0034\",\"QIN-HEADNECK-01-0041\",\"QIN-HEADNECK-01-0041\",\"QIN-HEADNECK-01-0041\",\"QIN-HEADNECK-01-0041\",\"QIN-HEADNECK-01-0046\",\"QIN-HEADNECK-01-0046\",\"QIN-HEADNECK-01-0046\",\"QIN-HEADNECK-01-0046\",\"QIN-HEADNECK-01-0047\",\"QIN-HEADNECK-01-0047\",\"QIN-HEADNECK-01-0047\",\"QIN-HEADNECK-01-0047\",\"QIN-HEADNECK-01-0055\",\"QIN-HEADNECK-01-0055\",\"QIN-HEADNECK-01-0055\",\"QIN-HEADNECK-01-0055\",\"QIN-HEADNECK-01-0057\",\"QIN-HEADNECK-01-0057\",\"QIN-HEADNECK-01-0057\",\"QIN-HEADNECK-01-0057\",\"QIN-HEADNECK-01-0060\",\"QIN-HEADNECK-01-0060\",\"QIN-HEADNECK-01-0060\",\"QIN-HEADNECK-01-0060\",\"QIN-HEADNECK-01-0062\",\"QIN-HEADNECK-01-0062\",\"QIN-HEADNECK-01-0062\",\"QIN-HEADNECK-01-0062\",\"QIN-HEADNECK-01-0064\",\"QIN-HEADNECK-01-0064\",\"QIN-HEADNECK-01-0064\",\"QIN-HEADNECK-01-0064\",\"QIN-HEADNECK-01-0065\",\"QIN-HEADNECK-01-0065\",\"QIN-HEADNECK-01-0065\",\"QIN-HEADNECK-01-0065\",\"QIN-HEADNECK-01-0067\",\"QIN-HEADNECK-01-0067\",\"QIN-HEADNECK-01-0067\",\"QIN-HEADNECK-01-0067\",\"QIN-HEADNECK-01-0071\",\"QIN-HEADNECK-01-0071\",\"QIN-HEADNECK-01-0071\",\"QIN-HEADNECK-01-0071\",\"QIN-HEADNECK-01-0074\",\"QIN-HEADNECK-01-0074\",\"QIN-HEADNECK-01-0074\",\"QIN-HEADNECK-01-0074\",\"QIN-HEADNECK-01-0079\",\"QIN-HEADNECK-01-0079\",\"QIN-HEADNECK-01-0079\",\"QIN-HEADNECK-01-0079\",\"QIN-HEADNECK-01-0081\",\"QIN-HEADNECK-01-0081\",\"QIN-HEADNECK-01-0081\",\"QIN-HEADNECK-01-0081\",\"QIN-HEADNECK-01-0086\",\"QIN-HEADNECK-01-0086\",\"QIN-HEADNECK-01-0086\",\"QIN-HEADNECK-01-0086\",\"QIN-HEADNECK-01-0089\",\"QIN-HEADNECK-01-0089\",\"QIN-HEADNECK-01-0089\",\"QIN-HEADNECK-01-0089\",\"QIN-HEADNECK-01-0091\",\"QIN-HEADNECK-01-0091\",\"QIN-HEADNECK-01-0091\",\"QIN-HEADNECK-01-0091\",\"QIN-HEADNECK-01-0098\",\"QIN-HEADNECK-01-0098\",\"QIN-HEADNECK-01-0098\",\"QIN-HEADNECK-01-0098\",\"QIN-HEADNECK-01-0100\",\"QIN-HEADNECK-01-0100\",\"QIN-HEADNECK-01-0100\",\"QIN-HEADNECK-01-0100\",\"QIN-HEADNECK-01-0112\",\"QIN-HEADNECK-01-0112\",\"QIN-HEADNECK-01-0112\",\"QIN-HEADNECK-01-0112\",\"QIN-HEADNECK-01-0115\",\"QIN-HEADNECK-01-0115\",\"QIN-HEADNECK-01-0115\",\"QIN-HEADNECK-01-0115\",\"QIN-HEADNECK-01-0116\",\"QIN-HEADNECK-01-0116\",\"QIN-HEADNECK-01-0116\",\"QIN-HEADNECK-01-0116\",\"QIN-HEADNECK-01-0118\",\"QIN-HEADNECK-01-0118\",\"QIN-HEADNECK-01-0118\",\"QIN-HEADNECK-01-0118\",\"QIN-HEADNECK-01-0120\",\"QIN-HEADNECK-01-0120\",\"QIN-HEADNECK-01-0120\",\"QIN-HEADNECK-01-0120\",\"QIN-HEADNECK-01-0127\",\"QIN-HEADNECK-01-0127\",\"QIN-HEADNECK-01-0127\",\"QIN-HEADNECK-01-0127\",\"QIN-HEADNECK-01-0129\",\"QIN-HEADNECK-01-0129\",\"QIN-HEADNECK-01-0129\",\"QIN-HEADNECK-01-0129\",\"QIN-HEADNECK-01-0131\",\"QIN-HEADNECK-01-0131\",\"QIN-HEADNECK-01-0131\",\"QIN-HEADNECK-01-0131\",\"QIN-HEADNECK-01-0135\",\"QIN-HEADNECK-01-0135\",\"QIN-HEADNECK-01-0135\",\"QIN-HEADNECK-01-0135\",\"QIN-HEADNECK-01-0137\",\"QIN-HEADNECK-01-0137\",\"QIN-HEADNECK-01-0137\",\"QIN-HEADNECK-01-0137\",\"QIN-HEADNECK-01-0139\",\"QIN-HEADNECK-01-0139\",\"QIN-HEADNECK-01-0139\",\"QIN-HEADNECK-01-0139\",\"QIN-HEADNECK-01-0140\",\"QIN-HEADNECK-01-0140\",\"QIN-HEADNECK-01-0140\",\"QIN-HEADNECK-01-0140\",\"QIN-HEADNECK-01-0157\",\"QIN-HEADNECK-01-0157\",\"QIN-HEADNECK-01-0157\",\"QIN-HEADNECK-01-0157\",\"QIN-HEADNECK-01-0164\",\"QIN-HEADNECK-01-0164\",\"QIN-HEADNECK-01-0164\",\"QIN-HEADNECK-01-0164\",\"QIN-HEADNECK-01-0165\",\"QIN-HEADNECK-01-0165\",\"QIN-HEADNECK-01-0165\",\"QIN-HEADNECK-01-0165\",\"QIN-HEADNECK-01-0172\",\"QIN-HEADNECK-01-0172\",\"QIN-HEADNECK-01-0172\",\"QIN-HEADNECK-01-0172\",\"QIN-HEADNECK-01-0180\",\"QIN-HEADNECK-01-0180\",\"QIN-HEADNECK-01-0180\",\"QIN-HEADNECK-01-0180\",\"QIN-HEADNECK-01-0184\",\"QIN-HEADNECK-01-0184\",\"QIN-HEADNECK-01-0184\",\"QIN-HEADNECK-01-0184\",\"QIN-HEADNECK-01-0186\",\"QIN-HEADNECK-01-0186\",\"QIN-HEADNECK-01-0186\",\"QIN-HEADNECK-01-0186\",\"QIN-HEADNECK-01-0190\",\"QIN-HEADNECK-01-0190\",\"QIN-HEADNECK-01-0190\",\"QIN-HEADNECK-01-0190\",\"QIN-HEADNECK-01-0199\",\"QIN-HEADNECK-01-0199\",\"QIN-HEADNECK-01-0199\",\"QIN-HEADNECK-01-0199\",\"QIN-HEADNECK-01-0200\",\"QIN-HEADNECK-01-0200\",\"QIN-HEADNECK-01-0200\",\"QIN-HEADNECK-01-0200\",\"QIN-HEADNECK-01-0201\",\"QIN-HEADNECK-01-0201\",\"QIN-HEADNECK-01-0201\",\"QIN-HEADNECK-01-0201\",\"QIN-HEADNECK-01-0203\",\"QIN-HEADNECK-01-0203\",\"QIN-HEADNECK-01-0203\",\"QIN-HEADNECK-01-0203\",\"QIN-HEADNECK-01-0212\",\"QIN-HEADNECK-01-0212\",\"QIN-HEADNECK-01-0212\",\"QIN-HEADNECK-01-0212\",\"QIN-HEADNECK-01-0214\",\"QIN-HEADNECK-01-0214\",\"QIN-HEADNECK-01-0214\",\"QIN-HEADNECK-01-0214\",\"QIN-HEADNECK-01-0220\",\"QIN-HEADNECK-01-0220\",\"QIN-HEADNECK-01-0220\",\"QIN-HEADNECK-01-0220\",\"QIN-HEADNECK-01-0222\",\"QIN-HEADNECK-01-0222\",\"QIN-HEADNECK-01-0222\",\"QIN-HEADNECK-01-0222\",\"QIN-HEADNECK-01-0224\",\"QIN-HEADNECK-01-0224\",\"QIN-HEADNECK-01-0224\",\"QIN-HEADNECK-01-0224\",\"QIN-HEADNECK-01-0228\",\"QIN-HEADNECK-01-0228\",\"QIN-HEADNECK-01-0228\",\"QIN-HEADNECK-01-0228\",\"QIN-HEADNECK-01-0239\",\"QIN-HEADNECK-01-0239\",\"QIN-HEADNECK-01-0239\",\"QIN-HEADNECK-01-0239\",\"QIN-HEADNECK-01-0244\",\"QIN-HEADNECK-01-0244\",\"QIN-HEADNECK-01-0244\",\"QIN-HEADNECK-01-0244\",\"QIN-HEADNECK-01-0275\",\"QIN-HEADNECK-01-0275\",\"QIN-HEADNECK-01-0275\",\"QIN-HEADNECK-01-0275\",\"QIN-HEADNECK-01-0366\",\"QIN-HEADNECK-01-0366\",\"QIN-HEADNECK-01-0366\",\"QIN-HEADNECK-01-0366\"]}},\"id\":\"82ea2e7c-0248-4e95-8035-cbc276033b02\",\"type\":\"ColumnDataSource\"},{\"attributes\":{\"callback\":{\"id\":\"7b8d4e4c-39bd-4599-82df-76494a0f061c\",\"type\":\"OpenURL\"},\"plot\":{\"id\":\"d8c23926-65cf-4744-8779-3e4a3ac8e832\",\"subtype\":\"Figure\",\"type\":\"Plot\"}},\"id\":\"0ceeebf3-e8bf-4e50-a6f9-a016d7f8259a\",\"type\":\"TapTool\"},{\"attributes\":{},\"id\":\"0bac5e9b-c97f-4205-8b4e-83bfe91ca2b8\",\"type\":\"ToolEvents\"},{\"attributes\":{\"active_drag\":\"auto\",\"active_inspect\":\"auto\",\"active_scroll\":\"auto\",\"active_tap\":\"auto\",\"tools\":[{\"id\":\"8de8d355-5144-4ee0-9df8-2ebf138de75f\",\"type\":\"HoverTool\"},{\"id\":\"3b36a16d-f210-4e9d-98ef-50d16224f36b\",\"type\":\"WheelZoomTool\"},{\"id\":\"81f6bad0-34c1-4acd-8eee-290057d6fb50\",\"type\":\"BoxZoomTool\"},{\"id\":\"9d6b0a7d-f58a-43d6-87c8-a122fbbe9150\",\"type\":\"ResetTool\"},{\"id\":\"0ceeebf3-e8bf-4e50-a6f9-a016d7f8259a\",\"type\":\"TapTool\"},{\"id\":\"5a78d62e-d89b-410c-898c-523918a41434\",\"type\":\"PanTool\"}]},\"id\":\"d530be2c-8686-40ec-bfc9-0b0ae5ead6c5\",\"type\":\"Toolbar\"},{\"attributes\":{},\"id\":\"115c2e35-3259-49b8-b725-d504c0017931\",\"type\":\"LinearScale\"},{\"attributes\":{},\"id\":\"6549bf4f-b531-443f-b4ec-0ed82e58a160\",\"type\":\"CategoricalScale\"},{\"attributes\":{},\"id\":\"616a0eef-5ae5-4c08-8b64-d21d73ec5ed2\",\"type\":\"CategoricalTickFormatter\"},{\"attributes\":{\"data_source\":{\"id\":\"82ea2e7c-0248-4e95-8035-cbc276033b02\",\"type\":\"ColumnDataSource\"},\"glyph\":{\"id\":\"16e08a40-3c0a-4f82-a4ee-5b934f052ce1\",\"type\":\"Circle\"},\"hover_glyph\":null,\"muted_glyph\":null,\"nonselection_glyph\":{\"id\":\"cb745d8f-2843-4d98-a6c4-fcbea928417e\",\"type\":\"Circle\"},\"selection_glyph\":null},\"id\":\"11200e55-fbbf-4cf1-a415-4bc8eecb19db\",\"type\":\"GlyphRenderer\"},{\"attributes\":{\"plot\":{\"id\":\"d8c23926-65cf-4744-8779-3e4a3ac8e832\",\"subtype\":\"Figure\",\"type\":\"Plot\"},\"ticker\":{\"id\":\"cc3f8bf7-939e-429f-a66a-550564828299\",\"type\":\"BasicTicker\"}},\"id\":\"84bb1c12-dd09-45a4-bff5-a89993868352\",\"type\":\"Grid\"},{\"attributes\":{\"axis_label\":\"Volume, Milliliter\",\"formatter\":{\"id\":\"94eb06b0-b2ed-45b0-bb1f-dc3c0b0e975c\",\"type\":\"BasicTickFormatter\"},\"plot\":{\"id\":\"d8c23926-65cf-4744-8779-3e4a3ac8e832\",\"subtype\":\"Figure\",\"type\":\"Plot\"},\"ticker\":{\"id\":\"cc3f8bf7-939e-429f-a66a-550564828299\",\"type\":\"BasicTicker\"}},\"id\":\"746388c5-89db-4caa-b20d-17b9103683b8\",\"type\":\"LinearAxis\"},{\"attributes\":{\"plot\":{\"id\":\"d8c23926-65cf-4744-8779-3e4a3ac8e832\",\"subtype\":\"Figure\",\"type\":\"Plot\"}},\"id\":\"9d6b0a7d-f58a-43d6-87c8-a122fbbe9150\",\"type\":\"ResetTool\"},{\"attributes\":{\"bottom_units\":\"screen\",\"fill_alpha\":{\"value\":0.5},\"fill_color\":{\"value\":\"lightgrey\"},\"left_units\":\"screen\",\"level\":\"overlay\",\"line_alpha\":{\"value\":1.0},\"line_color\":{\"value\":\"black\"},\"line_dash\":[4,4],\"line_width\":{\"value\":2},\"plot\":null,\"render_mode\":\"css\",\"right_units\":\"screen\",\"top_units\":\"screen\"},\"id\":\"e1830121-be0e-4ce3-9387-58d29a5705a5\",\"type\":\"BoxAnnotation\"},{\"attributes\":{\"plot\":null,\"text\":\"Volume segmentation consistency by User1; manual (red circles) and SemiAutomatic (blue circles)\"},\"id\":\"df4394af-201c-417c-a9b7-0976163a407e\",\"type\":\"Title\"},{\"attributes\":{},\"id\":\"02c2a4fb-0e36-4e11-b4f7-c00d462bbd30\",\"type\":\"CategoricalTicker\"}],\"root_ids\":[\"d8c23926-65cf-4744-8779-3e4a3ac8e832\"]},\"title\":\"Bokeh Application\",\"version\":\"0.12.6\"}};\n",
       "            var render_items = [{\"docid\":\"736bbbd0-6261-42fa-8862-03c75abff5ae\",\"elementid\":\"1293f256-a1e3-45d8-acf1-6d08525d3b87\",\"modelid\":\"d8c23926-65cf-4744-8779-3e4a3ac8e832\"}];\n",
       "            \n",
       "            Bokeh.embed.embed_items(docs_json, render_items);\n",
       "          };\n",
       "          if (document.readyState != \"loading\") fn();\n",
       "          else document.addEventListener(\"DOMContentLoaded\", fn);\n",
       "        })();\n",
       "      },\n",
       "      function(Bokeh) {\n",
       "      }\n",
       "    ];\n",
       "  \n",
       "    function run_inline_js() {\n",
       "      \n",
       "      if ((window.Bokeh !== undefined) || (force === true)) {\n",
       "        for (var i = 0; i < inline_js.length; i++) {\n",
       "          inline_js[i](window.Bokeh);\n",
       "        }if (force === true) {\n",
       "          display_loaded();\n",
       "        }} else if (Date.now() < window._bokeh_timeout) {\n",
       "        setTimeout(run_inline_js, 100);\n",
       "      } else if (!window._bokeh_failed_load) {\n",
       "        console.log(\"Bokeh: BokehJS failed to load within specified timeout.\");\n",
       "        window._bokeh_failed_load = true;\n",
       "      } else if (force !== true) {\n",
       "        var cell = $(document.getElementById(\"1293f256-a1e3-45d8-acf1-6d08525d3b87\")).parents('.cell').data().cell;\n",
       "        cell.output_area.append_execute_result(NB_LOAD_WARNING)\n",
       "      }\n",
       "  \n",
       "    }\n",
       "  \n",
       "    if (window._bokeh_is_loading === 0) {\n",
       "      console.log(\"Bokeh: BokehJS loaded, going straight to plotting\");\n",
       "      run_inline_js();\n",
       "    } else {\n",
       "      load_libs(js_urls, function() {\n",
       "        console.log(\"Bokeh: BokehJS plotting callback run at\", now());\n",
       "        run_inline_js();\n",
       "      });\n",
       "    }\n",
       "  }(this));\n",
       "</script>"
      ]
     },
     "metadata": {},
     "output_type": "display_data"
    }
   ],
   "source": [
    "from bokeh.models import ColumnDataSource, OpenURL, TapTool\n",
    "from bokeh.plotting import figure, output_file, show\n",
    "from bokeh.io import output_notebook\n",
    "from bokeh.colors import RGB\n",
    "\n",
    "from bokeh.models import HoverTool, PanTool, WheelZoomTool, BoxZoomTool, ResetTool, TapTool\n",
    "\n",
    "output_notebook()\n",
    "\n",
    "volume = []\n",
    "user = []\n",
    "method = []\n",
    "sesssion = []\n",
    "subject = []\n",
    "\n",
    "SR_merged = pd.merge(SR_merged, segReferences)\n",
    "\n",
    "subset = SR_merged[SR_merged[\"PersonObserverName\"]==\"User1\"]\n",
    "subset = subset[subset[\"Finding_CodeMeaning\"]==\"Neoplasm, Primary\"]\n",
    "subset = subset[subset[\"quantity_CodeMeaning\"]==\"Volume\"]\n",
    "#subset = subset[subset[\"activitySession\"]==1]\n",
    "#subset = subset[subset[\"segmentationToolType\"]==\"SemiAuto\"]\n",
    "\n",
    "#subset.sort_values(\"value\", inplace=True)\n",
    "\n",
    "volumes = subset[\"value\"].values\n",
    "observers = subset[\"PersonObserverName\"].values\n",
    "subjects = subset[\"PatientID\"].values\n",
    "\n",
    "subset[\"segmentationToolType\"].unique()\n",
    "\n",
    "colormap = {'1-Manual': 'red', '2-Manual': 'red', '1-SemiAuto': 'blue', '2-SemiAuto': 'blue'}\n",
    "colors = [colormap[x] for x in (subset[\"activitySession\"].map(str)+'-'+subset['segmentationToolType']).tolist()]\n",
    "\n",
    "source = ColumnDataSource(data=dict(\n",
    "    x=volumes,\n",
    "    y=subjects,\n",
    "    color=colors,\n",
    "    seriesUID=subset[\"ReferencedSeriesInstanceUID\"]\n",
    "    ))\n",
    "\n",
    "hover = HoverTool(tooltips=[\n",
    "    (\"(Volume, Subject)\", \"($x, $y)\")\n",
    "])\n",
    "\n",
    "wZoom = WheelZoomTool()\n",
    "bZoom = BoxZoomTool()\n",
    "reset = ResetTool()\n",
    "tap = TapTool()\n",
    "pan = PanTool()\n",
    "\n",
    "p = figure(x_range=[np.min(volumes),np.max(volumes)],y_range=subjects.tolist(), tools = [hover, wZoom, bZoom, reset, tap, pan],title=\"Volume segmentation consistency by User1; manual (red circles) and SemiAutomatic (blue circles)\")\n",
    "p.yaxis.axis_label = \"PatientID\"\n",
    "p.xaxis.axis_label = subset[\"quantity_CodeMeaning\"].values[0]+', '+subset['units_CodeMeaning'].values[0]\n",
    "\n",
    "p.circle('x','y',color='color',source=source)\n",
    "\n",
    "url = \"http://pieper.github.com/dcmjs/examples/qiicr/?seriesUID=@seriesUID\"\n",
    "taptool = p.select(type=TapTool)\n",
    "taptool.callback = OpenURL(url=url)\n",
    "\n",
    "show(p)"
   ]
  },
  {
   "cell_type": "code",
   "execution_count": null,
   "metadata": {
    "collapsed": true
   },
   "outputs": [],
   "source": []
  }
 ],
 "metadata": {
  "kernelspec": {
   "display_name": "Python 3",
   "language": "python",
   "name": "python3"
  },
  "language_info": {
   "codemirror_mode": {
    "name": "ipython",
    "version": 3
   },
   "file_extension": ".py",
   "mimetype": "text/x-python",
   "name": "python",
   "nbconvert_exporter": "python",
   "pygments_lexer": "ipython3",
   "version": "3.5.3"
  }
 },
 "nbformat": 4,
 "nbformat_minor": 2
}
