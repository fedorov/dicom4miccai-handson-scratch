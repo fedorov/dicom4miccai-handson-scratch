{
 "cells": [
  {
   "cell_type": "code",
   "execution_count": 83,
   "metadata": {
    "collapsed": true
   },
   "outputs": [],
   "source": [
    "import pandas as pd\n",
    "import numpy as np\n",
    "import matplotlib.pyplot as plt\n",
    "\n",
    "def checkDFValidity(df):\n",
    "  d1 = df.shape[0]\n",
    "  d2 = df['SOPInstanceUID'].unique().shape[0]\n",
    "  assert(d1 == d2)\n",
    "\n",
    "clinical_df = pd.read_csv('CD9.tsv', sep='\\t')\n",
    "ct_df = pd.read_csv('CT.csv', sep='\\t', low_memory=False)\n",
    "pt_df = pd.read_csv('PT.csv', sep='\\t', low_memory=False)\n",
    "compositeContext_df=pd.read_csv('CompositeContext.csv', sep='\\t')\n",
    "#df[\"Biopsy_DateOfProcedure\"] = pd.datetime(df[\"Biopsy_DateOfProcedure\"])\n",
    "#pd.to_datetime(df.Biopsy_DateOfProcedure)"
   ]
  },
  {
   "cell_type": "code",
   "execution_count": 84,
   "metadata": {
    "collapsed": true
   },
   "outputs": [],
   "source": [
    "\n",
    "checkDFValidity(ct_df)\n",
    "checkDFValidity(pt_df)\n",
    "#checkDFValidity(clinical_df)\n",
    "checkDFValidity(compositeContext_df)"
   ]
  },
  {
   "cell_type": "code",
   "execution_count": 85,
   "metadata": {
    "collapsed": true
   },
   "outputs": [],
   "source": [
    "#clinical_df.set_index('SOPInstanceUID',inplace=True)\n",
    "#ct_df.set_index('SOPInstanceUID',inplace=True)\n",
    "#pt_df.set_index('SOPInstanceUID',inplace=True)\n",
    "#compositeContext_df.set_index('SOPInstanceUID',inplace=True)\n"
   ]
  },
  {
   "cell_type": "code",
   "execution_count": 86,
   "metadata": {},
   "outputs": [
    {
     "data": {
      "text/plain": [
       "Index(['Columns', 'ConvolutionKernel', 'FrameOfReferenceUID',\n",
       "       'ImageOrientationPatient', 'ImagePositionPatient', 'PixelSpacing',\n",
       "       'ReconstructionMethod', 'Rows', 'SOPInstanceUID', 'SliceThickness'],\n",
       "      dtype='object')"
      ]
     },
     "execution_count": 86,
     "metadata": {},
     "output_type": "execute_result"
    }
   ],
   "source": [
    "pt_df.columns"
   ]
  },
  {
   "cell_type": "code",
   "execution_count": 87,
   "metadata": {
    "collapsed": true
   },
   "outputs": [],
   "source": [
    "ct_df=pd.merge(ct_df,compositeContext_df,on=\"SOPInstanceUID\")"
   ]
  },
  {
   "cell_type": "code",
   "execution_count": 88,
   "metadata": {
    "collapsed": true
   },
   "outputs": [],
   "source": [
    "pt_df=pd.merge(pt_df,compositeContext_df,on=\"SOPInstanceUID\")"
   ]
  },
  {
   "cell_type": "code",
   "execution_count": 89,
   "metadata": {},
   "outputs": [
    {
     "data": {
      "text/plain": [
       "Index(['Columns', 'ConvolutionKernel', 'DistanceSourceToDetector',\n",
       "       'DistanceSourceToPatient', 'Exposure', 'ExposureTime', 'FilterType',\n",
       "       'FocalSpots', 'FrameOfReferenceUID', 'GeneratorPower',\n",
       "       'ImageOrientationPatient', 'ImagePositionPatient', 'PixelSpacing',\n",
       "       'ReconstructionDiameter', 'RotationDirection', 'Rows', 'SOPInstanceUID',\n",
       "       'SliceThickness', 'XRayTubeCurrent', 'BodyPartExamined',\n",
       "       'ManufacturerModelName', 'Modality', 'PatientAge', 'PatientID',\n",
       "       'PatientName', 'PatientSex', 'PatientWeight', 'SOPClassUID',\n",
       "       'SeriesDate', 'SeriesDescription', 'SeriesInstanceUID', 'SeriesTime',\n",
       "       'SoftwareVersions', 'StudyDate', 'StudyDescription', 'StudyTime'],\n",
       "      dtype='object')"
      ]
     },
     "execution_count": 89,
     "metadata": {},
     "output_type": "execute_result"
    }
   ],
   "source": [
    "ct_df.columns"
   ]
  },
  {
   "cell_type": "code",
   "execution_count": 90,
   "metadata": {},
   "outputs": [
    {
     "data": {
      "text/plain": [
       "(487,)"
      ]
     },
     "execution_count": 90,
     "metadata": {},
     "output_type": "execute_result"
    }
   ],
   "source": [
    "ct_df['SeriesInstanceUID'].unique().shape  "
   ]
  },
  {
   "cell_type": "code",
   "execution_count": 91,
   "metadata": {},
   "outputs": [
    {
     "data": {
      "text/plain": [
       "(484,)"
      ]
     },
     "execution_count": 91,
     "metadata": {},
     "output_type": "execute_result"
    }
   ],
   "source": [
    "pt_df['SeriesInstanceUID'].unique().shape  "
   ]
  },
  {
   "cell_type": "code",
   "execution_count": 92,
   "metadata": {},
   "outputs": [
    {
     "name": "stdout",
     "output_type": "stream",
     "text": [
      "Total geometrically inconsistent series:26 out of 487\n"
     ]
    }
   ],
   "source": [
    "import geometryChecker, imp\n",
    "imp.reload(geometryChecker)\n",
    "totalCTfailures = 0\n",
    "ctChecks_df = pd.DataFrame(columns=[\"SeriesInstanceUID\",\"computedSliceThickness\",\"SliceThickness\",\"geometryOK\"])\n",
    "locCnt = 0\n",
    "seriesUIDs = pd.unique(ct_df[\"SeriesInstanceUID\"])\n",
    "for seriesUID in seriesUIDs:\n",
    "  series = ct_df[ct_df[\"SeriesInstanceUID\"]==seriesUID]\n",
    "  checker = geometryChecker.SeriesGeometryChecker(series)\n",
    "  geometryOK = checker.geometryOK()\n",
    "  ctChecks_df.loc[locCnt] = [seriesUID,checker.computedSliceThickness,series[\"SliceThickness\"].iloc[0],geometryOK]\n",
    "  locCnt = locCnt+1\n",
    "  if not geometryOK:\n",
    "    # print(\"Problem for series \"+seriesUID+\" patient \"+series[\"PatientID\"].iloc[0]+\" date \"+str(series[\"StudyDate\"].iloc[0])+\" total instances \"+str(series.shape[0]))\n",
    "    totalCTfailures = totalCTfailures+1\n",
    "  \n",
    "print(\"Total geometrically inconsistent series:\"+str(totalCTfailures)+\" out of \"+str(seriesUIDs.shape[0]))\n"
   ]
  },
  {
   "cell_type": "code",
   "execution_count": 93,
   "metadata": {},
   "outputs": [
    {
     "data": {
      "image/png": "[encoded data removed]",
      "text/plain": [
       "<matplotlib.figure.Figure at 0x106ca9978>"
      ]
     },
     "metadata": {},
     "output_type": "display_data"
    }
   ],
   "source": [
    "import matplotlib.pyplot as plt\n",
    "validSeries=ctChecks_df[ctChecks_df[\"geometryOK\"]==True]\n",
    "plt.plot(ctChecks_df[\"computedSliceThickness\"], ctChecks_df[\"SliceThickness\"],'ro')\n",
    "plt.plot(np.linspace(0,5.5),np.linspace(0,5.5))\n",
    "plt.axis([0,5.5,0,5.5])\n",
    "plt.xlabel('computed slice thickness, mm')\n",
    "plt.ylabel('SliceThickness, mm')\n",
    "plt.show()"
   ]
  },
  {
   "cell_type": "code",
   "execution_count": 94,
   "metadata": {},
   "outputs": [
    {
     "data": {
      "image/png": "[encoded data removed]",
      "text/plain": [
       "<matplotlib.figure.Figure at 0x113131a20>"
      ]
     },
     "metadata": {},
     "output_type": "display_data"
    }
   ],
   "source": [
    "ct_df_noDuplicates = ct_df.drop_duplicates(subset=\"SeriesInstanceUID\")\n",
    "ct_df_noDuplicates[\"PatientWeight\"].describe()\n",
    "\n",
    "vals = [v for v in ct_df_noDuplicates[\"PatientWeight\"].values if not np.isnan(v)]\n",
    "plt.hist(vals)\n",
    "plt.show()"
   ]
  },
  {
   "cell_type": "code",
   "execution_count": 95,
   "metadata": {},
   "outputs": [
    {
     "ename": "TypeError",
     "evalue": "ufunc 'isnan' not supported for the input types, and the inputs could not be safely coerced to any supported types according to the casting rule ''safe''",
     "output_type": "error",
     "traceback": [
      "\u001b[0;31m---------------------------------------------------------------------------\u001b[0m",
      "\u001b[0;31mTypeError\u001b[0m                                 Traceback (most recent call last)",
      "\u001b[0;32m<ipython-input-95-de87ab941ff8>\u001b[0m in \u001b[0;36m<module>\u001b[0;34m()\u001b[0m\n\u001b[0;32m----> 1\u001b[0;31m \u001b[0mvals\u001b[0m \u001b[0;34m=\u001b[0m \u001b[0;34m[\u001b[0m\u001b[0mv\u001b[0m \u001b[0;32mfor\u001b[0m \u001b[0mv\u001b[0m \u001b[0;32min\u001b[0m \u001b[0mct_df_noDuplicates\u001b[0m\u001b[0;34m[\u001b[0m\u001b[0;34m\"RotationDirection\"\u001b[0m\u001b[0;34m]\u001b[0m\u001b[0;34m.\u001b[0m\u001b[0mvalues\u001b[0m \u001b[0;32mif\u001b[0m \u001b[0;32mnot\u001b[0m \u001b[0mnp\u001b[0m\u001b[0;34m.\u001b[0m\u001b[0misnan\u001b[0m\u001b[0;34m(\u001b[0m\u001b[0mv\u001b[0m\u001b[0;34m)\u001b[0m\u001b[0;34m]\u001b[0m\u001b[0;34m\u001b[0m\u001b[0m\n\u001b[0m\u001b[1;32m      2\u001b[0m \u001b[0mplt\u001b[0m\u001b[0;34m.\u001b[0m\u001b[0mhist\u001b[0m\u001b[0;34m(\u001b[0m\u001b[0mvals\u001b[0m\u001b[0;34m)\u001b[0m\u001b[0;34m\u001b[0m\u001b[0m\n\u001b[1;32m      3\u001b[0m \u001b[0mplt\u001b[0m\u001b[0;34m.\u001b[0m\u001b[0mshow\u001b[0m\u001b[0;34m(\u001b[0m\u001b[0;34m)\u001b[0m\u001b[0;34m\u001b[0m\u001b[0m\n",
      "\u001b[0;32m<ipython-input-95-de87ab941ff8>\u001b[0m in \u001b[0;36m<listcomp>\u001b[0;34m(.0)\u001b[0m\n\u001b[0;32m----> 1\u001b[0;31m \u001b[0mvals\u001b[0m \u001b[0;34m=\u001b[0m \u001b[0;34m[\u001b[0m\u001b[0mv\u001b[0m \u001b[0;32mfor\u001b[0m \u001b[0mv\u001b[0m \u001b[0;32min\u001b[0m \u001b[0mct_df_noDuplicates\u001b[0m\u001b[0;34m[\u001b[0m\u001b[0;34m\"RotationDirection\"\u001b[0m\u001b[0;34m]\u001b[0m\u001b[0;34m.\u001b[0m\u001b[0mvalues\u001b[0m \u001b[0;32mif\u001b[0m \u001b[0;32mnot\u001b[0m \u001b[0mnp\u001b[0m\u001b[0;34m.\u001b[0m\u001b[0misnan\u001b[0m\u001b[0;34m(\u001b[0m\u001b[0mv\u001b[0m\u001b[0;34m)\u001b[0m\u001b[0;34m]\u001b[0m\u001b[0;34m\u001b[0m\u001b[0m\n\u001b[0m\u001b[1;32m      2\u001b[0m \u001b[0mplt\u001b[0m\u001b[0;34m.\u001b[0m\u001b[0mhist\u001b[0m\u001b[0;34m(\u001b[0m\u001b[0mvals\u001b[0m\u001b[0;34m)\u001b[0m\u001b[0;34m\u001b[0m\u001b[0m\n\u001b[1;32m      3\u001b[0m \u001b[0mplt\u001b[0m\u001b[0;34m.\u001b[0m\u001b[0mshow\u001b[0m\u001b[0;34m(\u001b[0m\u001b[0;34m)\u001b[0m\u001b[0;34m\u001b[0m\u001b[0m\n",
      "\u001b[0;31mTypeError\u001b[0m: ufunc 'isnan' not supported for the input types, and the inputs could not be safely coerced to any supported types according to the casting rule ''safe''"
     ]
    }
   ],
   "source": [
    "vals = [v for v in ct_df_noDuplicates[\"RotationDirection\"].values if not np.isnan(v)]\n",
    "plt.hist(vals)\n",
    "plt.show()"
   ]
  },
  {
   "cell_type": "code",
   "execution_count": null,
   "metadata": {
    "collapsed": true
   },
   "outputs": [],
   "source": []
  }
 ],
 "metadata": {
  "kernelspec": {
   "display_name": "Python 3",
   "language": "python",
   "name": "python3"
  },
  "language_info": {
   "codemirror_mode": {
    "name": "ipython",
    "version": 3
   },
   "file_extension": ".py",
   "mimetype": "text/x-python",
   "name": "python",
   "nbconvert_exporter": "python",
   "pygments_lexer": "ipython3",
   "version": "3.5.3"
  }
 },
 "nbformat": 4,
 "nbformat_minor": 2
}
